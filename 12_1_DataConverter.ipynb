{
  "nbformat": 4,
  "nbformat_minor": 0,
  "metadata": {
    "colab": {
      "name": "11_22_DataConverter.ipynb",
      "provenance": [],
      "collapsed_sections": [],
      "toc_visible": true,
      "include_colab_link": true
    },
    "kernelspec": {
      "name": "python3",
      "display_name": "Python 3"
    }
  },
  "cells": [
    {
      "cell_type": "markdown",
      "metadata": {
        "id": "view-in-github",
        "colab_type": "text"
      },
      "source": [
        "<a href=\"https://colab.research.google.com/github/mmorales20/CS470/blob/master/12_1_DataConverter.ipynb\" target=\"_parent\"><img src=\"https://colab.research.google.com/assets/colab-badge.svg\" alt=\"Open In Colab\"/></a>"
      ]
    },
    {
      "cell_type": "markdown",
      "metadata": {
        "id": "f9rWsUqtSF6m",
        "colab_type": "toc"
      },
      "source": [
        ">[Packages](#scrollTo=tkKZZHqhNzuN)\n",
        "\n",
        ">[Reading in CSV Files](#scrollTo=q7zSBFfcPXG_)\n",
        "\n",
        ">[Categorical Data Finder](#scrollTo=LX7CdYrqTwe8)\n",
        "\n",
        ">[Numeric Data Finder](#scrollTo=5yOTozz4UfvX)\n",
        "\n",
        ">[Random ID Generator](#scrollTo=XCNPi5PvWh2F)\n",
        "\n",
        ">[SDT Changes](#scrollTo=BeheiUGPVn75)\n",
        "\n",
        ">[Random Color Generator](#scrollTo=wSVYcrMuWl-U)\n",
        "\n",
        ">[Runner](#scrollTo=zc5tcEDYWyw5)\n",
        "\n",
        ">[How to Make a .exe](#scrollTo=Tu14M_iWRnyb)\n",
        "\n"
      ]
    },
    {
      "cell_type": "markdown",
      "metadata": {
        "id": "tkKZZHqhNzuN",
        "colab_type": "text"
      },
      "source": [
        "# Packages\n"
      ]
    },
    {
      "cell_type": "code",
      "metadata": {
        "id": "bMeWolURIfes",
        "colab_type": "code",
        "colab": {}
      },
      "source": [
        "#Download packages\n",
        "import pandas as pd\n",
        "import re\n",
        "import xml.etree.ElementTree as ET\n",
        "\n",
        "#Download package for File Explorer pop-up\n",
        "from tkinter import filedialog\n",
        "from tkinter import *\n",
        "\n",
        "#Download package for user input pop-up\n",
        "from tkinter import simpledialog\n",
        "\n",
        "#Download package to parse through and modify XML tree\n",
        "from random import randint\n",
        "from lxml import etree\n",
        "\n",
        "import os"
      ],
      "execution_count": 0,
      "outputs": []
    },
    {
      "cell_type": "markdown",
      "metadata": {
        "id": "q7zSBFfcPXG_",
        "colab_type": "text"
      },
      "source": [
        "# Reading in CSV Files"
      ]
    },
    {
      "cell_type": "code",
      "metadata": {
        "id": "KrFhuCyWNh4-",
        "colab_type": "code",
        "colab": {}
      },
      "source": [
        "#Display a file explorer and allow user to select a CSV file that contains the data\n",
        "def selectCSVFile(sdtTemplate):\n",
        "    root = Tk()\n",
        "    root.filename =  filedialog.askopenfilename(initialdir = \"/\",title = \"Select CSV file\",filetypes = ((\"text files\",\"*.csv\"),(\"all files\",\"*.*\")))\n",
        "    \n",
        "    changePath(root.filename,sdtTemplate)\n",
        "    root.destroy()\n",
        "    return(root.filename)\n",
        "\n",
        " #Test: do not allow user to select any file type other than CSV"
      ],
      "execution_count": 0,
      "outputs": []
    },
    {
      "cell_type": "code",
      "metadata": {
        "id": "vWP8el_4OzkA",
        "colab_type": "code",
        "colab": {}
      },
      "source": [
        "#Change the path in the SDT file based on the CSV file selected by the user\n",
        "def changePath(path,sdtTemplate):\n",
        "    tree = ET.parse(sdtTemplate)\n",
        "    root = tree.getroot() \n",
        "    \n",
        "    for elem in root.findall('.//Datasources/Datasource/Host'):\n",
        "        elem.text=path\n",
        "    \n",
        "    for elem in root.findall('.//Datasources/Datasource/Name'):\n",
        "        elem.text=path\n",
        "        \n",
        "    tree.write(sdtTemplate,encoding=\"utf-8\", xml_declaration=True)"
      ],
      "execution_count": 0,
      "outputs": []
    },
    {
      "cell_type": "code",
      "metadata": {
        "id": "mRcpt9p3Ozzs",
        "colab_type": "code",
        "colab": {}
      },
      "source": [
        "#Read in each column of the CSV file that was selected\n",
        "#INCLUDE VARIABLE IN PROGRAMMERS GUIDE\n",
        "def readCSV(csvName):\n",
        "    #df variable is the Pandas dataframe that the csv file is saved to\n",
        "    df = pd.read_csv(csvName)\n",
        "    print(\"reading csv done\")\n",
        "    return df"
      ],
      "execution_count": 0,
      "outputs": []
    },
    {
      "cell_type": "code",
      "metadata": {
        "id": "zLdugwJx1P49",
        "colab_type": "code",
        "colab": {}
      },
      "source": [
        "#Pop-up dialog box to request for user input on how many columns they want to include in their visualization\n",
        "def userInput():\n",
        "    root = Tk()\n",
        "    root.withdraw()\n",
        "\n",
        "    user_inp = simpledialog.askstring(title=\"SynGlyphX\", \n",
        "        prompt=\"How many columns would you like to include in your visualization?\")\n",
        "    user_int = int(user_inp)\n",
        "    print(\"Use\", user_int, \"columns\")\n",
        "    #add in exception handling if the user input is greater than the number of columns in the CSV file\n",
        "    return user_int\n"
      ],
      "execution_count": 0,
      "outputs": []
    },
    {
      "cell_type": "markdown",
      "metadata": {
        "id": "LX7CdYrqTwe8",
        "colab_type": "text"
      },
      "source": [
        "# Categorical Data Finder"
      ]
    },
    {
      "cell_type": "code",
      "metadata": {
        "id": "7Bf2ouJyOz8a",
        "colab_type": "code",
        "colab": {}
      },
      "source": [
        "#Add each categorical data column to a dataframe\n",
        "def getCategoricalColumnName(df,categoricalColumnName):\n",
        "    x=0\n",
        "    for name in df.columns:\n",
        "        if df.dtypes[x] == 'object':\n",
        "          #FIND OUT WHERE .CAT is FROM\n",
        "          #CHANGE 101 TO A VARIABLE\n",
        "             if len(df[name].astype('category').cat.categories.tolist()) >1 and len(df[name].astype('category').cat.categories.tolist()) < 101 and categoricalColumnName==\"\": \n",
        "                categoricalColumnName=df.columns[x]\n",
        "        x= x+1\n",
        "    return categoricalColumnName"
      ],
      "execution_count": 0,
      "outputs": []
    },
    {
      "cell_type": "code",
      "metadata": {
        "id": "dR9y4Ed-O0Cc",
        "colab_type": "code",
        "colab": {}
      },
      "source": [
        "#Within each column save each unique attribute to a list\n",
        "def getCategoricalColumnOptions(df,categoricalColumnName):\n",
        "    return df[categoricalColumnName].astype('category').cat.categories.tolist()"
      ],
      "execution_count": 0,
      "outputs": []
    },
    {
      "cell_type": "markdown",
      "metadata": {
        "id": "5yOTozz4UfvX",
        "colab_type": "text"
      },
      "source": [
        "# Numeric Data Finder"
      ]
    },
    {
      "cell_type": "code",
      "metadata": {
        "id": "W7shBBIMO0YO",
        "colab_type": "code",
        "colab": {}
      },
      "source": [
        "#Find numeric (int and float) data and add the column names to a list\n",
        "def typeDefiner(df,catFound,sdtFile):\n",
        "    colList = df.columns\n",
        "    colList\n",
        "    x = 0\n",
        "    colNames = []\n",
        "    for name in colList:\n",
        "        if df.dtypes[x] == 'object':# or df.dtypes[x] == 'int64':\n",
        "            pass\n",
        "        else:\n",
        "            colNames.append(colList[x])    \n",
        "        x = x + 1\n",
        "\n",
        "    #PUT THIS INTO A SEPERATE FUNCTION\n",
        "    #Finds number of numeric inputs in case of no categorical data\n",
        "    file = ET.parse(sdtFile)\n",
        "    root = file.getroot()\n",
        "    inputCount=0\n",
        "    for elem in root.findall('.//InputFields'):\n",
        "        for inputs in elem.findall('.//InputField'):\n",
        "            inputCount+=1\n",
        "    \n",
        "    #PUT THIS INTO A SEPERATE FUNCTION\n",
        "    #Resets part of color section and input if there is no option for color\n",
        "    if not catFound and inputCount>len(colNames):\n",
        "        resetToDefault(sdtFile)\n",
        "    print(\"input count is \"+str(catFound) +str(inputCount))\n",
        "    print(\"objects removed\")\n",
        "    print(colNames)\n",
        "    return colNames"
      ],
      "execution_count": 0,
      "outputs": []
    },
    {
      "cell_type": "markdown",
      "metadata": {
        "id": "XCNPi5PvWh2F",
        "colab_type": "text"
      },
      "source": [
        "# Random ID Generator"
      ]
    },
    {
      "cell_type": "code",
      "metadata": {
        "id": "1u6mFV9pWiLw",
        "colab_type": "code",
        "colab": {}
      },
      "source": [
        "#Generates random name IDs for one of our subelements\n",
        "def randomNameIDGenerator():\n",
        "    name = \"~\"\n",
        "    z = 0\n",
        "    while z < 10:\n",
        "        value = randint(0, 10)\n",
        "        name += str(value)\n",
        "        z = z + 1\n",
        "    return name  \n",
        "\n",
        "    #ADD IN EXCEPTION HANDLING"
      ],
      "execution_count": 0,
      "outputs": []
    },
    {
      "cell_type": "markdown",
      "metadata": {
        "id": "BeheiUGPVn75",
        "colab_type": "text"
      },
      "source": [
        "# SDT Changes"
      ]
    },
    {
      "cell_type": "code",
      "metadata": {
        "id": "BOccAEAuVz-g",
        "colab_type": "code",
        "colab": {}
      },
      "source": [
        "#Creates a new SDT file with the same name as the selected CSV file\n",
        "#Populates the new SDT file with the generic SDT template format\n",
        "def moveToNewFile(sdtTemplate, csvFile):\n",
        "    file = ET.parse(sdtTemplate)\n",
        "    base=os.path.basename(csvFile)\n",
        "    newFile =os.path.splitext(base)[0]+\".sdt\"\n",
        "    file.write(newFile,encoding=\"utf-8\", xml_declaration=True)\n",
        "    \n",
        "    return newFile"
      ],
      "execution_count": 0,
      "outputs": []
    },
    {
      "cell_type": "code",
      "metadata": {
        "id": "zRPHiu182Jnu",
        "colab_type": "code",
        "colab": {}
      },
      "source": [
        "#ADD IN RUNDOWN OF FUNCTION\n",
        "def inputFieldGenerator(sdtTemplate):\n",
        "    tree = ET.parse(sdtTemplate)\n",
        "    root = tree.getroot()\n",
        "    fields = tree.find(\"InputFields\")\n",
        "    colList = typeDefiner(df)\n",
        "    numberOfCol = userInput()\n",
        "    \n",
        "    dataID = tree.find(\"Datasources\")\n",
        "    datasourceID = dataID[0].attrib['id']\n",
        "\n",
        "    x = 0\n",
        "    while x < numberOfCol:\n",
        "        nameID = randomNameIDGenerator()\n",
        "        #print('field' + colList[x])\n",
        "        attrib = {'field': colList[x], 'id' : datasourceID, 'name':nameID, 'table':'OnlyTable', 'type':'Real'}\n",
        "        element = fields.makeelement('InputField', attrib)\n",
        "        #ADD IN VARIABLE FOR 6 or EXPLAIN WHY ITS 6\n",
        "        ET.SubElement(root[6], 'InputField', attrib)\n",
        "        x = x + 1\n",
        "    #INCORPORTATE ASHLEYS STUFF\n",
        "    #BOTTOM SDT FILE IS NEW SDT FILE\n",
        "    tree.write('testSDT.sdt')"
      ],
      "execution_count": 0,
      "outputs": []
    },
    {
      "cell_type": "code",
      "metadata": {
        "id": "8z0nrjxSV0Kf",
        "colab_type": "code",
        "colab": {}
      },
      "source": [
        "#Clears out the tag in the color section of the SDT file and formats the SDT file\n",
        "#This method is necessary to use numeric data in the color section\n",
        "#Without this method all colors would display as the default\n",
        "def toNumericFormat(updatedSDTFile):\n",
        "\n",
        "    #Finds keyValuePairs tag and clears out the tag.\n",
        "    file = ET.parse(updatedSDTFile)\n",
        "    root = file.getroot()\n",
        "    for elem in root.findall('.//Glyph/Color/RGB/Function[@type=\"Text Field To Value\"]/KeyValuePairs'):\n",
        "        elem.clear()\n",
        "\n",
        "    #Finds end tag and removes end tag from code\n",
        "    for parent in root.findall('.//KeyValuePairs/..'):\n",
        "        for element in parent.findall('KeyValuePairs'):\n",
        "            parent.remove(element)\n",
        "   #Sets up function to use numeric data with the appropriate lines\n",
        "    for elem in root.findall('.//Color/RGB/..):\n",
        "        function_elem = elem.find('.//Function')\n",
        "        function_elem.set(\"type\",\"Linear Interpolation\")\n",
        "        attrib = {'type': 'BoundField'}\n",
        "        minmax = ET.SubElement(check_req_elems, 'MinMax', attrib)\n",
        "        minmax.text= \"\\n\\t\\t\\t\\t\\t\\t\\t\"\n",
        "        min = ET.SubElement(minmax, 'Min')\n",
        "        min.text = '0'\n",
        "        min.tail=\"\\n\\t\\t\\t\\t\\t\\t\"\n",
        "        minmax.tail=\"\\n\\t\\t\\t\\t\\t\"\n",
        "    file.write(sdtFile)\n",
        "    print(\"color fixed\")"
      ],
      "execution_count": 0,
      "outputs": []
    },
    {
      "cell_type": "code",
      "metadata": {
        "id": "tMSBrAehV0HJ",
        "colab_type": "code",
        "colab": {}
      },
      "source": [
        "#Accepted Params: list of column names, the .SDT file, column name, and boolean\n",
        "# ADD IN OVERVIEW STATEMENT\n",
        "# RENAME VARIABLES NAMES SO THEY ARE EASIER TO UNDERSTAND AND CONSISTENT\n",
        "def XMLParser(colNames,sdtFile,colorName,catFound):\n",
        "    print(colNames)\n",
        "\n",
        "    tree = ET.parse(sdtFile)\n",
        "    root = tree.getroot()\n",
        "    count=0;\n",
        "    print(len(colNames))\n",
        "    for elem in root.iter('InputField'):\n",
        "        print(count)\n",
        "        if elem.get('name')!=\"color\":\n",
        "            elem.set('field', colNames[count])\n",
        "            count+=1\n",
        "        elif not catFound:\n",
        "            elem.set('field', colNames[count])\n",
        "            count+=1\n",
        "        else:\n",
        "            elem.set('field', colorName)\n",
        "        \n",
        "    tree.write(sdtFile)\n",
        "    print(\"XML updated\")"
      ],
      "execution_count": 0,
      "outputs": []
    },
    {
      "cell_type": "code",
      "metadata": {
        "id": "Oa4LNKhpV0Ck",
        "colab_type": "code",
        "colab": {}
      },
      "source": [
        "#\n",
        "# ADD IN OVERVIEW STATEMENT\n",
        "# RENAME VARIABLES NAMES SO THEY ARE EASIER TO UNDERSTAND AND CONSISTENT\n",
        "# UPDATE TABBING\n",
        "def setupColor(colorCol,sdtFile):\n",
        "    file = ET.parse(sdtFile)\n",
        "    root = file.getroot()\n",
        "    x=0\n",
        "    if(colorCol==None):#Changes Color code to take in numeric data\n",
        "        toNumericFormat(sdtFile)\n",
        "        \n",
        "    else:\n",
        "      #sets up prexisting key value pairs with the first 2 categorical options\n",
        "        for parent in root.findall('.//Color/RGB/Function[@type=\"Text Field To Value\"]/KeyValuePairs'):\n",
        "            for elem in parent.findall('KeyValuePair/Key'):\n",
        "                elem.text=colorCol[x]\n",
        "                x=x+1\n",
        "\n",
        "        #Creates new key value pairs for the rest of the categorical list\n",
        "            if(len(colorCol)>2):\n",
        "                while x<len(colorCol):\n",
        "                    for elem in root.findall('.//Color/RGB/Function[@type=\"Text Field To Value\"]'): \n",
        "                        pairs = elem.find('.//KeyValuePairs')\n",
        "                        #fixes spacing so new pair will be at right \n",
        "                          #column/indent area\n",
        "                        #Adds key value pair as subelement to key value pairs\n",
        "                        for child in pairs.findall('.//KeyValuePair'):\n",
        "                            child.tail=\"\\n\\t\\t\\t\\t\\t\\t\\t\"\n",
        "                        keyVal =ET.SubElement(pairs, 'KeyValuePair')\n",
        "                        keyVal.text=\"\\n\\t\\t\\t\\t\\t\\t\\t\\t\"\n",
        "                        keyVal.tail=\"\\n\\t\\t\\t\\t\\t\\t\"\n",
        "                        keyValP= ET.SubElement(keyVal, 'Key')\n",
        "                        keyValP.text=colorCol[x]\n",
        "                        keyValP.tail=\"\\n\\t\\t\\t\\t\\t\\t\\t\\t\"\n",
        "                        key = ET.SubElement(keyVal, 'Value')\n",
        "                    \n",
        "                        key.tail=\"\\n\\t\\t\\t\\t\\t\\t\\t\"\n",
        "                        x=x+1\n",
        "    \n",
        "                        x=0\n",
        "\n",
        "                        #Creates an array of random colors for the categorical data\n",
        "                        count=0\n",
        "                        colorList=[] \n",
        "                        while count<len(colorCol):\n",
        "                            randomCol(colorList)\n",
        "                            count=count+1\n",
        "\n",
        "                        #sets up color values for each key value pair\n",
        "                        for elem in root.findall('.//Color/RGB/Function[@type=\"Text Field To Value\"]/KeyValuePairs'):\n",
        "                            for element in elem.findall('KeyValuePair/Value'):\n",
        "                                element.text=colorList[x]\n",
        "                                print(colorList[x])\n",
        "                                x=x+1\n",
        "                \n",
        "          file.write(sdtFile,encoding=\"utf-8\", xml_declaration=True)\n"
      ],
      "execution_count": 0,
      "outputs": []
    },
    {
      "cell_type": "code",
      "metadata": {
        "id": "JSSFlLg9Vz3T",
        "colab_type": "code",
        "colab": {}
      },
      "source": [
        "#\n",
        "# ADD IN OVERVIEW STATEMENT\n",
        "# MAKE SURE SDT FILE VARIABLE IS WHAT IT SHOULD BE (SDTTemplate or updatedSDTFile)\n",
        "def resetToDefault(sdtFile):\n",
        "    file = ET.parse(sdtFile)\n",
        "    root = file.getroot()\n",
        "    print(\"resetting\")\n",
        "    removeElement=None\n",
        "    for parent in root.findall('.//Glyph/Color/RGB'):\n",
        "        for elem in parent:\n",
        "            if(removeElement==None):\n",
        "                removeElement = parent.find('Binding')\n",
        "        if(removeElement!=None):\n",
        "            parent.remove(removeElement)\n",
        "            removeElement=None\n",
        "    \n",
        "    for parent in root.findall('.//InputFields'):\n",
        "        for elem in parent:\n",
        "            if(removeElement==None):\n",
        "                removeElement =  parent.find('InputField[@name=\"color\"]')\n",
        "              \n",
        "        if (removeElement!=None):\n",
        "            parent.remove(removeElement)\n",
        "            reMoveElement=None\n",
        "    \n",
        "    count=0\n",
        "    #fixes indent spacing for new last element\n",
        "    for parent in root.findall('.//InputFields'):\n",
        "        for elem in parent:\n",
        "            if(count==len(parent)-1):\n",
        "                elem.tail=\"\\n\\t\"\n",
        "            count+=1\n",
        "        \n",
        "    file.write(sdtFile,encoding=\"utf-8\", xml_declaration=True)"
      ],
      "execution_count": 0,
      "outputs": []
    },
    {
      "cell_type": "markdown",
      "metadata": {
        "id": "wSVYcrMuWl-U",
        "colab_type": "text"
      },
      "source": [
        "# Random Color Generator\n"
      ]
    },
    {
      "cell_type": "code",
      "metadata": {
        "id": "0s5XlLDhWppI",
        "colab_type": "code",
        "colab": {}
      },
      "source": [
        "#Random Color Generator\n",
        "#Generates random colors and adds them to the color list\n",
        "def randomColors(colorList):\n",
        "    import random\n",
        "    rVal = random.random()*255\n",
        "    rVal=int(rVal)\n",
        "    gVal = random.random()*255\n",
        "    gVal=int(gVal)\n",
        "    bVal = random.random()*255\n",
        "    bVal=int(bVal)\n",
        "    color=str(rVal)+\",\"+str(gVal)+\",\"+str(bVal)\n",
        "    colorList.append(color)"
      ],
      "execution_count": 0,
      "outputs": []
    },
    {
      "cell_type": "markdown",
      "metadata": {
        "id": "zc5tcEDYWyw5",
        "colab_type": "text"
      },
      "source": [
        "#Runner"
      ]
    },
    {
      "cell_type": "code",
      "metadata": {
        "id": "btbuxMoVW42s",
        "colab_type": "code",
        "colab": {}
      },
      "source": [
        "#Uses all necessary methods and variables to run the Glyph Generator\n",
        "#Converts a CSV file to a SDT file\n",
        "def runAll(sdtTemplate):\n",
        "  colorCol = None #will change this name\n",
        "  categoricalColumnName = \"\"\n",
        "  catFound=False  #will change this name\n",
        "    csvFile = selectCSVFile(sdtTempalte)\n",
        "    df = readCSV(csvFile)\n",
        "    categoricalColumnName=getCategoricalColumnName(df,categoricalColumnName)\n",
        "    if(categoricalColumnName != \"\"):\n",
        "        catFound=True   #will change this name\n",
        "        colorCol=getCategoricalColumnOptions(df,categoricalColumnName) #will change this name\n",
        "  \n",
        "    updatedSDTFile=moveToNewFile(sdtTemplate,csvFile)\n",
        "    categoricalColumnName = typeDefiner(df,catFound,updatedSDTFile) #will change name later\n",
        "            #typeDefiner will be split into different functions\n",
        "    XMLParser(colNames,updatedSDTFile,categoricalColumnName,catFound) #make changes to names\n",
        "    setupColor(colorCol, updatedSDTFile) #will change name later"
      ],
      "execution_count": 0,
      "outputs": []
    },
    {
      "cell_type": "code",
      "metadata": {
        "id": "GGLAjlvCW-uv",
        "colab_type": "code",
        "colab": {}
      },
      "source": [
        "#Run the Program\n",
        "  runAll('emptySDT.sdt')"
      ],
      "execution_count": 0,
      "outputs": []
    },
    {
      "cell_type": "markdown",
      "metadata": {
        "id": "Tu14M_iWRnyb",
        "colab_type": "text"
      },
      "source": [
        "# How to Make a .exe "
      ]
    },
    {
      "cell_type": "markdown",
      "metadata": {
        "id": "Z_Dx3vqPRv7a",
        "colab_type": "text"
      },
      "source": [
        "Download Python from the web, and select \"Add Python 3.7 to PATH\"\n",
        "\n",
        "File -> Download As -> Python (.py)\n",
        "\n",
        "Open Windows Command Prompt (either look up Windows Command Prompt in Search bar or Windows button + R, \n",
        "then type in \"cmd\")\n",
        "\n",
        "In Command Prompt - \n",
        "\n",
        "> pip install pyinstaller\n",
        "\n",
        "\n",
        "> cd yourfilepathhere\n",
        "\n",
        "\n",
        "> pyinstaller --onefile nameofyourfile.py\n",
        "\n",
        "Then check in the File explorer that were you had your original .py file, and there should be a folder names \"dist\"\n",
        "\n",
        "The executable file should be in there\n",
        "\n"
      ]
    }
  ]
}