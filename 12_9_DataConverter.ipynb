{
  "nbformat": 4,
  "nbformat_minor": 0,
  "metadata": {
    "colab": {
      "name": "12_9_DataConverter.ipynb",
      "provenance": [],
      "collapsed_sections": [],
      "toc_visible": true
    },
    "kernelspec": {
      "name": "python3",
      "display_name": "Python 3"
    }
  },
  "cells": [
    {
      "cell_type": "markdown",
      "metadata": {
        "id": "f9rWsUqtSF6m",
        "colab_type": "toc"
      },
      "source": [
        ">[Packages](#scrollTo=tkKZZHqhNzuN)\n",
        "\n",
        ">[Reading in CSV Files](#scrollTo=q7zSBFfcPXG_)\n",
        "\n",
        ">[Categorical Data Finder](#scrollTo=LX7CdYrqTwe8)\n",
        "\n",
        ">[Numeric Data Finder](#scrollTo=5yOTozz4UfvX)\n",
        "\n",
        ">[Random ID Generator](#scrollTo=XCNPi5PvWh2F)\n",
        "\n",
        ">[SDT Changes](#scrollTo=BeheiUGPVn75)\n",
        "\n",
        ">[Random Color Generator](#scrollTo=wSVYcrMuWl-U)\n",
        "\n",
        ">[XY Finder](#scrollTo=JmKmrg9boNGv)\n",
        "\n",
        ">[Dictionary Maker](#scrollTo=lr-jZcevnJes)\n",
        "\n",
        ">[Runner](#scrollTo=zc5tcEDYWyw5)\n",
        "\n",
        ">[How to Make a .exe](#scrollTo=Tu14M_iWRnyb)\n",
        "\n"
      ]
    },
    {
      "cell_type": "markdown",
      "metadata": {
        "id": "tkKZZHqhNzuN",
        "colab_type": "text"
      },
      "source": [
        "# Packages\n"
      ]
    },
    {
      "cell_type": "code",
      "metadata": {
        "id": "bMeWolURIfes",
        "colab_type": "code",
        "colab": {}
      },
      "source": [
        "#Download packages\n",
        "import pandas as pd\n",
        "import re\n",
        "import xml.etree.ElementTree as ET\n",
        "\n",
        "#Download package for File Explorer pop-up\n",
        "from tkinter import filedialog\n",
        "from tkinter import *\n",
        "\n",
        "#Download package for user input pop-up\n",
        "from tkinter import simpledialog\n",
        "\n",
        "#Download package to parse through and modify XML tree\n",
        "from lxml import etree\n",
        "from random import randint\n",
        "import random\n",
        "\n",
        "#Download package to get file names\n",
        "import os"
      ],
      "execution_count": 0,
      "outputs": []
    },
    {
      "cell_type": "markdown",
      "metadata": {
        "id": "q7zSBFfcPXG_",
        "colab_type": "text"
      },
      "source": [
        "# Reading in CSV Files"
      ]
    },
    {
      "cell_type": "code",
      "metadata": {
        "id": "KrFhuCyWNh4-",
        "colab_type": "code",
        "colab": {}
      },
      "source": [
        "#Display a file explorer and allow user to select a CSV file that contains the data\n",
        "def selectCSVFile(sdtTemplate):\n",
        "    root = Tk()\n",
        "    root.filename =  filedialog.askopenfilename(initialdir = \"/\",title = \"Select CSV file\",filetypes = ((\"text files\",\"*.csv\"),(\"all files\",\"*.*\")))\n",
        "    \n",
        "    changePath(root.filename,sdtTemplate)\n",
        "    root.destroy()\n",
        "    return(root.filename)\n",
        "\n",
        " #Test: do not allow user to select any file type other than CSV"
      ],
      "execution_count": 0,
      "outputs": []
    },
    {
      "cell_type": "code",
      "metadata": {
        "id": "vWP8el_4OzkA",
        "colab_type": "code",
        "colab": {}
      },
      "source": [
        "#Change the path in the SDT file based on the CSV file selected by the user\n",
        "def changePath(path,sdtTemplate):\n",
        "    tree = ET.parse(sdtTemplate)\n",
        "    root = tree.getroot() \n",
        "    \n",
        "    for element in root.findall('.//Datasources/Datasource/Host'):\n",
        "        element.text=path\n",
        "    \n",
        "    for element in root.findall('.//Datasources/Datasource/Name'):\n",
        "        element.text=path\n",
        "        \n",
        "    tree.write(sdtTemplate,encoding=\"utf-8\", xml_declaration=True)"
      ],
      "execution_count": 0,
      "outputs": []
    },
    {
      "cell_type": "code",
      "metadata": {
        "id": "mRcpt9p3Ozzs",
        "colab_type": "code",
        "colab": {}
      },
      "source": [
        "#Read in each column of the CSV file that was selected\n",
        "#INCLUDE VARIABLE IN PROGRAMMERS GUIDE\n",
        "def readCSV(csvName):\n",
        "    #df variable is the Pandas dataframe that the csv file is saved to\n",
        "    df = pd.read_csv(csvName)\n",
        "    print(\"reading csv done\")\n",
        "    return df"
      ],
      "execution_count": 0,
      "outputs": []
    },
    {
      "cell_type": "code",
      "metadata": {
        "id": "zLdugwJx1P49",
        "colab_type": "code",
        "colab": {}
      },
      "source": [
        "#Pop-up dialog box to request for user input on how many columns they want to include in their visualization\n",
        "def userInput():\n",
        "    root = Tk()\n",
        "    root.withdraw()\n",
        "\n",
        "    user_inp = simpledialog.askstring(title=\"SynGlyphX\", \n",
        "        prompt=\"How many columns would you like to include in your visualization?\")\n",
        "    user_int = int(user_inp)\n",
        "    print(\"Use\", user_int, \"columns\")\n",
        "    #add in exception handling if the user input is greater than the number of columns in the CSV file\n",
        "    return user_int\n"
      ],
      "execution_count": 0,
      "outputs": []
    },
    {
      "cell_type": "markdown",
      "metadata": {
        "id": "LX7CdYrqTwe8",
        "colab_type": "text"
      },
      "source": [
        "# Categorical Data Finder"
      ]
    },
    {
      "cell_type": "code",
      "metadata": {
        "id": "7Bf2ouJyOz8a",
        "colab_type": "code",
        "colab": {}
      },
      "source": [
        "#Add each categorical data column to a dataframe\n",
        "def getCategoricalColumnName(df,categoricalColumnName):\n",
        "    x=0\n",
        "    for name in df.columns:\n",
        "        if df.dtypes[x] == 'object':\n",
        "          #FIND OUT WHERE .CAT is FROM\n",
        "             if len(df[name].astype('category').cat.categories.tolist()) >1 and len(df[name].astype('category').cat.categories.tolist()) < maxCategoricalOptions and categoricalColumnName==\"\": \n",
        "                categoricalColumnName=df.columns[x]\n",
        "        x= x+1\n",
        "    return categoricalColumnName"
      ],
      "execution_count": 0,
      "outputs": []
    },
    {
      "cell_type": "code",
      "metadata": {
        "id": "dR9y4Ed-O0Cc",
        "colab_type": "code",
        "colab": {}
      },
      "source": [
        "#Within each column save each unique attribute to a list\n",
        "def getCategoricalColumnOptions(df,categoricalColumnName):\n",
        "    return df[categoricalColumnName].astype('category').cat.categories.tolist()"
      ],
      "execution_count": 0,
      "outputs": []
    },
    {
      "cell_type": "markdown",
      "metadata": {
        "id": "5yOTozz4UfvX",
        "colab_type": "text"
      },
      "source": [
        "# Numeric Data Finder"
      ]
    },
    {
      "cell_type": "code",
      "metadata": {
        "id": "W7shBBIMO0YO",
        "colab_type": "code",
        "colab": {}
      },
      "source": [
        "#Find numeric (int and float) data and add the column names to a list\n",
        "def typeDefiner(df,xColumnName,yColumnName):\n",
        "    columnList = df.columns\n",
        "    columnList\n",
        "    x = 0\n",
        "    numericColumnNames = []\n",
        "    for name in columnList:\n",
        "      #Prevents objects from going into the numeric column list and prevents double use of x and y columns.\n",
        "        if df.dtypes[x] == 'object':\n",
        "            pass\n",
        "        else:\n",
        "            if columnList[x] is xColumnName or columnList[x] is yColumnName:\n",
        "              pass\n",
        "            else:\n",
        "              numericColumnNames.append(columnList[x])    \n",
        "        x = x + 1\n",
        "\n",
        "    print(\"objects removed\")\n",
        "    print(numericColumnNames)\n",
        "    return numericColumnNames"
      ],
      "execution_count": 0,
      "outputs": []
    },
    {
      "cell_type": "code",
      "metadata": {
        "id": "Flip6W_la6un",
        "colab_type": "code",
        "colab": {}
      },
      "source": [
        "#Counts number of inputs with the SDT file and compares the amount to the list of data frame columns.\n",
        "#If the data frame columns doesn't have more columns than inputs in SDT file and there was no categorical column for color,\n",
        "#a reset is done to remove the input for color completely.  \n",
        "def inputCountChecker(updatedSDTFile,catFound,numericColumnNames,inputDictionary):\n",
        "  file = ET.parse(updatedSDTFile)\n",
        "  root = file.getroot()\n",
        "  inputCount=0\n",
        "  for element in root.findall('.//InputFields'):\n",
        "      for inputs in element.findall('.//InputField'):\n",
        "          inputCount+=1\n",
        "        \n",
        "  #Resets part of color section tags and input fields if there is no option for color\n",
        "  if not catFound and inputCount>(len(numericColumnNames)):\n",
        "      resetToDefault(updatedSDTFile,inputDictionary)\n",
        "    "
      ],
      "execution_count": 0,
      "outputs": []
    },
    {
      "cell_type": "code",
      "metadata": {
        "id": "KlQ_S74Xe8Ih",
        "colab_type": "code",
        "colab": {}
      },
      "source": [
        "#Find the numeric columns with the greatest range to act as the X and Y\n",
        "#Returns a list of the range found in each column\n",
        "#When a column consists of an Object the range will not be added to the rangeList\n",
        "def getRangeList(df):\n",
        "    columnNamesList = df.columns\n",
        "    rangeList = []\n",
        "    x = 0\n",
        "    while x < df.columns.size:\n",
        "        if df.dtypes[x] == 'object':\n",
        "            \n",
        "        else:\n",
        "            maxVal = df.iloc[:,x].max()\n",
        "            minVal = df.iloc[:,x].min()\n",
        "            colRange = maxVal - minVal\n",
        "            rangeList.append(colRange)\n",
        "        x = x + 1\n",
        "\n",
        "    return rangeList  "
      ],
      "execution_count": 0,
      "outputs": []
    },
    {
      "cell_type": "code",
      "metadata": {
        "id": "QSZL6pdxeH9X",
        "colab_type": "code",
        "colab": {}
      },
      "source": [
        "#Given the list of ranges and the list of only numeric columns from the CSV\n",
        "#Orders both lists from largest to smallest by range\n",
        "#column_order is the list containing the numeric columns from largest difference to smallest\n",
        "def sortColumnsByRange(rangeList, numericList):\n",
        "    zipList = [numericList for rangeList, numericList in sorted(zip(rangeList, numericList))]\n",
        "    column_order = list(reversed(zipList))\n",
        "\n",
        "    return column_order"
      ],
      "execution_count": 0,
      "outputs": []
    },
    {
      "cell_type": "code",
      "metadata": {
        "id": "K8aEwrmIeFmt",
        "colab_type": "code",
        "colab": {}
      },
      "source": [
        "#Given the list of column ranges, return a list containing the ranges from greatest to least\n",
        "#Might not need!!!!!!!!!!!!!!!!!!!!!!\n",
        "def getSortedRangeList(rangeList):\n",
        "    range_order = sorted(rangeList, reverse = True)\n",
        "    return range_order"
      ],
      "execution_count": 0,
      "outputs": []
    },
    {
      "cell_type": "markdown",
      "metadata": {
        "id": "XCNPi5PvWh2F",
        "colab_type": "text"
      },
      "source": [
        "# Random ID Generator"
      ]
    },
    {
      "cell_type": "code",
      "metadata": {
        "id": "1u6mFV9pWiLw",
        "colab_type": "code",
        "colab": {}
      },
      "source": [
        "#Generates random name IDs for one of our subelements\n",
        "def randomNameIDGenerator():\n",
        "    name = \"~\"\n",
        "    z = 0\n",
        "    while z < 10:\n",
        "        value = randint(0, 10)\n",
        "        name += str(value)\n",
        "        z = z + 1\n",
        "    return name  \n",
        "\n",
        "    #ADD IN EXCEPTION HANDLING"
      ],
      "execution_count": 0,
      "outputs": []
    },
    {
      "cell_type": "markdown",
      "metadata": {
        "id": "BeheiUGPVn75",
        "colab_type": "text"
      },
      "source": [
        "# SDT Changes"
      ]
    },
    {
      "cell_type": "code",
      "metadata": {
        "id": "BOccAEAuVz-g",
        "colab_type": "code",
        "colab": {}
      },
      "source": [
        "#Creates a new SDT file with the same name as the selected CSV file\n",
        "#Populates the new SDT file with the generic SDT template format\n",
        "def moveToNewFile(sdtTemplate, csvFile):\n",
        "    file = ET.parse(sdtTemplate)\n",
        "    base=os.path.basename(csvFile)\n",
        "    newFile =os.path.splitext(base)[0]+\".sdt\"\n",
        "    file.write(newFile,encoding=\"utf-8\", xml_declaration=True)\n",
        "    \n",
        "    return newFile"
      ],
      "execution_count": 0,
      "outputs": []
    },
    {
      "cell_type": "code",
      "metadata": {
        "id": "zRPHiu182Jnu",
        "colab_type": "code",
        "colab": {}
      },
      "source": [
        "#ADD IN RUNDOWN OF FUNCTION\n",
        "def inputFieldGenerator(sdtTemplate):\n",
        "    tree = ET.parse(sdtTemplate)\n",
        "    root = tree.getroot()\n",
        "    fields = tree.find(\"InputFields\")\n",
        "    columnList = typeDefiner(df)\n",
        "    numberOfCol = userInput()\n",
        "    \n",
        "    dataID = tree.find(\"Datasources\")\n",
        "    datasourceID = dataID[0].attrib['id']\n",
        "\n",
        "    x = 0\n",
        "    while x < numberOfCol:\n",
        "        nameID = randomNameIDGenerator()\n",
        "        #print('field' + colList[x])\n",
        "        attribute = {'field': columnList[x], 'id' : datasourceID, 'name':nameID, 'table':'OnlyTable', 'type':'Real'}\n",
        "        element = fields.makeelement('InputField', attribute)\n",
        "        #ADD IN VARIABLE FOR 6 or EXPLAIN WHY ITS 6\n",
        "        ET.SubElement(root[6], 'InputField', attribute)\n",
        "        x = x + 1\n",
        "    #INCORPORTATE ASHLEYS STUFF\n",
        "    #AG: just put moveToNewSDT before this or within this and run dictionary after this function\n",
        "    #BOTTOM SDT FILE IS NEW SDT FILE\n",
        "    tree.write('testSDT.sdt')#tree.write(updatedSDTFile)"
      ],
      "execution_count": 0,
      "outputs": []
    },
    {
      "cell_type": "code",
      "metadata": {
        "id": "8z0nrjxSV0Kf",
        "colab_type": "code",
        "colab": {}
      },
      "source": [
        "#Clears out the tag in the color section of the SDT file and formats the SDT file\n",
        "#This method is necessary to use numeric data in the color section\n",
        "#Without this method all colors would display as the default (usually white)\n",
        "def toNumericFormat(updatedSDTFile):\n",
        "\n",
        "    #Finds keyValuePairs tag and clears out the tag. Doesn't delete end tag.\n",
        "    file = ET.parse(updatedSDTFile)\n",
        "    root = file.getroot()\n",
        "    for element in root.findall('.//Glyph/Color/RGB/Function[@type=\"Text Field To Value\"]/KeyValuePairs'):\n",
        "        element.clear()\n",
        "\n",
        "    #Finds end tag and removes end tag from code.\n",
        "    for parent in root.findall('.//KeyValuePairs/..'):\n",
        "        for element in parent.findall('KeyValuePairs'):\n",
        "            parent.remove(element)\n",
        "\n",
        "   #Sets up function to use numeric data with the appropriate lines and spacing.\n",
        "    for element in root.findall('.//Color/RGB/..'):\n",
        "        function_element = element.find('.//Function')\n",
        "        function_element.set(\"type\",\"Linear Interpolation\")\n",
        "        attribute = {'type': 'BoundField'}\n",
        "        minmax_element = ET.SubElement(function_element, 'MinMax', attribute)\n",
        "        minmax_element.text= sevenTabs\n",
        "        min_element = ET.SubElement(minmax_element, 'Min')\n",
        "        min_element.text = '0'\n",
        "        min_element.tail=sixTabs\n",
        "        minmax_element.tail=fiveTabs\n",
        "    file.write(updatedSDTFile)\n",
        "    print(\"color fixed\")"
      ],
      "execution_count": 0,
      "outputs": []
    },
    {
      "cell_type": "code",
      "metadata": {
        "id": "tMSBrAehV0HJ",
        "colab_type": "code",
        "colab": {}
      },
      "source": [
        "#Accepted Params: list of column names, the .SDT file, column name, and boolean\n",
        "# Inserts the appropriate column names into the input fields' field attribute. \n",
        "#Inserts specific columns for color, x, and y if they were found by checking for the matching dictionary ID.\n",
        "# RENAME VARIABLES NAMES SO THEY ARE EASIER TO UNDERSTAND AND CONSISTENT\n",
        "def XMLParser(numericColumnNames, updatedSDTFile,categoricalColumnName,catFound,inputDictionary,xColumnName,xFound,yColumnName,yFound, df):\n",
        "    print(numericColumnNames)\n",
        "\n",
        "    #ADDED BY MORGAN ON 12/9\n",
        "    numColumns = sortColumnsByRange(getRangeList(df), numericColumnNames)\n",
        "    print(numColumns)\n",
        "\n",
        "    #tree = ET.parse(sdtFile) #i think this line is worng\n",
        "    tree = ET.parse(updatedSDTFile)\n",
        "    root = tree.getroot()\n",
        "    count=0;\n",
        "    print(len(numColumns)) #changed MEM 12/9\n",
        "    for element in root.iter('InputField'):\n",
        "        print(count)\n",
        "        #Inserts the categorical data column name into the color binding input if categorical data was found.\n",
        "        if element.get('name')==inputDictionary['ColorRGB'] and catFound:\n",
        "            element.set('field', categoricalColumnName)\n",
        "        #Inserts the X column name if an appropriate column was found.\n",
        "        elif element.get('name')==inputDictionary['PositionX'] and xFound:\n",
        "            element.set('field', xColumnName)\n",
        "        #Inserts the Y column name if an appropriate column was found.\n",
        "        elif element.get('name')==inputDictionary['PositionY'] and yFound:\n",
        "            element.set('field', yColumnName)\n",
        "        else:\n",
        "        #If non color, x, or y input or nonfound color, x, or y input, field is set with a column from the available numeric columns. \n",
        "            element.set('field', numColumns[count]) #changed MEM 12/9\n",
        "            count+=1\n",
        "        \n",
        "    tree.write(updatedSDTFile)\n",
        "    print(\"XML updated\")"
      ],
      "execution_count": 0,
      "outputs": []
    },
    {
      "cell_type": "code",
      "metadata": {
        "id": "Oa4LNKhpV0Ck",
        "colab_type": "code",
        "colab": {}
      },
      "source": [
        "# Reformats Color tags depending on available data. If categorical data was not found, the color tag is updated to take in numeric data.\n",
        "#With categorical data, the default color tag is updated with the new values for the key values with the categorical values.\n",
        "# RENAME VARIABLES NAMES SO THEY ARE EASIER TO UNDERSTAND AND CONSISTENT\n",
        "# UPDATE TABBING\n",
        "def setupColor(colorCol,updatedSDTFile):\n",
        "    file = ET.parse(updatedSDTFile)\n",
        "    root = file.getroot()\n",
        "    x=0\n",
        "    if(colorCol==None):#Changes Color code to take in numeric data\n",
        "        toNumericFormat(updatedSDTFile)\n",
        "        \n",
        "    else:\n",
        "      #sets up prexisting key value pairs with the first 2 categorical options\n",
        "        for parent in root.findall('.//Color/RGB/Function[@type=\"Text Field To Value\"]/KeyValuePairs'):\n",
        "            for element in parent.findall('KeyValuePair/Key'):\n",
        "                element.text=colorCol[x]\n",
        "                x=x+1\n",
        "\n",
        "      #Creates an array of random colors for the categorical data\n",
        "        count=0\n",
        "        colorList=[] \n",
        "        while count<len(colorCol):\n",
        "          #randomCol(colorList) #I think this line is wrong\n",
        "          randomColors(colorList)\n",
        "          count=count+1\n",
        "\n",
        "        #Creates new key value pairs for the rest of the categorical list\n",
        "        if(len(colorCol)>2):\n",
        "          while x<len(colorCol):\n",
        "            for element in root.findall('.//Color/RGB/Function[@type=\"Text Field To Value\"]'): \n",
        "              pairs = element.find('.//KeyValuePairs')\n",
        "              #fixes spacing so new pair will be at right \n",
        "              #column/indent area\n",
        "              #Adds key value pair as subelement to key value pairs\n",
        "              for child in pairs.findall('.//KeyValuePair'):\n",
        "                child.tail=sevenTabs\n",
        "                keyValuePair =ET.SubElement(pairs, 'KeyValuePair')\n",
        "                keyValuePair.text=eightTabs\n",
        "                keyValuePair.tail=sixTabs\n",
        "\n",
        "                key= ET.SubElement(keyValuePair, 'Key')\n",
        "                key.text=colorCol[x]\n",
        "                key.tail=eightTabs\n",
        "\n",
        "                value = ET.SubElement(keyValPair, 'Value')\n",
        "                value.tail=sevenTabs\n",
        "                x=x+1\n",
        "    \n",
        "                x=0\n",
        "\n",
        "        #sets up color values for each key value pair\n",
        "        for parent in root.findall('.//Color/RGB/Function[@type=\"Text Field To Value\"]/KeyValuePairs'):\n",
        "          for element in parent.findall('KeyValuePair/Value'):\n",
        "            element.text=colorList[x]\n",
        "            print(colorList[x])\n",
        "            x=x+1\n",
        "                \n",
        "          file.write(sdtFile,encoding=\"utf-8\", xml_declaration=True)\n",
        "          # is sdtFile correct in the line above??"
      ],
      "execution_count": 0,
      "outputs": []
    },
    {
      "cell_type": "code",
      "metadata": {
        "id": "JSSFlLg9Vz3T",
        "colab_type": "code",
        "colab": {}
      },
      "source": [
        "#Removes binding tag of color section and removes the associated input within the input field tag.\n",
        "# MAKE SURE SDT FILE VARIABLE IS WHAT IT SHOULD BE (SDTTemplate or updatedSDTFile)\n",
        "def resetToDefault(updatedSDTFile,inputDictionary):\n",
        "    file = ET.parse(updatedSDTFile)\n",
        "    root = file.getroot()\n",
        "    print(\"resetting\")\n",
        "    inputID=dictionary['ColorRGB']\n",
        "    removeElement=None\n",
        "    for parent in root.findall('.//Glyph/Color/RGB'):\n",
        "      for element in parent:\n",
        "        if(removeElement==None):\n",
        "          removeElement = parent.find('Binding')\n",
        "\n",
        "        if(removeElement!=None):\n",
        "          parent.remove(removeElement)\n",
        "          removeElement=None\n",
        "    \n",
        "    for parent in root.findall('.//InputFields'):\n",
        "      for element in parent:\n",
        "        if(removeElement==None):\n",
        "          removeElement =  parent.find('InputField[@name=\"'+inputID+'\"]')\n",
        "              \n",
        "        if (removeElement!=None):\n",
        "          parent.remove(removeElement)\n",
        "          removeElement=None\n",
        "    \n",
        "    count=0\n",
        "    #fixes indent spacing for new last element\n",
        "    for parent in root.findall('.//InputFields'):\n",
        "        for element in parent:\n",
        "            if(count==len(parent)-1):\n",
        "                element.tail=\"\\n\\t\"\n",
        "            count+=1\n",
        "        \n",
        "    file.write(sdtFile,encoding=\"utf-8\", xml_declaration=True)"
      ],
      "execution_count": 0,
      "outputs": []
    },
    {
      "cell_type": "markdown",
      "metadata": {
        "id": "wSVYcrMuWl-U",
        "colab_type": "text"
      },
      "source": [
        "# Random Color Generator\n"
      ]
    },
    {
      "cell_type": "code",
      "metadata": {
        "id": "0s5XlLDhWppI",
        "colab_type": "code",
        "colab": {}
      },
      "source": [
        "#Random Color Generator\n",
        "#Generates random colors and adds them to the color list\n",
        "def randomColors(colorList):\n",
        "    redValue = random.random()*255\n",
        "    redValue=int(redValue)\n",
        "    greenValue = random.random()*255\n",
        "    greenValue=int(greenValue)\n",
        "    blueValue = random.random()*255\n",
        "    blueValue=int(blueValue)\n",
        "    color=str(redValue)+\",\"+str(greenValue)+\",\"+str(blueValue)  #Morgan uncommented this #make sure greenValue is spelled correctly\n",
        "    colorList.append(color)\n",
        "\n",
        "    #NEED TO UNCOMMENT THE ONE LINE OR CHANGE THE NAME OF THE VARIABLE color"
      ],
      "execution_count": 0,
      "outputs": []
    },
    {
      "cell_type": "markdown",
      "metadata": {
        "id": "JmKmrg9boNGv",
        "colab_type": "text"
      },
      "source": [
        "# XY Finder"
      ]
    },
    {
      "cell_type": "code",
      "metadata": {
        "id": "BVoW1WB7mlbD",
        "colab_type": "code",
        "colab": {}
      },
      "source": [
        "def longFinder(df):\n",
        "    x = 0\n",
        "    for columns in df.columns:\n",
        "      #If column name starts with 'Long'and ends with 'itude' or ends at 'Long', searchObj is true\n",
        "        longSearch = re.match( r'LONG(itude)?\\b', df.columns[x], re.I)\n",
        "        #If column name has Y either at the beginning or in the name seperated by \" \" or \"_\"\n",
        "        ySearch= re.match( r'(.*[\\s_])?Y.*', df.columns[x], re.I)\n",
        "        #If either are true, this column is chosen to be the X data column.\n",
        "        if longSearch or ySearch:\n",
        "            long = df.columns[x]\n",
        "            return long\n",
        "        else:\n",
        "            x = x + 1\n",
        "            pass\n",
        "    return \"\""
      ],
      "execution_count": 0,
      "outputs": []
    },
    {
      "cell_type": "code",
      "metadata": {
        "id": "gBQEAluYmk6a",
        "colab_type": "code",
        "colab": {}
      },
      "source": [
        "def latFinder(df):\n",
        "    x = 0\n",
        "    for columns in df.columns:\n",
        "      #If column name starts with 'Lat' and ends with 'itude' or ends at 'Lat', searchObj is true\n",
        "        latSearch = re.match( r'LAT(itude)?\\b', df.columns[x], re.I)\n",
        "        #If column name has X either at the beginning or in the name seperated by \" \" or \"_\"\n",
        "        xSearch= re.match( r'(.*[\\s_])?X.*', df.columns[x], re.I)\n",
        "        #If either are true, this column is chosen to be the X data column.\n",
        "        if latSearch or xSearch:\n",
        "            lat = df.columns[x]\n",
        "            return lat\n",
        "        else:\n",
        "            x = x + 1\n",
        "            pass\n",
        "    return \"\""
      ],
      "execution_count": 0,
      "outputs": []
    },
    {
      "cell_type": "markdown",
      "metadata": {
        "id": "lr-jZcevnJes",
        "colab_type": "text"
      },
      "source": [
        "# Dictionary Maker"
      ]
    },
    {
      "cell_type": "code",
      "metadata": {
        "id": "GzMGd7pImwRA",
        "colab_type": "code",
        "colab": {}
      },
      "source": [
        "#Searches the SDT file for input IDs and catelogs those IDs with the location/influenced attribute\n",
        "def MakeDictionary(updatedSDTFile):\n",
        "    file = ET.parse(updatedSDTFile)\n",
        "    root = file.getroot()\n",
        "    #Original entry to show format of the dictionary\n",
        "    inputDictionary={'Name':'Id'}\n",
        "    #Multiple nested loops to reach and search the line level where inputs are binded with Binding Tag\n",
        "    #Change names\n",
        "    for topLayer in root.findall('.//Glyph'):\n",
        "        for parent in topLayer:\n",
        "            for attribute in parent:\n",
        "                for tag in attribute:\n",
        "                  #Once in the attribute element, the binding tag is the only inport tag to store\n",
        "                    temporaryTag=attribute.find('Binding')\n",
        "                    if temporaryTag!=None:\n",
        "                      #Name is the Parent name of the attribute and the attribute name\n",
        "                      #ex. PositionX, RotationY, ColorRGB\n",
        "                        inputDictionary[parent.tag+attribute.tag]=temporaryTag.get('fieldId')\n",
        "                        temporaryTag=None\n",
        "                        \n",
        "    return inputDictionary"
      ],
      "execution_count": 0,
      "outputs": []
    },
    {
      "cell_type": "markdown",
      "metadata": {
        "id": "zc5tcEDYWyw5",
        "colab_type": "text"
      },
      "source": [
        "#Runner"
      ]
    },
    {
      "cell_type": "code",
      "metadata": {
        "id": "btbuxMoVW42s",
        "colab_type": "code",
        "colab": {}
      },
      "source": [
        "#Uses all necessary methods and variables to run the Glyph Generator\n",
        "#Converts a CSV file to a SDT file\n",
        "def runAll(sdtTemplate):\n",
        "  #Color variables for if a categorical column is available\n",
        "  colorCol = None #will change this name\n",
        "  categoricalColumnName = ''\n",
        "  catFound=False  #will change this name\n",
        "\n",
        "  #x variables for if a numeric column for specifically x is found\n",
        "  xColumnName=''\n",
        "  xFound=False\n",
        "\n",
        "  #y variables for if a numeric column for specifically y is found  \n",
        "  yColumnName=''\n",
        "  yFound=False\n",
        "\n",
        "  csvFile = selectCSVFile(sdtTemplate)\n",
        "  df = readCSV(csvFile)\n",
        "    \n",
        "  #Create a dictionary to hold the IDs of all inputs and where they are located.\n",
        "  inputDictionary =MakeDictionary(updatedSDTFile)\n",
        "\n",
        "  categoricalColumnName=getCategoricalColumnName(df,categoricalColumnName)\n",
        "  if(categoricalColumnName != ''):\n",
        "    catFound=True   #will change this name\n",
        "    colorCol=getCategoricalColumnOptions(df,categoricalColumnName) #will change this name\n",
        "\n",
        "  #Finds x with latFinder2 if there is an x specific column.\n",
        "  xColumnName=latFinder(df)\n",
        "  if(xColumnName!=''):\n",
        "    xFound=True\n",
        "            \n",
        "  #Finds y with longFinder2 if there is an y specific column.\n",
        "  yColumnName=longFinder(df)\n",
        "  if(yColumnName!=''):\n",
        "    yFound=True\n",
        "\n",
        "  updatedSDTFile=moveToNewFile(sdtTemplate,csvFile)#Use before new input fields are put in\n",
        "  numericColumnNames= typeDefiner(df,xColumnName,yColumnName) #will change name later\n",
        "  inputCountChecker(updatedSDTFile, catFound, numericColumnNames,inputDictionary)        #typeDefiner will be split into different functions\n",
        "    \n",
        "  XMLParser(numericColumnNames,updatedSDTFile,categoricalColumnName,catFound,inputDictionary,xColumnName,xFound,yColumnName,yFound, df) #make changes to names\n",
        "  #XMLParser(numericColumnNames,updatedSDTFile,categoricalColumnName,catFound,dictionary,xColumnName,xFound,yColumnName,yFound, df) #make changes to names\n",
        "  setupColor(colorCol, updatedSDTFile) #will change name later"
      ],
      "execution_count": 0,
      "outputs": []
    },
    {
      "cell_type": "code",
      "metadata": {
        "id": "GGLAjlvCW-uv",
        "colab_type": "code",
        "colab": {}
      },
      "source": [
        "#Run the Program\n",
        "#Tab variables for use in formatting SDT file.\n",
        "sevenTabs=\"\\n\\t\\t\\t\\t\\t\\t\\t\"\n",
        "eightTabs=\"\\n\\t\\t\\t\\t\\t\\t\\t\\t\"\n",
        "sixTabs=\"\\n\\t\\t\\t\\t\\t\\t\"\n",
        "fiveTabs=\"\\n\\t\\t\\t\\t\\t\"\n",
        "maxCategoricalOptions=101\n",
        "runAll('emptySDT.sdt')"
      ],
      "execution_count": 0,
      "outputs": []
    },
    {
      "cell_type": "markdown",
      "metadata": {
        "id": "Tu14M_iWRnyb",
        "colab_type": "text"
      },
      "source": [
        "# How to Make a .exe "
      ]
    },
    {
      "cell_type": "markdown",
      "metadata": {
        "id": "Z_Dx3vqPRv7a",
        "colab_type": "text"
      },
      "source": [
        "Download Python from the web, and select \"Add Python 3.7 to PATH\"\n",
        "\n",
        "File -> Download As -> Python (.py)\n",
        "\n",
        "Open Windows Command Prompt (either look up Windows Command Prompt in Search bar or Windows button + R, \n",
        "then type in \"cmd\")\n",
        "\n",
        "In Command Prompt - \n",
        "\n",
        "> pip install pyinstaller\n",
        "\n",
        "\n",
        "> cd yourfilepathhere\n",
        "\n",
        "\n",
        "> pyinstaller --onefile nameofyourfile.py\n",
        "\n",
        "Then check in the File explorer that were you had your original .py file, and there should be a folder names \"dist\"\n",
        "\n",
        "The executable file should be in there\n",
        "\n"
      ]
    }
  ]
}