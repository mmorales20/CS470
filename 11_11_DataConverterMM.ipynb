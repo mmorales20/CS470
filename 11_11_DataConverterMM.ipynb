{
  "nbformat": 4,
  "nbformat_minor": 0,
  "metadata": {
    "colab": {
      "name": "11_11_DataConverter.ipynb",
      "provenance": [],
      "collapsed_sections": [],
      "toc_visible": true,
      "include_colab_link": true
    },
    "kernelspec": {
      "name": "python3",
      "display_name": "Python 3"
    }
  },
  "cells": [
    {
      "cell_type": "markdown",
      "metadata": {
        "id": "view-in-github",
        "colab_type": "text"
      },
      "source": [
        "<a href=\"https://colab.research.google.com/github/mmorales20/CS470/blob/master/11_11_DataConverterMM.ipynb\" target=\"_parent\"><img src=\"https://colab.research.google.com/assets/colab-badge.svg\" alt=\"Open In Colab\"/></a>"
      ]
    },
    {
      "cell_type": "markdown",
      "metadata": {
        "id": "f9rWsUqtSF6m",
        "colab_type": "toc"
      },
      "source": [
        ">[Packages](#scrollTo=tkKZZHqhNzuN)\n",
        "\n",
        ">[Reading in CSV Files](#scrollTo=q7zSBFfcPXG_)\n",
        "\n",
        ">[Categorical Data finder](#scrollTo=LX7CdYrqTwe8)\n",
        "\n",
        ">[Numeric Data Finder](#scrollTo=5yOTozz4UfvX)\n",
        "\n",
        ">[SDT Changes](#scrollTo=BeheiUGPVn75)\n",
        "\n",
        ">[ETC](#scrollTo=wSVYcrMuWl-U)\n",
        "\n",
        ">[Runner](#scrollTo=zc5tcEDYWyw5)\n",
        "\n"
      ]
    },
    {
      "cell_type": "markdown",
      "metadata": {
        "id": "tkKZZHqhNzuN",
        "colab_type": "text"
      },
      "source": [
        "# Packages\n"
      ]
    },
    {
      "cell_type": "code",
      "metadata": {
        "id": "bMeWolURIfes",
        "colab_type": "code",
        "colab": {}
      },
      "source": [
        "#Download packages\n",
        "import csv\n",
        "import pandas as pd\n",
        "import re\n",
        "import xml.etree.ElementTree as ET\n",
        "\n",
        "#Download package for File Explorer pop up\n",
        "from tkinter import filedialog\n",
        "from tkinter import *"
      ],
      "execution_count": 0,
      "outputs": []
    },
    {
      "cell_type": "markdown",
      "metadata": {
        "id": "q7zSBFfcPXG_",
        "colab_type": "text"
      },
      "source": [
        "# Reading in CSV Files"
      ]
    },
    {
      "cell_type": "code",
      "metadata": {
        "id": "KrFhuCyWNh4-",
        "colab_type": "code",
        "colab": {}
      },
      "source": [
        "#Display a file explorer and allow user to select a CSV file that contains the desire data\n",
        "def getFile(sdtFile):\n",
        "    root = Tk()\n",
        "    root.filename =  filedialog.askopenfilename(initialdir = \"/\",title = \"Select file\",filetypes = ((\"text files\",\"*.csv\"),(\"all files\",\"*.*\")))\n",
        "    changePath(root.filename,sdtFile)\n",
        "    root.destroy()\n",
        "    return(root.filename)"
      ],
      "execution_count": 0,
      "outputs": []
    },
    {
      "cell_type": "code",
      "metadata": {
        "id": "vWP8el_4OzkA",
        "colab_type": "code",
        "colab": {}
      },
      "source": [
        "#Change the path based on the file selected by the user\n",
        "def changePath(path,sdtFile):\n",
        "    tree = ET.parse(sdtFile)\n",
        "    root = tree.getroot() \n",
        "    \n",
        "    for elem in root.findall('.//Datasources/Datasource/Host'):\n",
        "        elem.text=path\n",
        "    \n",
        "    for elem in root.findall('.//Datasources/Datasource/Name'):\n",
        "        elem.text=path\n",
        "        \n",
        "    tree.write(sdtFile,encoding=\"utf-8\", xml_declaration=True)"
      ],
      "execution_count": 0,
      "outputs": []
    },
    {
      "cell_type": "code",
      "metadata": {
        "id": "mRcpt9p3Ozzs",
        "colab_type": "code",
        "colab": {}
      },
      "source": [
        "#Read in each column of the CSV file that was selected\n",
        "def readCSV(csvName):\n",
        "    df = pd.read_csv(csvName)\n",
        "    print(\"reading csv done\")\n",
        "    return df"
      ],
      "execution_count": 0,
      "outputs": []
    },
    {
      "cell_type": "markdown",
      "metadata": {
        "id": "LX7CdYrqTwe8",
        "colab_type": "text"
      },
      "source": [
        "# Categorical Data finder"
      ]
    },
    {
      "cell_type": "code",
      "metadata": {
        "id": "7Bf2ouJyOz8a",
        "colab_type": "code",
        "colab": {}
      },
      "source": [
        "#Add each categoircal data column to a list\n",
        "def getCat(df,colorName):\n",
        "    x=0\n",
        "    for name in df.columns:\n",
        "        if df.dtypes[x] == 'object':\n",
        "             if len(df[name].astype('category').cat.categories.tolist()) >1 and len(df[name].astype('category').cat.categories.tolist()) <101 and colorName==\"\": \n",
        "                colorName=df.columns[x]\n",
        "        x= x+1\n",
        "    return colorName"
      ],
      "execution_count": 0,
      "outputs": []
    },
    {
      "cell_type": "code",
      "metadata": {
        "id": "dR9y4Ed-O0Cc",
        "colab_type": "code",
        "colab": {}
      },
      "source": [
        "#Within each column save each unique attribute to a list\n",
        "def getCatCol(df,colorName):\n",
        "    return df[colorName].astype('category').cat.categories.tolist()"
      ],
      "execution_count": 0,
      "outputs": []
    },
    {
      "cell_type": "markdown",
      "metadata": {
        "id": "5yOTozz4UfvX",
        "colab_type": "text"
      },
      "source": [
        "# Numeric Data Finder"
      ]
    },
    {
      "cell_type": "code",
      "metadata": {
        "id": "W7shBBIMO0YO",
        "colab_type": "code",
        "colab": {}
      },
      "source": [
        "#Find numeric data and add the column names to a list\n",
        "def typeDefiner(df,catFound,sdtFile):\n",
        "    colList = df.columns\n",
        "    colList\n",
        "    x = 0\n",
        "    colNames = []\n",
        "    for name in colList:\n",
        "        if df.dtypes[x] == 'object':# or df.dtypes[x] == 'int64':\n",
        "            pass\n",
        "        else:\n",
        "            colNames.append(colList[x])\n",
        "                \n",
        "        x = x + 1\n",
        "    \n",
        "    #Finds number of numeric inputs in case of no categorical data\n",
        "    file = ET.parse(sdtFile)\n",
        "    root = file.getroot()\n",
        "    inputCount=0\n",
        "    for elem in root.findall('.//InputFields'):\n",
        "        for inputs in elem.findall('.//InputField'):\n",
        "            inputCount+=1\n",
        "    \n",
        "    #Resets part of color section and input if there is no option for color\n",
        "    #NOT WORKING DO NOT ATTEMPT AT THIS MOMENT\n",
        "    if not catFound and inputCount>len(colNames):\n",
        "        resetToDefault(sdtFile)\n",
        "    print(\"input count is \"+str(catFound) +str(inputCount))\n",
        "    print(\"objects removed\")\n",
        "    print(colNames)\n",
        "    return colNames"
      ],
      "execution_count": 0,
      "outputs": []
    },
    {
      "cell_type": "markdown",
      "metadata": {
        "id": "BeheiUGPVn75",
        "colab_type": "text"
      },
      "source": [
        "# SDT Changes"
      ]
    },
    {
      "cell_type": "code",
      "metadata": {
        "id": "8z0nrjxSV0Kf",
        "colab_type": "code",
        "colab": {}
      },
      "source": [
        "#HAVING ERRORS DO NOT USE YET\n",
        "def toNumeric(sdtFile):\n",
        "\n",
        "    #import xml.etree.ElementTree as ET\n",
        "    #CLEARS COLOR OUT NOW WE CAN INSERT ANYTHING\n",
        "    file = ET.parse(sdtFile)\n",
        "    root = file.getroot()\n",
        "    for elem in root.findall('.//Glyph/Color/RGB/Function[@type=\"Text Field To Value\"]/KeyValuePairs'):\n",
        "        elem.clear()\n",
        "\n",
        "    for parent in root.findall('.//KeyValuePairs/..'):\n",
        "        for element in parent.findall('KeyValuePairs'):\n",
        "            parent.remove(element)\n",
        "   #Try to write here\n",
        "   # for elem in root.findall('.//Color/RGB/..):\n",
        "      #  check_req_elems = elem.find('.//Function[@type=\"Text Field To Value\"]')\n",
        "        #check_req_elems.type = \"Linear Interpolation\"\n",
        "       # check_req_elems.set(\"type\",\"Linear Interpolation\")\n",
        "       # attrib = {'type': 'BoundField'}\n",
        "       # minmax = ET.SubElement(check_req_elems, 'MinMax', attrib)\n",
        "       # minmax.text= \"\\n\\t\\t\\t\\t\\t\\t\\t\"\n",
        "       # min = ET.SubElement(minmax, 'Min')\n",
        "       # min.text = '0'\n",
        "       # min.tail=\"\\n\\t\\t\\t\\t\\t\\t\"\n",
        "       # minmax.tail=\"\\n\\t\\t\\t\\t\\t\"\n",
        "    file.write(sdtFile)\n",
        "    print(\"color fixed\")"
      ],
      "execution_count": 0,
      "outputs": []
    },
    {
      "cell_type": "code",
      "metadata": {
        "id": "tMSBrAehV0HJ",
        "colab_type": "code",
        "colab": {}
      },
      "source": [
        "#Accepted Params: list of column names, the .SDT file, column name, and boolean\n",
        "def XMLParser(colNames,sdtFile,colorName,catFound):\n",
        "    print(colNames)\n",
        "\n",
        "    tree = ET.parse(sdtFile)\n",
        "    root = tree.getroot()\n",
        "    count=0;\n",
        "    print(len(colNames))\n",
        "    for elem in root.iter('InputField'):\n",
        "        print(count)\n",
        "        if elem.get('name')!=\"color\":\n",
        "            elem.set('field', colNames[count])\n",
        "            count+=1\n",
        "        elif not catFound:\n",
        "            elem.set('field', colNames[count])\n",
        "            count+=1\n",
        "        else:\n",
        "            elem.set('field', colorName)\n",
        "        \n",
        "    tree.write(sdtFile)\n",
        "    print(\"XML updated\")"
      ],
      "execution_count": 0,
      "outputs": []
    },
    {
      "cell_type": "code",
      "metadata": {
        "id": "Oa4LNKhpV0Ck",
        "colab_type": "code",
        "colab": {}
      },
      "source": [
        "#\n",
        "def setupColor(colorCol,sdtFile):\n",
        "    file = ET.parse(sdtFile)\n",
        "    root = file.getroot()\n",
        "    x=0\n",
        "    if(colorCol==None):#and then potentially add a binding field\n",
        "        toNumeric(sdtFile)\n",
        "        \n",
        "    else:\n",
        "        for elem in root.findall('.//Color/RGB/Function[@type=\"Text Field To Value\"]/KeyValuePairs'):\n",
        "            for element in elem.findall('KeyValuePair/Key'):\n",
        "                element.text=colorCol[x]\n",
        "                x=x+1\n",
        "\n",
        "            if(len(colorCol)>2):\n",
        "                while x<len(colorCol):\n",
        "                    for elem in root.findall('.//Color/RGB/Function[@type=\"Text Field To Value\"]'):\n",
        "                        pairs = elem.find('.//KeyValuePairs')\n",
        "                #fixes spacing so new pair will be at right column/indent area\n",
        "                        for child in pairs.findall('.//KeyValuePair'):\n",
        "                            child.tail=\"\\n\\t\\t\\t\\t\\t\\t\\t\"\n",
        "                        keyVal =ET.SubElement(pairs, 'KeyValuePair')\n",
        "                        keyVal.text=\"\\n\\t\\t\\t\\t\\t\\t\\t\\t\"\n",
        "                        keyVal.tail=\"\\n\\t\\t\\t\\t\\t\\t\"\n",
        "                        keyValP= ET.SubElement(keyVal, 'Key')\n",
        "                        keyValP.text=colorCol[x]\n",
        "                        keyValP.tail=\"\\n\\t\\t\\t\\t\\t\\t\\t\\t\"\n",
        "                        key = ET.SubElement(keyVal, 'Value')\n",
        "                    \n",
        "                        key.tail=\"\\n\\t\\t\\t\\t\\t\\t\\t\"\n",
        "                        x=x+1\n",
        "    \n",
        "                        x=0\n",
        "\n",
        "                        count=0\n",
        "                        colorList=[] \n",
        "                        while count<len(colorCol):\n",
        "                            randomCol(colorList)\n",
        "                            count=count+1\n",
        "\n",
        "\n",
        "                        for elem in root.findall('.//Color/RGB/Function[@type=\"Text Field To Value\"]/KeyValuePairs'):\n",
        "                            for element in elem.findall('KeyValuePair/Value'):\n",
        "                                element.text=colorList[x]\n",
        "                                print(colorList[x])\n",
        "                                x=x+1\n",
        "                \n",
        "                \n",
        "    file.write(sdtFile,encoding=\"utf-8\", xml_declaration=True)\n"
      ],
      "execution_count": 0,
      "outputs": []
    },
    {
      "cell_type": "code",
      "metadata": {
        "id": "BOccAEAuVz-g",
        "colab_type": "code",
        "colab": {}
      },
      "source": [
        "#\n",
        "def moveToNewFile(sdtFile):\n",
        "    file = ET.parse(sdtFile)\n",
        "    file.write('emptySDT1.sdt',encoding=\"utf-8\", xml_declaration=True)\n",
        "    \n",
        "    return 'emptySDT1.sdt'"
      ],
      "execution_count": 0,
      "outputs": []
    },
    {
      "cell_type": "code",
      "metadata": {
        "id": "JSSFlLg9Vz3T",
        "colab_type": "code",
        "colab": {}
      },
      "source": [
        "def resetToDefault(sdtFile):\n",
        "    file = ET.parse(sdtFile)\n",
        "    root = file.getroot()\n",
        "    print(\"resetting\")\n",
        "    for parent in root.findall('.//Glyph/Color/RGB/..'):\n",
        "        for element in parent.findall('Binding[@fieldId=\"color\"]'):\n",
        "            parent.remove(element)\n",
        "    \n",
        "   # for parent in root.findall('.//InputFields/..'):\n",
        "    #    for element in parent.findall('.//InputField[@name=\"color\"]/'):\n",
        "     #       parent.remove(element)\n",
        "            \n",
        "            \n",
        "    #for elem in root.findall('.//Color/RGB/Function[@type=\"Text Field To Value\"]/KeyValuePairs'):\n",
        "     #   elem.clear()\n",
        "\n",
        "    #for parent in root.findall('.//KeyValuePairs/..'):\n",
        "    #    for element in parent.findall('KeyValuePairs'):\n",
        "    #        parent.remove(element)\n",
        "    file.write(sdtFile,encoding=\"utf-8\", xml_declaration=True)"
      ],
      "execution_count": 0,
      "outputs": []
    },
    {
      "cell_type": "code",
      "metadata": {
        "id": "em7kdeqGVzob",
        "colab_type": "code",
        "colab": {}
      },
      "source": [
        ""
      ],
      "execution_count": 0,
      "outputs": []
    },
    {
      "cell_type": "markdown",
      "metadata": {
        "id": "wSVYcrMuWl-U",
        "colab_type": "text"
      },
      "source": [
        "# ETC\n"
      ]
    },
    {
      "cell_type": "code",
      "metadata": {
        "id": "0s5XlLDhWppI",
        "colab_type": "code",
        "colab": {}
      },
      "source": [
        "#Random Color Generator\n",
        "def randomCol(colorList):\n",
        "    import random\n",
        "    r = random.random()*255\n",
        "    r=int(r)\n",
        "    g = random.random()*255\n",
        "    g=int(g)\n",
        "    b = random.random()*255\n",
        "    b=int(b)\n",
        "    color=str(r)+\",\"+str(g)+\",\"+str(b)\n",
        "    colorList.append(color)"
      ],
      "execution_count": 0,
      "outputs": []
    },
    {
      "cell_type": "markdown",
      "metadata": {
        "id": "zc5tcEDYWyw5",
        "colab_type": "text"
      },
      "source": [
        "#Runner"
      ]
    },
    {
      "cell_type": "code",
      "metadata": {
        "id": "btbuxMoVW42s",
        "colab_type": "code",
        "colab": {}
      },
      "source": [
        "def runAll(sdtFile):\n",
        "    colorCol= None\n",
        "    colorName=\"\"\n",
        "    catFound=False\n",
        "    csv = getFile(sdtFile)\n",
        "    df = readCSV(csv)\n",
        "    colorName=getCat(df,colorName)\n",
        "    print(colorName)\n",
        "    if(colorName!=\"\"):\n",
        "        catFound=True\n",
        "        colorCol=getCatCol(df,colorName)\n",
        "  \n",
        "    print(catFound)\n",
        "    sdtFile=moveToNewFile(sdtFile)\n",
        "    colNames = typeDefiner(df,catFound,sdtFile)\n",
        "    #colNames.append(colorName)\n",
        "    XMLParser(colNames, sdtFile,colorName,catFound)\n",
        "    setupColor(colorCol, sdtFile)\n",
        "   # csv = getFile()\n",
        "#readCSV(csv)"
      ],
      "execution_count": 0,
      "outputs": []
    },
    {
      "cell_type": "code",
      "metadata": {
        "id": "GGLAjlvCW-uv",
        "colab_type": "code",
        "outputId": "80680696-8e0c-48cd-b632-1c560d3a6cd0",
        "colab": {
          "base_uri": "https://localhost:8080/",
          "height": 306
        }
      },
      "source": [
        "runAll('emptySDT.sdt')"
      ],
      "execution_count": 0,
      "outputs": [
        {
          "output_type": "error",
          "ename": "TclError",
          "evalue": "ignored",
          "traceback": [
            "\u001b[0;31m---------------------------------------------------------------------------\u001b[0m",
            "\u001b[0;31mTclError\u001b[0m                                  Traceback (most recent call last)",
            "\u001b[0;32m<ipython-input-10-7dfcc2eb5483>\u001b[0m in \u001b[0;36m<module>\u001b[0;34m()\u001b[0m\n\u001b[0;32m----> 1\u001b[0;31m \u001b[0mrunAll\u001b[0m\u001b[0;34m(\u001b[0m\u001b[0;34m'emptySDT.sdt'\u001b[0m\u001b[0;34m)\u001b[0m\u001b[0;34m\u001b[0m\u001b[0;34m\u001b[0m\u001b[0m\n\u001b[0m",
            "\u001b[0;32m<ipython-input-2-a88b01eef380>\u001b[0m in \u001b[0;36mrunAll\u001b[0;34m(sdtFile)\u001b[0m\n\u001b[1;32m      3\u001b[0m     \u001b[0mcolorName\u001b[0m\u001b[0;34m=\u001b[0m\u001b[0;34m\"\"\u001b[0m\u001b[0;34m\u001b[0m\u001b[0;34m\u001b[0m\u001b[0m\n\u001b[1;32m      4\u001b[0m     \u001b[0mcatFound\u001b[0m\u001b[0;34m=\u001b[0m\u001b[0;32mFalse\u001b[0m\u001b[0;34m\u001b[0m\u001b[0;34m\u001b[0m\u001b[0m\n\u001b[0;32m----> 5\u001b[0;31m     \u001b[0mcsv\u001b[0m \u001b[0;34m=\u001b[0m \u001b[0mgetFile\u001b[0m\u001b[0;34m(\u001b[0m\u001b[0msdtFile\u001b[0m\u001b[0;34m)\u001b[0m\u001b[0;34m\u001b[0m\u001b[0;34m\u001b[0m\u001b[0m\n\u001b[0m\u001b[1;32m      6\u001b[0m     \u001b[0mdf\u001b[0m \u001b[0;34m=\u001b[0m \u001b[0mreadCSV\u001b[0m\u001b[0;34m(\u001b[0m\u001b[0mcsv\u001b[0m\u001b[0;34m)\u001b[0m\u001b[0;34m\u001b[0m\u001b[0;34m\u001b[0m\u001b[0m\n\u001b[1;32m      7\u001b[0m     \u001b[0mcolorName\u001b[0m\u001b[0;34m=\u001b[0m\u001b[0mgetCat\u001b[0m\u001b[0;34m(\u001b[0m\u001b[0mdf\u001b[0m\u001b[0;34m,\u001b[0m\u001b[0mcolorName\u001b[0m\u001b[0;34m)\u001b[0m\u001b[0;34m\u001b[0m\u001b[0;34m\u001b[0m\u001b[0m\n",
            "\u001b[0;32m<ipython-input-7-34ba5aacf840>\u001b[0m in \u001b[0;36mgetFile\u001b[0;34m(sdtFile)\u001b[0m\n\u001b[1;32m      1\u001b[0m \u001b[0;32mdef\u001b[0m \u001b[0mgetFile\u001b[0m\u001b[0;34m(\u001b[0m\u001b[0msdtFile\u001b[0m\u001b[0;34m)\u001b[0m\u001b[0;34m:\u001b[0m\u001b[0;34m\u001b[0m\u001b[0;34m\u001b[0m\u001b[0m\n\u001b[0;32m----> 2\u001b[0;31m     \u001b[0mroot\u001b[0m \u001b[0;34m=\u001b[0m \u001b[0mTk\u001b[0m\u001b[0;34m(\u001b[0m\u001b[0;34m)\u001b[0m\u001b[0;34m\u001b[0m\u001b[0;34m\u001b[0m\u001b[0m\n\u001b[0m\u001b[1;32m      3\u001b[0m     \u001b[0mroot\u001b[0m\u001b[0;34m.\u001b[0m\u001b[0mfilename\u001b[0m \u001b[0;34m=\u001b[0m  \u001b[0mfiledialog\u001b[0m\u001b[0;34m.\u001b[0m\u001b[0maskopenfilename\u001b[0m\u001b[0;34m(\u001b[0m\u001b[0minitialdir\u001b[0m \u001b[0;34m=\u001b[0m \u001b[0;34m\"/\"\u001b[0m\u001b[0;34m,\u001b[0m\u001b[0mtitle\u001b[0m \u001b[0;34m=\u001b[0m \u001b[0;34m\"Select file\"\u001b[0m\u001b[0;34m,\u001b[0m\u001b[0mfiletypes\u001b[0m \u001b[0;34m=\u001b[0m \u001b[0;34m(\u001b[0m\u001b[0;34m(\u001b[0m\u001b[0;34m\"text files\"\u001b[0m\u001b[0;34m,\u001b[0m\u001b[0;34m\"*.csv\"\u001b[0m\u001b[0;34m)\u001b[0m\u001b[0;34m,\u001b[0m\u001b[0;34m(\u001b[0m\u001b[0;34m\"all files\"\u001b[0m\u001b[0;34m,\u001b[0m\u001b[0;34m\"*.*\"\u001b[0m\u001b[0;34m)\u001b[0m\u001b[0;34m)\u001b[0m\u001b[0;34m)\u001b[0m\u001b[0;34m\u001b[0m\u001b[0;34m\u001b[0m\u001b[0m\n\u001b[1;32m      4\u001b[0m     \u001b[0mchangePath\u001b[0m\u001b[0;34m(\u001b[0m\u001b[0mroot\u001b[0m\u001b[0;34m.\u001b[0m\u001b[0mfilename\u001b[0m\u001b[0;34m,\u001b[0m\u001b[0msdtFile\u001b[0m\u001b[0;34m)\u001b[0m\u001b[0;34m\u001b[0m\u001b[0;34m\u001b[0m\u001b[0m\n\u001b[1;32m      5\u001b[0m     \u001b[0mroot\u001b[0m\u001b[0;34m.\u001b[0m\u001b[0mdestroy\u001b[0m\u001b[0;34m(\u001b[0m\u001b[0;34m)\u001b[0m\u001b[0;34m\u001b[0m\u001b[0;34m\u001b[0m\u001b[0m\n",
            "\u001b[0;32m/usr/lib/python3.6/tkinter/__init__.py\u001b[0m in \u001b[0;36m__init__\u001b[0;34m(self, screenName, baseName, className, useTk, sync, use)\u001b[0m\n\u001b[1;32m   2021\u001b[0m                 \u001b[0mbaseName\u001b[0m \u001b[0;34m=\u001b[0m \u001b[0mbaseName\u001b[0m \u001b[0;34m+\u001b[0m \u001b[0mext\u001b[0m\u001b[0;34m\u001b[0m\u001b[0;34m\u001b[0m\u001b[0m\n\u001b[1;32m   2022\u001b[0m         \u001b[0minteractive\u001b[0m \u001b[0;34m=\u001b[0m \u001b[0;36m0\u001b[0m\u001b[0;34m\u001b[0m\u001b[0;34m\u001b[0m\u001b[0m\n\u001b[0;32m-> 2023\u001b[0;31m         \u001b[0mself\u001b[0m\u001b[0;34m.\u001b[0m\u001b[0mtk\u001b[0m \u001b[0;34m=\u001b[0m \u001b[0m_tkinter\u001b[0m\u001b[0;34m.\u001b[0m\u001b[0mcreate\u001b[0m\u001b[0;34m(\u001b[0m\u001b[0mscreenName\u001b[0m\u001b[0;34m,\u001b[0m \u001b[0mbaseName\u001b[0m\u001b[0;34m,\u001b[0m \u001b[0mclassName\u001b[0m\u001b[0;34m,\u001b[0m \u001b[0minteractive\u001b[0m\u001b[0;34m,\u001b[0m \u001b[0mwantobjects\u001b[0m\u001b[0;34m,\u001b[0m \u001b[0museTk\u001b[0m\u001b[0;34m,\u001b[0m \u001b[0msync\u001b[0m\u001b[0;34m,\u001b[0m \u001b[0muse\u001b[0m\u001b[0;34m)\u001b[0m\u001b[0;34m\u001b[0m\u001b[0;34m\u001b[0m\u001b[0m\n\u001b[0m\u001b[1;32m   2024\u001b[0m         \u001b[0;32mif\u001b[0m \u001b[0museTk\u001b[0m\u001b[0;34m:\u001b[0m\u001b[0;34m\u001b[0m\u001b[0;34m\u001b[0m\u001b[0m\n\u001b[1;32m   2025\u001b[0m             \u001b[0mself\u001b[0m\u001b[0;34m.\u001b[0m\u001b[0m_loadtk\u001b[0m\u001b[0;34m(\u001b[0m\u001b[0;34m)\u001b[0m\u001b[0;34m\u001b[0m\u001b[0;34m\u001b[0m\u001b[0m\n",
            "\u001b[0;31mTclError\u001b[0m: no display name and no $DISPLAY environment variable"
          ]
        }
      ]
    }
  ]
}