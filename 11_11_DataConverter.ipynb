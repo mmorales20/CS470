{
  "nbformat": 4,
  "nbformat_minor": 0,
  "metadata": {
    "colab": {
      "name": "11_11_DataConverter.ipynb",
      "provenance": [],
      "collapsed_sections": [],
      "toc_visible": true,
      "include_colab_link": true
    },
    "kernelspec": {
      "name": "python3",
      "display_name": "Python 3"
    }
  },
  "cells": [
    {
      "cell_type": "markdown",
      "metadata": {
        "id": "view-in-github",
        "colab_type": "text"
      },
      "source": [
        "<a href=\"https://colab.research.google.com/github/mmorales20/CS470/blob/master/11_11_DataConverter.ipynb\" target=\"_parent\"><img src=\"https://colab.research.google.com/assets/colab-badge.svg\" alt=\"Open In Colab\"/></a>"
      ]
    },
    {
      "cell_type": "markdown",
      "metadata": {
        "id": "f9rWsUqtSF6m",
        "colab_type": "toc"
      },
      "source": [
        ">[Packages](#scrollTo=tkKZZHqhNzuN)\n",
        "\n",
        ">[Reading in CSV Files](#scrollTo=q7zSBFfcPXG_)\n",
        "\n",
        ">[Categorical Data finder](#scrollTo=LX7CdYrqTwe8)\n",
        "\n",
        ">[Numeric Data Finder](#scrollTo=5yOTozz4UfvX)\n",
        "\n",
        ">[SDT Changes](#scrollTo=BeheiUGPVn75)\n",
        "\n",
        ">[ETC](#scrollTo=wSVYcrMuWl-U)\n",
        "\n",
        ">[Runner](#scrollTo=zc5tcEDYWyw5)\n",
        "\n"
      ]
    },
    {
      "cell_type": "markdown",
      "metadata": {
        "id": "tkKZZHqhNzuN",
        "colab_type": "text"
      },
      "source": [
        "# Packages\n"
      ]
    },
    {
      "cell_type": "code",
      "metadata": {
        "id": "bMeWolURIfes",
        "colab_type": "code",
        "colab": {}
      },
      "source": [
        "#Download packages\n",
        "import pandas as pd\n",
        "import re\n",
        "import xml.etree.ElementTree as ET\n",
        "\n",
        "#Download package for File Explorer pop up\n",
        "from tkinter import filedialog\n",
        "from tkinter import *\n",
        "\n",
        "import os"
      ],
      "execution_count": 0,
      "outputs": []
    },
    {
      "cell_type": "markdown",
      "metadata": {
        "id": "q7zSBFfcPXG_",
        "colab_type": "text"
      },
      "source": [
        "# Reading in CSV Files"
      ]
    },
    {
      "cell_type": "code",
      "metadata": {
        "id": "KrFhuCyWNh4-",
        "colab_type": "code",
        "colab": {}
      },
      "source": [
        "#Display a file explorer and allow user to select a CSV file that contains the data\n",
        "def getFile(sdtFile):\n",
        "    root = Tk()\n",
        "    root.filename =  filedialog.askopenfilename(initialdir = \"/\",title = \"Select file\",filetypes = ((\"text files\",\"*.csv\"),(\"all files\",\"*.*\")))\n",
        "    #Since the above line goes off the screen this is the entire line:\n",
        "    #root.filename =  filedialog.askopenfilename(initialdir = \"/\",\n",
        "          #title = \"Select file\",filetypes = \n",
        "          #((\"text files\",\"*.csv\"),(\"all files\",\"*.*\")))\n",
        "    \n",
        "    changePath(root.filename,sdtFile)\n",
        "    root.destroy()\n",
        "    return(root.filename)"
      ],
      "execution_count": 0,
      "outputs": []
    },
    {
      "cell_type": "code",
      "metadata": {
        "id": "vWP8el_4OzkA",
        "colab_type": "code",
        "colab": {}
      },
      "source": [
        "#Change the path based on the file selected by the user\n",
        "def changePath(path,sdtFile):\n",
        "    tree = ET.parse(sdtFile)\n",
        "    root = tree.getroot() \n",
        "    \n",
        "    for elem in root.findall('.//Datasources/Datasource/Host'):\n",
        "        elem.text=path\n",
        "    \n",
        "    for elem in root.findall('.//Datasources/Datasource/Name'):\n",
        "        elem.text=path\n",
        "        \n",
        "    tree.write(sdtFile,encoding=\"utf-8\", xml_declaration=True)"
      ],
      "execution_count": 0,
      "outputs": []
    },
    {
      "cell_type": "code",
      "metadata": {
        "id": "mRcpt9p3Ozzs",
        "colab_type": "code",
        "colab": {}
      },
      "source": [
        "#Read in each column of the CSV file that was selected\n",
        "def readCSV(csvName):\n",
        "    df = pd.read_csv(csvName)\n",
        "    print(\"reading csv done\")\n",
        "    return df"
      ],
      "execution_count": 0,
      "outputs": []
    },
    {
      "cell_type": "markdown",
      "metadata": {
        "id": "Tu14M_iWRnyb",
        "colab_type": "text"
      },
      "source": [
        "# How to Make a .exe "
      ]
    },
    {
      "cell_type": "markdown",
      "metadata": {
        "id": "Z_Dx3vqPRv7a",
        "colab_type": "text"
      },
      "source": [
        "Download Python from the web, and select \"Add Python 3.7 to PATH\"\n",
        "\n",
        "File -> Download As -> Python (.py)\n",
        "\n",
        "Open Windows Command Prompt (either look up Windows Command Prompt in Search bar or Windows button + R, \n",
        "then type in \"cmd\")\n",
        "\n",
        "In Command Prompt - \n",
        "\n",
        "> pip install pyinstaller\n",
        "\n",
        "\n",
        "> cd yourfilepathhere\n",
        "\n",
        "\n",
        "> pyinstaller --onefile nameofyourfile.py\n",
        "\n",
        "Then check in the File explorer that were you had your original .py file, and there should be a folder names \"dist\"\n",
        "\n",
        "The executable file should be in there\n",
        "\n"
      ]
    },
    {
      "cell_type": "markdown",
      "metadata": {
        "id": "LX7CdYrqTwe8",
        "colab_type": "text"
      },
      "source": [
        "# Categorical Data Finder"
      ]
    },
    {
      "cell_type": "code",
      "metadata": {
        "id": "7Bf2ouJyOz8a",
        "colab_type": "code",
        "colab": {}
      },
      "source": [
        "#Add each categoircal data column to a dataframe\n",
        "def getCat(df,colorName):\n",
        "    x=0\n",
        "    for name in df.columns:\n",
        "        if df.dtypes[x] == 'object':\n",
        "             if len(df[name].astype('category').cat.categories.tolist()) >1 and len(df[name].astype('category').cat.categories.tolist()) <3 and colorName==\"\": \n",
        "             #View Full Code:\n",
        "             #if len(df[name].astype('category').cat.categories.tolist()) >1 \n",
        "                  #and len(df[name].astype('category').cat.categories.tolist()) \n",
        "                  #<101 and colorName==\"\": \n",
        "                colorName=df.columns[x]\n",
        "        x= x+1\n",
        "    return colorName"
      ],
      "execution_count": 0,
      "outputs": []
    },
    {
      "cell_type": "code",
      "metadata": {
        "id": "dR9y4Ed-O0Cc",
        "colab_type": "code",
        "colab": {}
      },
      "source": [
        "#Within each column save each unique attribute to a list\n",
        "def getCatCol(df,colorName):\n",
        "    return df[colorName].astype('category').cat.categories.tolist()"
      ],
      "execution_count": 0,
      "outputs": []
    },
    {
      "cell_type": "markdown",
      "metadata": {
        "id": "5yOTozz4UfvX",
        "colab_type": "text"
      },
      "source": [
        "# Numeric Data Finder"
      ]
    },
    {
      "cell_type": "code",
      "metadata": {
        "id": "W7shBBIMO0YO",
        "colab_type": "code",
        "colab": {}
      },
      "source": [
        "#Find numeric (int and float) data and add the column names to a list\n",
        "def typeDefiner(df,catFound,sdtFile):\n",
        "    colList = df.columns\n",
        "    colList\n",
        "    x = 0\n",
        "    colNames = []\n",
        "    for name in colList:\n",
        "        if df.dtypes[x] == 'object':# or df.dtypes[x] == 'int64':\n",
        "            pass\n",
        "        else:\n",
        "            colNames.append(colList[x])    \n",
        "        x = x + 1\n",
        "    \n",
        "    #Finds number of numeric inputs in case of no categorical data\n",
        "    file = ET.parse(sdtFile)\n",
        "    root = file.getroot()\n",
        "    inputCount=0\n",
        "    for elem in root.findall('.//InputFields'):\n",
        "        for inputs in elem.findall('.//InputField'):\n",
        "            inputCount+=1\n",
        "    \n",
        "    #Resets part of color section and input if there is no option for color\n",
        "    if not catFound and inputCount>len(colNames):\n",
        "        resetToDefault(sdtFile)\n",
        "    print(\"input count is \"+str(catFound) +str(inputCount))\n",
        "    print(\"objects removed\")\n",
        "    print(colNames)\n",
        "    return colNames"
      ],
      "execution_count": 0,
      "outputs": []
    },
    {
      "cell_type": "code",
      "metadata": {
        "id": "thckYaw4ozq3",
        "colab_type": "code",
        "colab": {}
      },
      "source": [
        ""
      ],
      "execution_count": 0,
      "outputs": []
    },
    {
      "cell_type": "markdown",
      "metadata": {
        "id": "XCNPi5PvWh2F",
        "colab_type": "text"
      },
      "source": [
        "# Random nameID Generator"
      ]
    },
    {
      "cell_type": "code",
      "metadata": {
        "id": "1u6mFV9pWiLw",
        "colab_type": "code",
        "colab": {}
      },
      "source": [
        "# This is to generate random name IDs for one of our subelements\n",
        "def randomNameIDGenerator():\n",
        "    name = \"~\"\n",
        "    z = 0\n",
        "    while z < 10:\n",
        "        value = randint(0, 10)\n",
        "        name += str(value)\n",
        "        z = z + 1\n",
        "    return name  "
      ],
      "execution_count": 0,
      "outputs": []
    },
    {
      "cell_type": "markdown",
      "metadata": {
        "id": "BeheiUGPVn75",
        "colab_type": "text"
      },
      "source": [
        "# SDT Changes"
      ]
    },
    {
      "cell_type": "code",
      "metadata": {
        "id": "8z0nrjxSV0Kf",
        "colab_type": "code",
        "colab": {
          "base_uri": "https://localhost:8080/",
          "height": 131
        },
        "outputId": "71a2da42-b309-4eec-b8a4-cc05e036d6c9"
      },
      "source": [
        "#Fully functional - \n",
        "#Clears out the tag in the color section and formats the SDT file\n",
        "def toNumeric(sdtFile):\n",
        "\n",
        "    #Finds keyValuePairs tag and clears out the tag.\n",
        "    file = ET.parse(sdtFile)\n",
        "    root = file.getroot()\n",
        "    for elem in root.findall('.//Glyph/Color/RGB/Function[@type=\"Text Field To Value\"]/KeyValuePairs'):\n",
        "    #View Full Line:\n",
        "    #for elem in root.findall('.//Glyph/Color/RGB/Function[@type=\"Text Field \n",
        "          #To Value\"]/KeyValuePairs'):\n",
        "        elem.clear()\n",
        "\n",
        "    #Finds end tag and removes end tag from code\n",
        "    for parent in root.findall('.//KeyValuePairs/..'):\n",
        "        for element in parent.findall('KeyValuePairs'):\n",
        "            parent.remove(element)\n",
        "   #Sets up function to use numeric data with the appropriate lines\n",
        "    for elem in root.findall('.//Color/RGB/..'):\n",
        "        function_elem = elem.find('.//Function')\n",
        "        function_elem.set(\"type\",\"Linear Interpolation\")\n",
        "        attrib = {'type': 'BoundField'}\n",
        "        minmax = ET.SubElement(check_req_elems, 'MinMax', attrib)\n",
        "        minmax.text= \"\\n\\t\\t\\t\\t\\t\\t\\t\"\n",
        "        min = ET.SubElement(minmax, 'Min')\n",
        "        min.text = '0'\n",
        "        min.tail=\"\\n\\t\\t\\t\\t\\t\\t\"\n",
        "        minmax.tail=\"\\n\\t\\t\\t\\t\\t\"\n",
        "    file.write(sdtFile)\n",
        "    print(\"color fixed\")"
      ],
      "execution_count": 9,
      "outputs": [
        {
          "output_type": "error",
          "ename": "SyntaxError",
          "evalue": "ignored",
          "traceback": [
            "\u001b[0;36m  File \u001b[0;32m\"<ipython-input-9-425e3b33f8f3>\"\u001b[0;36m, line \u001b[0;32m17\u001b[0m\n\u001b[0;31m    for elem in root.findall('.//Color/RGB/..):\u001b[0m\n\u001b[0m                                               ^\u001b[0m\n\u001b[0;31mSyntaxError\u001b[0m\u001b[0;31m:\u001b[0m EOL while scanning string literal\n"
          ]
        }
      ]
    },
    {
      "cell_type": "code",
      "metadata": {
        "id": "tMSBrAehV0HJ",
        "colab_type": "code",
        "colab": {}
      },
      "source": [
        "#Accepted Params: list of column names, the .SDT file, column name, and boolean\n",
        "def XMLParser(colNames,sdtFile,colorName,catFound):\n",
        "    print(colNames)\n",
        "\n",
        "    tree = ET.parse(sdtFile)\n",
        "    root = tree.getroot()\n",
        "    count=0;\n",
        "    print(len(colNames))\n",
        "    for elem in root.iter('InputField'):\n",
        "        print(count)\n",
        "        if elem.get('name')!=\"color\":\n",
        "            elem.set('field', colNames[count])\n",
        "            count+=1\n",
        "        elif not catFound:\n",
        "            elem.set('field', colNames[count])\n",
        "            count+=1\n",
        "        else:\n",
        "            elem.set('field', colorName)\n",
        "        \n",
        "    tree.write(sdtFile)\n",
        "    print(\"XML updated\")"
      ],
      "execution_count": 0,
      "outputs": []
    },
    {
      "cell_type": "code",
      "metadata": {
        "id": "Oa4LNKhpV0Ck",
        "colab_type": "code",
        "colab": {}
      },
      "source": [
        "#\n",
        "def setupColor(colorCol,sdtFile):\n",
        "    file = ET.parse(sdtFile)\n",
        "    root = file.getroot()\n",
        "    x=0\n",
        "    if(colorCol==None):#Changes Color code to take in numeric data\n",
        "        toNumeric(sdtFile)\n",
        "        \n",
        "    else:\n",
        "      #sets up prexisting key value pairs with the first 2 categorical options\n",
        "        for parent in root.findall('.//Color/RGB/Function[@type=\"Text Field To Value\"]/KeyValuePairs'):\n",
        "        #View Full Line:\n",
        "        #for parent in root.findall('.//Color/RGB/Function[@type=\"Text Field \n",
        "              #To Value\"]/KeyValuePairs'):\n",
        "            for elem in parent.findall('KeyValuePair/Key'):\n",
        "                elem.text=colorCol[x]\n",
        "                x=x+1\n",
        "\n",
        "        #Creates new key value pairs for the rest of the categorical list\n",
        "            if(len(colorCol)>2):\n",
        "                while x<len(colorCol):\n",
        "                    for elem in root.findall('.//Color/RGB/Function[@type=\"Text Field To Value\"]'):\n",
        "                    #View Full Line:\n",
        "                    #for elem in root.findall('.//Color/RGB/\n",
        "                            #Function[@type=\"Text Field To Value\"]'):    \n",
        "                        pairs = elem.find('.//KeyValuePairs')\n",
        "                        #fixes spacing so new pair will be at right \n",
        "                          #column/indent area\n",
        "                        #Adds key value pair as subelement to key value pairs\n",
        "                        for child in pairs.findall('.//KeyValuePair'):\n",
        "                            child.tail=\"\\n\\t\\t\\t\\t\\t\\t\\t\"\n",
        "                        keyVal =ET.SubElement(pairs, 'KeyValuePair')\n",
        "                        keyVal.text=\"\\n\\t\\t\\t\\t\\t\\t\\t\\t\"\n",
        "                        keyVal.tail=\"\\n\\t\\t\\t\\t\\t\\t\"\n",
        "                        keyValP= ET.SubElement(keyVal, 'Key')\n",
        "                        keyValP.text=colorCol[x]\n",
        "                        keyValP.tail=\"\\n\\t\\t\\t\\t\\t\\t\\t\\t\"\n",
        "                        key = ET.SubElement(keyVal, 'Value')\n",
        "                    \n",
        "                        key.tail=\"\\n\\t\\t\\t\\t\\t\\t\\t\"\n",
        "                        x=x+1\n",
        "    \n",
        "                        x=0\n",
        "\n",
        "                        #Creates an array of random colors for the categorical data\n",
        "                        count=0\n",
        "                        colorList=[] \n",
        "                        while count<len(colorCol):\n",
        "                            randomCol(colorList)\n",
        "                            count=count+1\n",
        "\n",
        "                        \n",
        "                        #sets up color values for each key value pair\n",
        "                        for elem in root.findall('.//Color/RGB/Function[@type=\"Text Field To Value\"]/KeyValuePairs'):\n",
        "                        #View Full Line:\n",
        "                        #for elem in root.findall('.//Color/RGB/Function[@type=\n",
        "                              #\"Text Field To Value\"]/KeyValuePairs'):\n",
        "                            for element in elem.findall('KeyValuePair/Value'):\n",
        "                                element.text=colorList[x]\n",
        "                                print(colorList[x])\n",
        "                                x=x+1\n",
        "        file.write(sdtFile,encoding=\"utf-8\", xml_declaration=True)\n"
      ],
      "execution_count": 0,
      "outputs": []
    },
    {
      "cell_type": "code",
      "metadata": {
        "id": "BOccAEAuVz-g",
        "colab_type": "code",
        "colab": {}
      },
      "source": [
        "#\n",
        "def moveToNewFile(sdtFile):\n",
        "    file = ET.parse(sdtFile)\n",
        "    base=os.path.basename(csv)\n",
        "    newFile =os.path.splitext(base)[0]+\".sdt\"\n",
        "    file.write(newFile,encoding=\"utf-8\", xml_declaration=True)\n",
        "    \n",
        "    return newFile"
      ],
      "execution_count": 0,
      "outputs": []
    },
    {
      "cell_type": "code",
      "metadata": {
        "id": "JSSFlLg9Vz3T",
        "colab_type": "code",
        "colab": {}
      },
      "source": [
        "def resetToDefault(sdtFile):\n",
        "    file = ET.parse(sdtFile)\n",
        "    root = file.getroot()\n",
        "    print(\"resetting\")\n",
        "    removeElement=None\n",
        "    for parent in root.findall('.//Glyph/Color/RGB'):\n",
        "        for elem in parent:\n",
        "            if(removeElement==None):\n",
        "                removeElement = parent.find('Binding')\n",
        "        if(removeElement!=None):\n",
        "            parent.remove(removeElement)\n",
        "            removeElement=None\n",
        "    \n",
        "    for parent in root.findall('.//InputFields'):\n",
        "        for elem in parent:\n",
        "            if(removeElement==None):\n",
        "                removeElement =  parent.find('InputField[@name=\"color\"]')\n",
        "              \n",
        "        if (removeElement!=None):\n",
        "            parent.remove(removeElement)\n",
        "            reMoveElement=None\n",
        "    \n",
        "    count=0\n",
        "    #fixes indent spacing for new last element\n",
        "    for parent in root.findall('.//InputFields'):\n",
        "        for elem in parent:\n",
        "            if(count==len(parent)-1):\n",
        "                elem.tail=\"\\n\\t\"\n",
        "            count+=1\n",
        "        \n",
        "    file.write(sdtFile,encoding=\"utf-8\", xml_declaration=True)"
      ],
      "execution_count": 0,
      "outputs": []
    },
    {
      "cell_type": "code",
      "metadata": {
        "id": "em7kdeqGVzob",
        "colab_type": "code",
        "colab": {}
      },
      "source": [
        ""
      ],
      "execution_count": 0,
      "outputs": []
    },
    {
      "cell_type": "markdown",
      "metadata": {
        "id": "wSVYcrMuWl-U",
        "colab_type": "text"
      },
      "source": [
        "# Random Color Generator\n"
      ]
    },
    {
      "cell_type": "code",
      "metadata": {
        "id": "0s5XlLDhWppI",
        "colab_type": "code",
        "colab": {}
      },
      "source": [
        "#Random Color Generator\n",
        "def randomColors(colorList):\n",
        "    import random\n",
        "    rVal = random.random()*255\n",
        "    rVal=int(rVal)\n",
        "    gVal = random.random()*255\n",
        "    gVal=int(gVal)\n",
        "    bVal = random.random()*255\n",
        "    bVal=int(bVal)\n",
        "    color=str(rVal)+\",\"+str(gVal)+\",\"+str(bVal)\n",
        "    colorList.append(color)"
      ],
      "execution_count": 0,
      "outputs": []
    },
    {
      "cell_type": "markdown",
      "metadata": {
        "id": "zc5tcEDYWyw5",
        "colab_type": "text"
      },
      "source": [
        "#Runner"
      ]
    },
    {
      "cell_type": "code",
      "metadata": {
        "id": "btbuxMoVW42s",
        "colab_type": "code",
        "colab": {}
      },
      "source": [
        "def runAll(sdtFile):\n",
        "    csv = getFile(sdtFile)\n",
        "    df = readCSV(csv)\n",
        "    colorName=getCat(df,colorName)\n",
        "    if(colorName!=\"\"):\n",
        "        catFound=True\n",
        "        colorCol=getCatCol(df,colorName)\n",
        "  \n",
        "    sdtFile=moveToNewFile(sdtFile,csv)\n",
        "    colNames = typeDefiner(df,catFound,sdtFile)\n",
        "    XMLParser(colNames, sdtFile,colorName,catFound)\n",
        "    setupColor(colorCol, sdtFile)"
      ],
      "execution_count": 0,
      "outputs": []
    },
    {
      "cell_type": "code",
      "metadata": {
        "id": "GGLAjlvCW-uv",
        "colab_type": "code",
        "colab": {
          "base_uri": "https://localhost:8080/",
          "height": 366
        },
        "outputId": "3136ebe5-6fee-4890-94b4-01312a1da295"
      },
      "source": [
        "colorCol= None\n",
        "colorName=\"\"\n",
        "catFound=False\n",
        "runAll('emptySDT.sdt')"
      ],
      "execution_count": 19,
      "outputs": [
        {
          "output_type": "error",
          "ename": "TclError",
          "evalue": "ignored",
          "traceback": [
            "\u001b[0;31m---------------------------------------------------------------------------\u001b[0m",
            "\u001b[0;31mTclError\u001b[0m                                  Traceback (most recent call last)",
            "\u001b[0;32m<ipython-input-19-ae9049d1df43>\u001b[0m in \u001b[0;36m<module>\u001b[0;34m()\u001b[0m\n\u001b[1;32m      2\u001b[0m \u001b[0mcolorName\u001b[0m\u001b[0;34m=\u001b[0m\u001b[0;34m\"\"\u001b[0m\u001b[0;34m\u001b[0m\u001b[0;34m\u001b[0m\u001b[0m\n\u001b[1;32m      3\u001b[0m \u001b[0mcatFound\u001b[0m\u001b[0;34m=\u001b[0m\u001b[0;32mFalse\u001b[0m\u001b[0;34m\u001b[0m\u001b[0;34m\u001b[0m\u001b[0m\n\u001b[0;32m----> 4\u001b[0;31m \u001b[0mrunAll\u001b[0m\u001b[0;34m(\u001b[0m\u001b[0;34m'emptySDT.sdt'\u001b[0m\u001b[0;34m)\u001b[0m\u001b[0;34m\u001b[0m\u001b[0;34m\u001b[0m\u001b[0m\n\u001b[0m",
            "\u001b[0;32m<ipython-input-17-47fabed89e4a>\u001b[0m in \u001b[0;36mrunAll\u001b[0;34m(sdtFile)\u001b[0m\n\u001b[1;32m      1\u001b[0m \u001b[0;32mdef\u001b[0m \u001b[0mrunAll\u001b[0m\u001b[0;34m(\u001b[0m\u001b[0msdtFile\u001b[0m\u001b[0;34m)\u001b[0m\u001b[0;34m:\u001b[0m\u001b[0;34m\u001b[0m\u001b[0;34m\u001b[0m\u001b[0m\n\u001b[0;32m----> 2\u001b[0;31m     \u001b[0mcsv\u001b[0m \u001b[0;34m=\u001b[0m \u001b[0mgetFile\u001b[0m\u001b[0;34m(\u001b[0m\u001b[0msdtFile\u001b[0m\u001b[0;34m)\u001b[0m\u001b[0;34m\u001b[0m\u001b[0;34m\u001b[0m\u001b[0m\n\u001b[0m\u001b[1;32m      3\u001b[0m     \u001b[0mdf\u001b[0m \u001b[0;34m=\u001b[0m \u001b[0mreadCSV\u001b[0m\u001b[0;34m(\u001b[0m\u001b[0mcsv\u001b[0m\u001b[0;34m)\u001b[0m\u001b[0;34m\u001b[0m\u001b[0;34m\u001b[0m\u001b[0m\n\u001b[1;32m      4\u001b[0m     \u001b[0mcolorName\u001b[0m\u001b[0;34m=\u001b[0m\u001b[0mgetCat\u001b[0m\u001b[0;34m(\u001b[0m\u001b[0mdf\u001b[0m\u001b[0;34m,\u001b[0m\u001b[0mcolorName\u001b[0m\u001b[0;34m)\u001b[0m\u001b[0;34m\u001b[0m\u001b[0;34m\u001b[0m\u001b[0m\n\u001b[1;32m      5\u001b[0m     \u001b[0;32mif\u001b[0m\u001b[0;34m(\u001b[0m\u001b[0mcolorName\u001b[0m\u001b[0;34m!=\u001b[0m\u001b[0;34m\"\"\u001b[0m\u001b[0;34m)\u001b[0m\u001b[0;34m:\u001b[0m\u001b[0;34m\u001b[0m\u001b[0;34m\u001b[0m\u001b[0m\n",
            "\u001b[0;32m<ipython-input-2-35dd147e3c11>\u001b[0m in \u001b[0;36mgetFile\u001b[0;34m(sdtFile)\u001b[0m\n\u001b[1;32m      1\u001b[0m \u001b[0;32mdef\u001b[0m \u001b[0mgetFile\u001b[0m\u001b[0;34m(\u001b[0m\u001b[0msdtFile\u001b[0m\u001b[0;34m)\u001b[0m\u001b[0;34m:\u001b[0m\u001b[0;34m\u001b[0m\u001b[0;34m\u001b[0m\u001b[0m\n\u001b[0;32m----> 2\u001b[0;31m     \u001b[0mroot\u001b[0m \u001b[0;34m=\u001b[0m \u001b[0mTk\u001b[0m\u001b[0;34m(\u001b[0m\u001b[0;34m)\u001b[0m\u001b[0;34m\u001b[0m\u001b[0;34m\u001b[0m\u001b[0m\n\u001b[0m\u001b[1;32m      3\u001b[0m     \u001b[0mroot\u001b[0m\u001b[0;34m.\u001b[0m\u001b[0mfilename\u001b[0m \u001b[0;34m=\u001b[0m  \u001b[0mfiledialog\u001b[0m\u001b[0;34m.\u001b[0m\u001b[0maskopenfilename\u001b[0m\u001b[0;34m(\u001b[0m\u001b[0minitialdir\u001b[0m \u001b[0;34m=\u001b[0m \u001b[0;34m\"/\"\u001b[0m\u001b[0;34m,\u001b[0m\u001b[0mtitle\u001b[0m \u001b[0;34m=\u001b[0m \u001b[0;34m\"Select file\"\u001b[0m\u001b[0;34m,\u001b[0m\u001b[0mfiletypes\u001b[0m \u001b[0;34m=\u001b[0m \u001b[0;34m(\u001b[0m\u001b[0;34m(\u001b[0m\u001b[0;34m\"text files\"\u001b[0m\u001b[0;34m,\u001b[0m\u001b[0;34m\"*.csv\"\u001b[0m\u001b[0;34m)\u001b[0m\u001b[0;34m,\u001b[0m\u001b[0;34m(\u001b[0m\u001b[0;34m\"all files\"\u001b[0m\u001b[0;34m,\u001b[0m\u001b[0;34m\"*.*\"\u001b[0m\u001b[0;34m)\u001b[0m\u001b[0;34m)\u001b[0m\u001b[0;34m)\u001b[0m\u001b[0;34m\u001b[0m\u001b[0;34m\u001b[0m\u001b[0m\n\u001b[1;32m      4\u001b[0m     \u001b[0;31m#Since the above line goes off the screen this is the entire line:\u001b[0m\u001b[0;34m\u001b[0m\u001b[0;34m\u001b[0m\u001b[0;34m\u001b[0m\u001b[0m\n\u001b[1;32m      5\u001b[0m     \u001b[0;31m#root.filename =  filedialog.askopenfilename(initialdir = \"/\",\u001b[0m\u001b[0;34m\u001b[0m\u001b[0;34m\u001b[0m\u001b[0;34m\u001b[0m\u001b[0m\n",
            "\u001b[0;32m/usr/lib/python3.6/tkinter/__init__.py\u001b[0m in \u001b[0;36m__init__\u001b[0;34m(self, screenName, baseName, className, useTk, sync, use)\u001b[0m\n\u001b[1;32m   2021\u001b[0m                 \u001b[0mbaseName\u001b[0m \u001b[0;34m=\u001b[0m \u001b[0mbaseName\u001b[0m \u001b[0;34m+\u001b[0m \u001b[0mext\u001b[0m\u001b[0;34m\u001b[0m\u001b[0;34m\u001b[0m\u001b[0m\n\u001b[1;32m   2022\u001b[0m         \u001b[0minteractive\u001b[0m \u001b[0;34m=\u001b[0m \u001b[0;36m0\u001b[0m\u001b[0;34m\u001b[0m\u001b[0;34m\u001b[0m\u001b[0m\n\u001b[0;32m-> 2023\u001b[0;31m         \u001b[0mself\u001b[0m\u001b[0;34m.\u001b[0m\u001b[0mtk\u001b[0m \u001b[0;34m=\u001b[0m \u001b[0m_tkinter\u001b[0m\u001b[0;34m.\u001b[0m\u001b[0mcreate\u001b[0m\u001b[0;34m(\u001b[0m\u001b[0mscreenName\u001b[0m\u001b[0;34m,\u001b[0m \u001b[0mbaseName\u001b[0m\u001b[0;34m,\u001b[0m \u001b[0mclassName\u001b[0m\u001b[0;34m,\u001b[0m \u001b[0minteractive\u001b[0m\u001b[0;34m,\u001b[0m \u001b[0mwantobjects\u001b[0m\u001b[0;34m,\u001b[0m \u001b[0museTk\u001b[0m\u001b[0;34m,\u001b[0m \u001b[0msync\u001b[0m\u001b[0;34m,\u001b[0m \u001b[0muse\u001b[0m\u001b[0;34m)\u001b[0m\u001b[0;34m\u001b[0m\u001b[0;34m\u001b[0m\u001b[0m\n\u001b[0m\u001b[1;32m   2024\u001b[0m         \u001b[0;32mif\u001b[0m \u001b[0museTk\u001b[0m\u001b[0;34m:\u001b[0m\u001b[0;34m\u001b[0m\u001b[0;34m\u001b[0m\u001b[0m\n\u001b[1;32m   2025\u001b[0m             \u001b[0mself\u001b[0m\u001b[0;34m.\u001b[0m\u001b[0m_loadtk\u001b[0m\u001b[0;34m(\u001b[0m\u001b[0;34m)\u001b[0m\u001b[0;34m\u001b[0m\u001b[0;34m\u001b[0m\u001b[0m\n",
            "\u001b[0;31mTclError\u001b[0m: no display name and no $DISPLAY environment variable"
          ]
        }
      ]
    },
    {
      "cell_type": "code",
      "metadata": {
        "id": "2vIjBVzgq_4W",
        "colab_type": "code",
        "colab": {}
      },
      "source": [
        ""
      ],
      "execution_count": 0,
      "outputs": []
    }
  ]
}