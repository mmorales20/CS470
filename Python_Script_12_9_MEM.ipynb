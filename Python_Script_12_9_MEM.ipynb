{
 "cells": [
  {
   "cell_type": "markdown",
   "metadata": {
    "colab_type": "text",
    "id": "view-in-github"
   },
   "source": [
    "<a href=\"https://colab.research.google.com/github/mmorales20/CS470/blob/master/12_1_DataConverter.ipynb\" target=\"_parent\"><img src=\"https://colab.research.google.com/assets/colab-badge.svg\" alt=\"Open In Colab\"/></a>"
   ]
  },
  {
   "cell_type": "markdown",
   "metadata": {
    "colab_type": "toc",
    "id": "f9rWsUqtSF6m"
   },
   "source": [
    ">[Packages](#scrollTo=tkKZZHqhNzuN)\n",
    "\n",
    ">[Reading in CSV Files](#scrollTo=q7zSBFfcPXG_)\n",
    "\n",
    ">[Categorical Data Finder](#scrollTo=LX7CdYrqTwe8)\n",
    "\n",
    ">[Numeric Data Finder](#scrollTo=5yOTozz4UfvX)\n",
    "\n",
    ">[Random ID Generator](#scrollTo=XCNPi5PvWh2F)\n",
    "\n",
    ">[SDT Changes](#scrollTo=BeheiUGPVn75)\n",
    "\n",
    ">[Random Color Generator](#scrollTo=wSVYcrMuWl-U)\n",
    "\n",
    ">[Runner](#scrollTo=zc5tcEDYWyw5)\n",
    "\n",
    ">[How to Make a .exe](#scrollTo=Tu14M_iWRnyb)\n",
    "\n"
   ]
  },
  {
   "cell_type": "markdown",
   "metadata": {
    "colab_type": "text",
    "id": "tkKZZHqhNzuN"
   },
   "source": [
    "# Packages\n"
   ]
  },
  {
   "cell_type": "code",
   "execution_count": 289,
   "metadata": {
    "colab": {},
    "colab_type": "code",
    "id": "bMeWolURIfes"
   },
   "outputs": [],
   "source": [
    "#Download packages\n",
    "import pandas as pd\n",
    "import re\n",
    "import xml.etree.ElementTree as ET\n",
    "\n",
    "#Download package for File Explorer pop-up\n",
    "from tkinter import filedialog\n",
    "from tkinter import *\n",
    "\n",
    "#Download package for user input pop-up\n",
    "from tkinter import simpledialog\n",
    "\n",
    "#Download package to parse through and modify XML tree\n",
    "from random import randint\n",
    "from lxml import etree\n",
    "\n",
    "import os"
   ]
  },
  {
   "cell_type": "markdown",
   "metadata": {
    "colab_type": "text",
    "id": "q7zSBFfcPXG_"
   },
   "source": [
    "# Reading in CSV Files"
   ]
  },
  {
   "cell_type": "code",
   "execution_count": 290,
   "metadata": {
    "colab": {},
    "colab_type": "code",
    "id": "KrFhuCyWNh4-"
   },
   "outputs": [],
   "source": [
    "#Display a file explorer and allow user to select a CSV file that contains the data\n",
    "def selectCSVFile(sdtTemplate):\n",
    "    root = Tk()\n",
    "    root.filename =  filedialog.askopenfilename(initialdir = \"/\",title = \"Select CSV file\",filetypes = ((\"text files\",\"*.csv\"),(\"all files\",\"*.*\")))\n",
    "    \n",
    "    changePath(root.filename,sdtTemplate)\n",
    "    root.destroy()\n",
    "    return(root.filename)\n",
    "\n",
    " #Test: do not allow user to select any file type other than CSV"
   ]
  },
  {
   "cell_type": "code",
   "execution_count": 291,
   "metadata": {
    "colab": {},
    "colab_type": "code",
    "id": "vWP8el_4OzkA"
   },
   "outputs": [],
   "source": [
    "#Change the path in the SDT file based on the CSV file selected by the user\n",
    "def changePath(path,sdtTemplate):\n",
    "    tree = ET.parse(sdtTemplate)\n",
    "    root = tree.getroot() \n",
    "    \n",
    "    for elem in root.findall('.//Datasources/Datasource/Host'):\n",
    "        elem.text=path\n",
    "    \n",
    "    for elem in root.findall('.//Datasources/Datasource/Name'):\n",
    "        elem.text=path\n",
    "        \n",
    "    tree.write(sdtTemplate,encoding=\"utf-8\", xml_declaration=True)"
   ]
  },
  {
   "cell_type": "code",
   "execution_count": 292,
   "metadata": {
    "colab": {},
    "colab_type": "code",
    "id": "mRcpt9p3Ozzs"
   },
   "outputs": [],
   "source": [
    "#Read in each column of the CSV file that was selected\n",
    "#INCLUDE VARIABLE IN PROGRAMMERS GUIDE\n",
    "def readCSV(csvName):\n",
    "    #df variable is the Pandas dataframe that the csv file is saved to\n",
    "    df = pd.read_csv(csvName)\n",
    "    print(\"reading csv done\")\n",
    "    return df"
   ]
  },
  {
   "cell_type": "code",
   "execution_count": 293,
   "metadata": {
    "colab": {},
    "colab_type": "code",
    "id": "zLdugwJx1P49"
   },
   "outputs": [],
   "source": [
    "#Pop-up dialog box to request for user input on how many columns they want to include in their visualization\n",
    "def userInput():\n",
    "    root = Tk()\n",
    "    root.withdraw()\n",
    "\n",
    "    user_inp = simpledialog.askstring(title=\"SynGlyphX\", \n",
    "        prompt=\"How many columns would you like to include in your visualization?\")\n",
    "    user_int = int(user_inp)\n",
    "    print(\"Use\", user_int, \"columns\")\n",
    "    #add in exception handling if the user input is greater than the number of columns in the CSV file\n",
    "    return user_int\n"
   ]
  },
  {
   "cell_type": "markdown",
   "metadata": {
    "colab_type": "text",
    "id": "LX7CdYrqTwe8"
   },
   "source": [
    "# Categorical Data Finder"
   ]
  },
  {
   "cell_type": "code",
   "execution_count": 294,
   "metadata": {
    "colab": {},
    "colab_type": "code",
    "id": "7Bf2ouJyOz8a"
   },
   "outputs": [],
   "source": [
    "#Add each categorical data column to a dataframe\n",
    "def getCategoricalColumnName(df,categoricalColumnName):\n",
    "    x=0\n",
    "    for name in df.columns:\n",
    "        if df.dtypes[x] == 'object':\n",
    "          #FIND OUT WHERE .CAT is FROM\n",
    "          #CHANGE 101 TO A VARIABLE\n",
    "             if len(df[name].astype('category').cat.categories.tolist()) >1 and len(df[name].astype('category').cat.categories.tolist()) < 101 and categoricalColumnName==\"\": \n",
    "                categoricalColumnName=df.columns[x]\n",
    "        x= x+1\n",
    "    return categoricalColumnName"
   ]
  },
  {
   "cell_type": "code",
   "execution_count": 295,
   "metadata": {
    "colab": {},
    "colab_type": "code",
    "id": "dR9y4Ed-O0Cc"
   },
   "outputs": [],
   "source": [
    "#Within each column save each unique attribute to a list\n",
    "def getCategoricalColumnOptions(df,categoricalColumnName):\n",
    "    return df[categoricalColumnName].astype('category').cat.categories.tolist()"
   ]
  },
  {
   "cell_type": "markdown",
   "metadata": {
    "colab_type": "text",
    "id": "5yOTozz4UfvX"
   },
   "source": [
    "# Numeric Data Finder"
   ]
  },
  {
   "cell_type": "code",
   "execution_count": 296,
   "metadata": {
    "colab": {},
    "colab_type": "code",
    "id": "W7shBBIMO0YO"
   },
   "outputs": [],
   "source": [
    "#Find numeric (int and float) data and add the column names to a list\n",
    "def typeDefiner(df,catFound,sdtFile):\n",
    "    colList = df.columns\n",
    "    colList\n",
    "    x = 0\n",
    "    colNames = []\n",
    "    for name in colList:\n",
    "        if df.dtypes[x] == 'object':# or df.dtypes[x] == 'int64':\n",
    "            pass\n",
    "        else:\n",
    "            colNames.append(colList[x])    \n",
    "        x = x + 1\n",
    "\n",
    "    #PUT THIS INTO A SEPERATE FUNCTION\n",
    "    #Finds number of numeric inputs in case of no categorical data\n",
    "    file = ET.parse(sdtFile)\n",
    "    root = file.getroot()\n",
    "    inputCount=0\n",
    "    for elem in root.findall('.//InputFields'):\n",
    "        for inputs in elem.findall('.//InputField'):\n",
    "            inputCount+=1\n",
    "    \n",
    "    #PUT THIS INTO A SEPERATE FUNCTION\n",
    "    #Resets part of color section and input if there is no option for color\n",
    "    if not catFound and inputCount>len(colNames):\n",
    "        resetToDefault(sdtFile)\n",
    "    print(\"input count is \"+str(catFound) +str(inputCount))\n",
    "    print(\"objects removed\")\n",
    "    print(colNames)\n",
    "    return colNames"
   ]
  },
  {
   "cell_type": "code",
   "execution_count": 297,
   "metadata": {},
   "outputs": [],
   "source": [
    "#Find the numeric columns with the greatest range to act as the X and Y\n",
    "#Returns a list of the range found in each column\n",
    "#When a column consists of an Object the range will not be added to the rangeList\n",
    "def getRangeList(df):\n",
    "    columnNamesList = df.columns\n",
    "    rangeList = []\n",
    "    x = 0\n",
    "    print(\"test\")\n",
    "    while x < df.columns.size:\n",
    "        if df.dtypes[x] == 'object':\n",
    "            print(\"Object\")\n",
    "        else:\n",
    "            maxVal = df.iloc[:,x].max()\n",
    "            minVal = df.iloc[:,x].min()\n",
    "            colRange = maxVal - minVal\n",
    "            rangeList.append(colRange)\n",
    "            print(\"Numeric\")\n",
    "            print(\"Range: \" + str(colRange))\n",
    "        x = x + 1\n",
    "\n",
    "    return rangeList  "
   ]
  },
  {
   "cell_type": "code",
   "execution_count": 298,
   "metadata": {},
   "outputs": [
    {
     "name": "stdout",
     "output_type": "stream",
     "text": [
      "reading csv done\n",
      "test\n",
      "Object\n",
      "Object\n",
      "Object\n",
      "Numeric\n",
      "Range: 14705122.0\n",
      "Numeric\n",
      "Range: 82.0\n",
      "Numeric\n",
      "Range: 3600000000.0\n",
      "Numeric\n",
      "Range: 392000000.0\n",
      "Numeric\n",
      "Range: 0.91\n",
      "Numeric\n",
      "Range: 6.0\n"
     ]
    },
    {
     "data": {
      "text/plain": [
       "[14705122.0, 82.0, 3600000000.0, 392000000.0, 0.91, 6.0]"
      ]
     },
     "execution_count": 298,
     "metadata": {},
     "output_type": "execute_result"
    }
   ],
   "source": [
    "df = readCSV(r'C:\\Users\\17248\\Documents\\CS 470\\MyFiles\\Football\\NFL_allTeams.csv')\n",
    "getRangeList(df)"
   ]
  },
  {
   "cell_type": "code",
   "execution_count": 299,
   "metadata": {},
   "outputs": [],
   "source": [
    "#Given the list of ranges and the list of only numeric columns from the CSV\n",
    "#Orders both lists from largest to smallest by range\n",
    "#column_order is the list containing the numeric columns from largest difference to smallest\n",
    "def sortColumnsByRange(rangeList, numericList):\n",
    "    #zip\n",
    "    zipList = [numericList for rangeList, numericList in sorted(zip(rangeList, numericList))]\n",
    "    \n",
    "    print()\n",
    "    print(\"TESTING....\")\n",
    "    for x in zipList:\n",
    "        print(x)\n",
    "\n",
    "    print()\n",
    "    print(\"reverse the zip!\")\n",
    "    column_order = list(reversed(zipList))\n",
    "    \n",
    "    print()\n",
    "    print(\"ZIPPPPPPPPPPP\")\n",
    "    for m in column_order:\n",
    "        print(m)\n",
    "\n",
    "    return column_order"
   ]
  },
  {
   "cell_type": "code",
   "execution_count": 300,
   "metadata": {},
   "outputs": [],
   "source": [
    "def getSortedRangeList(rangeList):\n",
    "    range_order = sorted(rangeList, reverse = True)\n",
    "    print(\"RANGE>>>\")\n",
    "    for x in range_order:\n",
    "        print(x)\n",
    "    return range_order"
   ]
  },
  {
   "cell_type": "markdown",
   "metadata": {
    "colab_type": "text",
    "id": "XCNPi5PvWh2F"
   },
   "source": [
    "# Random ID Generator"
   ]
  },
  {
   "cell_type": "code",
   "execution_count": 301,
   "metadata": {
    "colab": {},
    "colab_type": "code",
    "id": "1u6mFV9pWiLw"
   },
   "outputs": [],
   "source": [
    "#Generates random name IDs for one of our subelements\n",
    "def randomNameIDGenerator():\n",
    "    name = \"~\"\n",
    "    z = 0\n",
    "    while z < 10:\n",
    "        value = randint(0, 10)\n",
    "        name += str(value)\n",
    "        z = z + 1\n",
    "    return name  \n",
    "\n",
    "    #ADD IN EXCEPTION HANDLING"
   ]
  },
  {
   "cell_type": "markdown",
   "metadata": {
    "colab_type": "text",
    "id": "BeheiUGPVn75"
   },
   "source": [
    "# SDT Changes"
   ]
  },
  {
   "cell_type": "code",
   "execution_count": 302,
   "metadata": {
    "colab": {},
    "colab_type": "code",
    "id": "BOccAEAuVz-g"
   },
   "outputs": [],
   "source": [
    "#Creates a new SDT file with the same name as the selected CSV file\n",
    "#Populates the new SDT file with the generic SDT template format\n",
    "def moveToNewFile(sdtTemplate, csvFile):\n",
    "    file = ET.parse(sdtTemplate)\n",
    "    base=os.path.basename(csvFile)\n",
    "    newFile =os.path.splitext(base)[0]+\".sdt\"\n",
    "    file.write(newFile,encoding=\"utf-8\", xml_declaration=True)\n",
    "    \n",
    "    return newFile"
   ]
  },
  {
   "cell_type": "code",
   "execution_count": 303,
   "metadata": {
    "colab": {},
    "colab_type": "code",
    "id": "zRPHiu182Jnu"
   },
   "outputs": [],
   "source": [
    "#ADD IN RUNDOWN OF FUNCTION\n",
    "def inputFieldGenerator(sdtTemplate):\n",
    "    tree = ET.parse(sdtTemplate)\n",
    "    root = tree.getroot()\n",
    "    fields = tree.find(\"InputFields\")\n",
    "    colList = typeDefiner(df)\n",
    "    numberOfCol = userInput()\n",
    "    \n",
    "    dataID = tree.find(\"Datasources\")\n",
    "    datasourceID = dataID[0].attrib['id']\n",
    "\n",
    "    x = 0\n",
    "    while x < numberOfCol:\n",
    "        nameID = randomNameIDGenerator()\n",
    "        #print('field' + colList[x])\n",
    "        attrib = {'field': colList[x], 'id' : datasourceID, 'name':nameID, 'table':'OnlyTable', 'type':'Real'}\n",
    "        element = fields.makeelement('InputField', attrib)\n",
    "        #ADD IN VARIABLE FOR 6 or EXPLAIN WHY ITS 6\n",
    "        ET.SubElement(root[6], 'InputField', attrib)\n",
    "        x = x + 1\n",
    "    #INCORPORTATE ASHLEYS STUFF\n",
    "    #BOTTOM SDT FILE IS NEW SDT FILE\n",
    "    tree.write('testSDT.sdt')"
   ]
  },
  {
   "cell_type": "code",
   "execution_count": 304,
   "metadata": {
    "colab": {},
    "colab_type": "code",
    "id": "8z0nrjxSV0Kf"
   },
   "outputs": [],
   "source": [
    "#Clears out the tag in the color section of the SDT file and formats the SDT file\n",
    "#This method is necessary to use numeric data in the color section\n",
    "#Without this method all colors would display as the default\n",
    "def toNumericFormat(updatedSDTFile):\n",
    "\n",
    "    #Finds keyValuePairs tag and clears out the tag.\n",
    "    file = ET.parse(updatedSDTFile)\n",
    "    root = file.getroot()\n",
    "    for elem in root.findall('.//Glyph/Color/RGB/Function[@type=\"Text Field To Value\"]/KeyValuePairs'):\n",
    "        elem.clear()\n",
    "\n",
    "    #Finds end tag and removes end tag from code\n",
    "    for parent in root.findall('.//KeyValuePairs/..'):\n",
    "        for element in parent.findall('KeyValuePairs'):\n",
    "            parent.remove(element)\n",
    "   #Sets up function to use numeric data with the appropriate lines\n",
    "    for elem in root.findall('.//Color/RGB/..'):\n",
    "        function_elem = elem.find('.//Function')\n",
    "        function_elem.set(\"type\",\"Linear Interpolation\")\n",
    "        attrib = {'type': 'BoundField'}\n",
    "        minmax = ET.SubElement(check_req_elems, 'MinMax', attrib)\n",
    "        minmax.text= \"\\n\\t\\t\\t\\t\\t\\t\\t\"\n",
    "        min = ET.SubElement(minmax, 'Min')\n",
    "        min.text = '0'\n",
    "        min.tail=\"\\n\\t\\t\\t\\t\\t\\t\"\n",
    "        minmax.tail=\"\\n\\t\\t\\t\\t\\t\"\n",
    "    file.write(sdtFile)\n",
    "    print(\"color fixed\")"
   ]
  },
  {
   "cell_type": "code",
   "execution_count": 305,
   "metadata": {
    "colab": {},
    "colab_type": "code",
    "id": "tMSBrAehV0HJ"
   },
   "outputs": [],
   "source": [
    "#Accepted Params: list of column names, the .SDT file, column name, and boolean\n",
    "# ADD IN OVERVIEW STATEMENT\n",
    "# RENAME VARIABLES NAMES SO THEY ARE EASIER TO UNDERSTAND AND CONSISTENT\n",
    "def XMLParser(colNames,sdtFile,colorName,catFound):\n",
    "    print(colNames)\n",
    "\n",
    "    tree = ET.parse(sdtFile)\n",
    "    root = tree.getroot()\n",
    "    count=0;\n",
    "    print(len(colNames))\n",
    "    for elem in root.iter('InputField'):\n",
    "        print(count)\n",
    "        if elem.get('name')!=\"color\":\n",
    "            elem.set('field', colNames[count])\n",
    "            count+=1\n",
    "        elif not catFound:\n",
    "            elem.set('field', colNames[count])\n",
    "            count+=1\n",
    "        else:\n",
    "            elem.set('field', colorName)\n",
    "        \n",
    "    tree.write(sdtFile)\n",
    "    print(\"XML updated\")"
   ]
  },
  {
   "cell_type": "code",
   "execution_count": 307,
   "metadata": {
    "colab": {},
    "colab_type": "code",
    "id": "Oa4LNKhpV0Ck"
   },
   "outputs": [
    {
     "ename": "IndentationError",
     "evalue": "unindent does not match any outer indentation level (<tokenize>, line 56)",
     "output_type": "error",
     "traceback": [
      "\u001b[1;36m  File \u001b[1;32m\"<tokenize>\"\u001b[1;36m, line \u001b[1;32m56\u001b[0m\n\u001b[1;33m    file.write(sdtFile,encoding=\"utf-8\", xml_declaration=True)\u001b[0m\n\u001b[1;37m    ^\u001b[0m\n\u001b[1;31mIndentationError\u001b[0m\u001b[1;31m:\u001b[0m unindent does not match any outer indentation level\n"
     ]
    }
   ],
   "source": [
    "#\n",
    "# ADD IN OVERVIEW STATEMENT\n",
    "# RENAME VARIABLES NAMES SO THEY ARE EASIER TO UNDERSTAND AND CONSISTENT\n",
    "# UPDATE TABBING\n",
    "def setupColor(colorCol,sdtFile):\n",
    "    file = ET.parse(sdtFile)\n",
    "    root = file.getroot()\n",
    "    x=0\n",
    "    if(colorCol==None):#Changes Color code to take in numeric data\n",
    "        toNumericFormat(sdtFile)\n",
    "        \n",
    "    else:\n",
    "      #sets up prexisting key value pairs with the first 2 categorical options\n",
    "        for parent in root.findall('.//Color/RGB/Function[@type=\"Text Field To Value\"]/KeyValuePairs'):\n",
    "            for elem in parent.findall('KeyValuePair/Key'):\n",
    "                elem.text=colorCol[x]\n",
    "                x=x+1\n",
    "\n",
    "        #Creates new key value pairs for the rest of the categorical list\n",
    "            if(len(colorCol)>2):\n",
    "                while x<len(colorCol):\n",
    "                    for elem in root.findall('.//Color/RGB/Function[@type=\"Text Field To Value\"]'): \n",
    "                        pairs = elem.find('.//KeyValuePairs')\n",
    "                        #fixes spacing so new pair will be at right \n",
    "                          #column/indent area\n",
    "                        #Adds key value pair as subelement to key value pairs\n",
    "                        for child in pairs.findall('.//KeyValuePair'):\n",
    "                            child.tail=\"\\n\\t\\t\\t\\t\\t\\t\\t\"\n",
    "                        keyVal =ET.SubElement(pairs, 'KeyValuePair')\n",
    "                        keyVal.text=\"\\n\\t\\t\\t\\t\\t\\t\\t\\t\"\n",
    "                        keyVal.tail=\"\\n\\t\\t\\t\\t\\t\\t\"\n",
    "                        keyValP= ET.SubElement(keyVal, 'Key')\n",
    "                        keyValP.text=colorCol[x]\n",
    "                        keyValP.tail=\"\\n\\t\\t\\t\\t\\t\\t\\t\\t\"\n",
    "                        key = ET.SubElement(keyVal, 'Value')\n",
    "                    \n",
    "                        key.tail=\"\\n\\t\\t\\t\\t\\t\\t\\t\"\n",
    "                        x=x+1\n",
    "    \n",
    "                        x=0\n",
    "\n",
    "                        #Creates an array of random colors for the categorical data\n",
    "                        count=0\n",
    "                        colorList=[] \n",
    "                        while count<len(colorCol):\n",
    "                            randomCol(colorList)\n",
    "                            count=count+1\n",
    "\n",
    "                        #sets up color values for each key value pair\n",
    "                        for elem in root.findall('.//Color/RGB/Function[@type=\"Text Field To Value\"]/KeyValuePairs'):\n",
    "                            for element in elem.findall('KeyValuePair/Value'):\n",
    "                                element.text=colorList[x]\n",
    "                                print(colorList[x])\n",
    "                                x=x+1\n",
    "                \n",
    "          file.write(sdtFile,encoding=\"utf-8\", xml_declaration=True)\n"
   ]
  },
  {
   "cell_type": "code",
   "execution_count": null,
   "metadata": {
    "colab": {},
    "colab_type": "code",
    "id": "JSSFlLg9Vz3T"
   },
   "outputs": [],
   "source": [
    "#\n",
    "# ADD IN OVERVIEW STATEMENT\n",
    "# MAKE SURE SDT FILE VARIABLE IS WHAT IT SHOULD BE (SDTTemplate or updatedSDTFile)\n",
    "def resetToDefault(sdtFile):\n",
    "    file = ET.parse(sdtFile)\n",
    "    root = file.getroot()\n",
    "    print(\"resetting\")\n",
    "    removeElement=None\n",
    "    for parent in root.findall('.//Glyph/Color/RGB'):\n",
    "        for elem in parent:\n",
    "            if(removeElement==None):\n",
    "                removeElement = parent.find('Binding')\n",
    "        if(removeElement!=None):\n",
    "            parent.remove(removeElement)\n",
    "            removeElement=None\n",
    "    \n",
    "    for parent in root.findall('.//InputFields'):\n",
    "        for elem in parent:\n",
    "            if(removeElement==None):\n",
    "                removeElement =  parent.find('InputField[@name=\"color\"]')\n",
    "              \n",
    "        if (removeElement!=None):\n",
    "            parent.remove(removeElement)\n",
    "            reMoveElement=None\n",
    "    \n",
    "    count=0\n",
    "    #fixes indent spacing for new last element\n",
    "    for parent in root.findall('.//InputFields'):\n",
    "        for elem in parent:\n",
    "            if(count==len(parent)-1):\n",
    "                elem.tail=\"\\n\\t\"\n",
    "            count+=1\n",
    "        \n",
    "    file.write(sdtFile,encoding=\"utf-8\", xml_declaration=True)"
   ]
  },
  {
   "cell_type": "markdown",
   "metadata": {
    "colab_type": "text",
    "id": "wSVYcrMuWl-U"
   },
   "source": [
    "# Random Color Generator\n"
   ]
  },
  {
   "cell_type": "code",
   "execution_count": null,
   "metadata": {
    "colab": {},
    "colab_type": "code",
    "id": "0s5XlLDhWppI"
   },
   "outputs": [],
   "source": [
    "#Random Color Generator\n",
    "#Generates random colors and adds them to the color list\n",
    "def randomColors(colorList):\n",
    "    import random\n",
    "    rVal = random.random()*255\n",
    "    rVal=int(rVal)\n",
    "    gVal = random.random()*255\n",
    "    gVal=int(gVal)\n",
    "    bVal = random.random()*255\n",
    "    bVal=int(bVal)\n",
    "    color=str(rVal)+\",\"+str(gVal)+\",\"+str(bVal)\n",
    "    colorList.append(color)"
   ]
  },
  {
   "cell_type": "markdown",
   "metadata": {
    "colab_type": "text",
    "id": "zc5tcEDYWyw5"
   },
   "source": [
    "#Runner"
   ]
  },
  {
   "cell_type": "code",
   "execution_count": null,
   "metadata": {
    "colab": {},
    "colab_type": "code",
    "id": "btbuxMoVW42s"
   },
   "outputs": [],
   "source": [
    "#Uses all necessary methods and variables to run the Glyph Generator\n",
    "#Converts a CSV file to a SDT file\n",
    "def runAll(sdtTemplate):\n",
    "  colorCol = None #will change this name\n",
    "  categoricalColumnName = \"\"\n",
    "  catFound=False  #will change this name\n",
    "    csvFile = selectCSVFile(sdtTempalte)\n",
    "    df = readCSV(csvFile)\n",
    "    categoricalColumnName=getCategoricalColumnName(df,categoricalColumnName)\n",
    "    if(categoricalColumnName != \"\"):\n",
    "        catFound=True   #will change this name\n",
    "        colorCol=getCategoricalColumnOptions(df,categoricalColumnName) #will change this name\n",
    "  \n",
    "    updatedSDTFile=moveToNewFile(sdtTemplate,csvFile)\n",
    "    categoricalColumnName = typeDefiner(df,catFound,updatedSDTFile) #will change name later\n",
    "            #typeDefiner will be split into different functions\n",
    "    XMLParser(colNames,updatedSDTFile,categoricalColumnName,catFound) #make changes to names\n",
    "    #setupColor(colorCol, updatedSDTFile) #will change name later"
   ]
  },
  {
   "cell_type": "code",
   "execution_count": null,
   "metadata": {
    "colab": {},
    "colab_type": "code",
    "id": "GGLAjlvCW-uv"
   },
   "outputs": [],
   "source": [
    "#Run the Program\n",
    "  #runAll('emptySDT.sdt')"
   ]
  },
  {
   "cell_type": "markdown",
   "metadata": {
    "colab_type": "text",
    "id": "Tu14M_iWRnyb"
   },
   "source": [
    "# How to Make a .exe "
   ]
  },
  {
   "cell_type": "markdown",
   "metadata": {
    "colab_type": "text",
    "id": "Z_Dx3vqPRv7a"
   },
   "source": [
    "Download Python from the web, and select \"Add Python 3.7 to PATH\"\n",
    "\n",
    "File -> Download As -> Python (.py)\n",
    "\n",
    "Open Windows Command Prompt (either look up Windows Command Prompt in Search bar or Windows button + R, \n",
    "then type in \"cmd\")\n",
    "\n",
    "In Command Prompt - \n",
    "\n",
    "> pip install pyinstaller\n",
    "\n",
    "\n",
    "> cd yourfilepathhere\n",
    "\n",
    "\n",
    "> pyinstaller --onefile nameofyourfile.py\n",
    "\n",
    "Then check in the File explorer that were you had your original .py file, and there should be a folder names \"dist\"\n",
    "\n",
    "The executable file should be in there\n",
    "\n"
   ]
  },
  {
   "cell_type": "code",
   "execution_count": 308,
   "metadata": {},
   "outputs": [
    {
     "name": "stdout",
     "output_type": "stream",
     "text": [
      "reading csv done\n",
      "reading csv done\n",
      "input count is True0\n",
      "objects removed\n",
      "['City Population', 'Active Since', 'Value', 'Operating Income', 'Winning Percentage', 'Superbowl Wins']\n",
      "test\n",
      "Object\n",
      "Object\n",
      "Object\n",
      "Numeric\n",
      "Range: 14705122.0\n",
      "Numeric\n",
      "Range: 82.0\n",
      "Numeric\n",
      "Range: 3600000000.0\n",
      "Numeric\n",
      "Range: 392000000.0\n",
      "Numeric\n",
      "Range: 0.91\n",
      "Numeric\n",
      "Range: 6.0\n",
      "\n",
      "TESTING....\n",
      "Winning Percentage\n",
      "Superbowl Wins\n",
      "Active Since\n",
      "City Population\n",
      "Operating Income\n",
      "Value\n",
      "\n",
      "reverse the zip!\n",
      "\n",
      "ZIPPPPPPPPPPP\n",
      "Value\n",
      "Operating Income\n",
      "City Population\n",
      "Active Since\n",
      "Superbowl Wins\n",
      "Winning Percentage\n",
      "RANGE>>>\n",
      "3600000000.0\n",
      "392000000.0\n",
      "14705122.0\n",
      "82.0\n",
      "6.0\n",
      "0.91\n"
     ]
    },
    {
     "data": {
      "text/plain": [
       "[3600000000.0, 392000000.0, 14705122.0, 82.0, 6.0, 0.91]"
      ]
     },
     "execution_count": 308,
     "metadata": {},
     "output_type": "execute_result"
    }
   ],
   "source": [
    "df = readCSV(r'C:\\Users\\17248\\Documents\\CS 470\\MyFiles\\Football\\NFL_allTeams.csv')\n",
    "\n",
    "sdtTemplate = r'C:\\Users\\17248\\Documents\\CS 470\\emptySDT.sdt'\n",
    "\n",
    "colorCol = None #will change this name\n",
    "categoricalColumnName = \"\"\n",
    "catFound=False  #will change this name\n",
    "csvFile = selectCSVFile(sdtTemplate)\n",
    "df = readCSV(csvFile)\n",
    "categoricalColumnName=getCategoricalColumnName(df,categoricalColumnName)\n",
    "if(categoricalColumnName != \"\"):\n",
    "    catFound=True   #will change this name\n",
    "    colorCol=getCategoricalColumnOptions(df,categoricalColumnName) #will change this name\n",
    "    \n",
    "updatedSDTFile=moveToNewFile(sdtTemplate,csvFile)\n",
    "\n",
    "numericList = typeDefiner(df,catFound,updatedSDTFile)\n",
    "\n",
    "rangeList = getRangeList(df)\n",
    "sortColumnsByRange(rangeList, numericList)\n",
    "getSortedRangeList(rangeList)"
   ]
  },
  {
   "cell_type": "code",
   "execution_count": null,
   "metadata": {},
   "outputs": [],
   "source": []
  }
 ],
 "metadata": {
  "colab": {
   "collapsed_sections": [],
   "include_colab_link": true,
   "name": "11_22_DataConverter.ipynb",
   "provenance": [],
   "toc_visible": true
  },
  "kernelspec": {
   "display_name": "Python 3",
   "language": "python",
   "name": "python3"
  },
  "language_info": {
   "codemirror_mode": {
    "name": "ipython",
    "version": 3
   },
   "file_extension": ".py",
   "mimetype": "text/x-python",
   "name": "python",
   "nbconvert_exporter": "python",
   "pygments_lexer": "ipython3",
   "version": "3.7.3"
  }
 },
 "nbformat": 4,
 "nbformat_minor": 1
}
