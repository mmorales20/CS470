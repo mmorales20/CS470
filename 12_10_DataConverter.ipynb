{
 "cells": [
  {
   "cell_type": "markdown",
   "metadata": {
    "colab_type": "toc",
    "id": "f9rWsUqtSF6m"
   },
   "source": [
    ">[Packages](#scrollTo=tkKZZHqhNzuN)\n",
    "\n",
    ">[Reading in CSV Files](#scrollTo=q7zSBFfcPXG_)\n",
    "\n",
    ">[Categorical Data Finder](#scrollTo=LX7CdYrqTwe8)\n",
    "\n",
    ">[Numeric Data Finder](#scrollTo=5yOTozz4UfvX)\n",
    "\n",
    ">[Random ID Generator](#scrollTo=XCNPi5PvWh2F)\n",
    "\n",
    ">[SDT Changes](#scrollTo=BeheiUGPVn75)\n",
    "\n",
    ">[Random Color Generator](#scrollTo=wSVYcrMuWl-U)\n",
    "\n",
    ">[XY Finder](#scrollTo=JmKmrg9boNGv)\n",
    "\n",
    ">[Dictionary Maker](#scrollTo=lr-jZcevnJes)\n",
    "\n",
    ">[Runner](#scrollTo=zc5tcEDYWyw5)\n",
    "\n",
    ">[How to Make a .exe](#scrollTo=Tu14M_iWRnyb)\n",
    "\n"
   ]
  },
  {
   "cell_type": "markdown",
   "metadata": {
    "colab_type": "text",
    "id": "tkKZZHqhNzuN"
   },
   "source": [
    "# Packages\n"
   ]
  },
  {
   "cell_type": "code",
   "execution_count": 1,
   "metadata": {
    "colab": {},
    "colab_type": "code",
    "id": "bMeWolURIfes"
   },
   "outputs": [],
   "source": [
    "#Download packages\n",
    "import pandas as pd\n",
    "import re\n",
    "import xml.etree.ElementTree as ET\n",
    "\n",
    "#Download package for File Explorer pop-up\n",
    "from tkinter import filedialog\n",
    "from tkinter import *\n",
    "\n",
    "#Download package for user input pop-up\n",
    "from tkinter import simpledialog\n",
    "\n",
    "#Download package to parse through and modify XML tree\n",
    "from lxml import etree\n",
    "from random import randint\n",
    "import random\n",
    "\n",
    "#Download package to get file names\n",
    "import os"
   ]
  },
  {
   "cell_type": "markdown",
   "metadata": {
    "colab_type": "text",
    "id": "q7zSBFfcPXG_"
   },
   "source": [
    "# Reading in CSV Files"
   ]
  },
  {
   "cell_type": "code",
   "execution_count": 2,
   "metadata": {
    "colab": {},
    "colab_type": "code",
    "id": "KrFhuCyWNh4-"
   },
   "outputs": [],
   "source": [
    "#Display a file explorer and allow user to select a CSV file that contains the data\n",
    "def selectCSVFile(sdtTemplate):\n",
    "    root = Tk()\n",
    "    root.filename =  filedialog.askopenfilename(initialdir = \"/\",title = \"Select CSV file\",filetypes = ((\"text files\",\"*.csv\"),(\"all files\",\"*.*\")))\n",
    "    \n",
    "    changePath(root.filename,sdtTemplate)\n",
    "    root.destroy()\n",
    "    return(root.filename)\n",
    "\n",
    " #Test: do not allow user to select any file type other than CSV"
   ]
  },
  {
   "cell_type": "code",
   "execution_count": 3,
   "metadata": {
    "colab": {},
    "colab_type": "code",
    "id": "vWP8el_4OzkA"
   },
   "outputs": [],
   "source": [
    "#Change the path in the SDT file based on the CSV file selected by the user\n",
    "def changePath(path,sdtTemplate):\n",
    "    tree = ET.parse(sdtTemplate)\n",
    "    root = tree.getroot() \n",
    "    \n",
    "    for element in root.findall('.//Datasources/Datasource/Host'):\n",
    "        element.text=path\n",
    "    \n",
    "    for element in root.findall('.//Datasources/Datasource/Name'):\n",
    "        element.text=path\n",
    "        \n",
    "    tree.write(sdtTemplate,encoding=\"utf-8\", xml_declaration=True)"
   ]
  },
  {
   "cell_type": "code",
   "execution_count": 4,
   "metadata": {
    "colab": {},
    "colab_type": "code",
    "id": "mRcpt9p3Ozzs"
   },
   "outputs": [],
   "source": [
    "#Read in each column of the CSV file that was selected\n",
    "#INCLUDE VARIABLE IN PROGRAMMERS GUIDE\n",
    "def readCSV(csvName):\n",
    "    #df variable is the Pandas dataframe that the csv file is saved to\n",
    "    df = pd.read_csv(csvName)\n",
    "    print(\"reading csv done\")\n",
    "    return df"
   ]
  },
  {
   "cell_type": "code",
   "execution_count": 5,
   "metadata": {
    "colab": {},
    "colab_type": "code",
    "id": "zLdugwJx1P49"
   },
   "outputs": [],
   "source": [
    "#Pop-up dialog box to request for user input on how many columns they want to include in their visualization\n",
    "def userInput():\n",
    "    root = Tk()\n",
    "    root.withdraw()\n",
    "\n",
    "    user_inp = simpledialog.askstring(title=\"SynGlyphX\", \n",
    "        prompt=\"How many columns would you like to include in your visualization?\")\n",
    "    user_int = int(user_inp)\n",
    "    print(\"Use\", user_int, \"columns\")\n",
    "    #add in exception handling if the user input is greater than the number of columns in the CSV file\n",
    "    return user_int\n"
   ]
  },
  {
   "cell_type": "markdown",
   "metadata": {
    "colab_type": "text",
    "id": "LX7CdYrqTwe8"
   },
   "source": [
    "# Categorical Data Finder"
   ]
  },
  {
   "cell_type": "code",
   "execution_count": 6,
   "metadata": {
    "colab": {},
    "colab_type": "code",
    "id": "7Bf2ouJyOz8a"
   },
   "outputs": [],
   "source": [
    "#Add each categorical data column to a dataframe\n",
    "def getCategoricalColumnName(df,categoricalColumnName):\n",
    "    x=0\n",
    "    for name in df.columns:\n",
    "        if df.dtypes[x] == 'object':\n",
    "          #FIND OUT WHERE .CAT is FROM\n",
    "             if len(df[name].astype('category').cat.categories.tolist()) >1 and len(df[name].astype('category').cat.categories.tolist()) < maxCategoricalOptions and categoricalColumnName==\"\": \n",
    "                categoricalColumnName=df.columns[x]\n",
    "        x= x+1\n",
    "    return categoricalColumnName"
   ]
  },
  {
   "cell_type": "code",
   "execution_count": 7,
   "metadata": {
    "colab": {},
    "colab_type": "code",
    "id": "dR9y4Ed-O0Cc"
   },
   "outputs": [],
   "source": [
    "#Within each column save each unique attribute to a list\n",
    "def getCategoricalColumnOptions(df,categoricalColumnName):\n",
    "    return df[categoricalColumnName].astype('category').cat.categories.tolist()"
   ]
  },
  {
   "cell_type": "markdown",
   "metadata": {
    "colab_type": "text",
    "id": "5yOTozz4UfvX"
   },
   "source": [
    "# Numeric Data Finder"
   ]
  },
  {
   "cell_type": "code",
   "execution_count": 8,
   "metadata": {
    "colab": {},
    "colab_type": "code",
    "id": "W7shBBIMO0YO"
   },
   "outputs": [],
   "source": [
    "#Find numeric (int and float) data and add the column names to a list\n",
    "def typeDefiner(df,xColumnName,yColumnName,zColumnName):\n",
    "    columnList = df.columns\n",
    "    columnList\n",
    "    x = 0\n",
    "    numericColumnNames = []\n",
    "    for name in columnList:\n",
    "      #Prevents objects from going into the numeric column list and prevents double use of x and y columns.\n",
    "        if df.dtypes[x] == 'object':\n",
    "            pass\n",
    "        else:\n",
    "            if columnList[x] is xColumnName or columnList[x] is yColumnName or columnList[x] is zColumnName:\n",
    "              pass\n",
    "            else:\n",
    "              numericColumnNames.append(columnList[x])    \n",
    "        x = x + 1\n",
    "\n",
    "    print(\"objects removed\")\n",
    "    print(numericColumnNames)\n",
    "    return numericColumnNames"
   ]
  },
  {
   "cell_type": "code",
   "execution_count": 9,
   "metadata": {
    "colab": {},
    "colab_type": "code",
    "id": "Flip6W_la6un"
   },
   "outputs": [],
   "source": [
    "#Counts number of inputs with the SDT file and compares the amount to the list of data frame columns.\n",
    "#If the data frame columns doesn't have more columns than inputs in SDT file and there was no categorical column for color,\n",
    "#a reset is done to remove the input for color completely.  \n",
    "def inputCountChecker(updatedSDTFile,catFound,numericColumnNames,inputDictionary):\n",
    "  file = ET.parse(updatedSDTFile)\n",
    "  root = file.getroot()\n",
    "  inputCount=0\n",
    "  for element in root.findall('.//InputFields'):\n",
    "      for inputs in element.findall('.//InputField'):\n",
    "          inputCount+=1\n",
    "        \n",
    "  #Resets part of color section tags and input fields if there is no option for color\n",
    "  if not catFound and inputCount>(len(numericColumnNames)):\n",
    "      resetToDefault(updatedSDTFile,inputDictionary)\n",
    "    "
   ]
  },
  {
   "cell_type": "code",
   "execution_count": 39,
   "metadata": {
    "colab": {},
    "colab_type": "code",
    "id": "KlQ_S74Xe8Ih"
   },
   "outputs": [],
   "source": [
    "#Find the numeric columns with the greatest range to act as the X and Y\n",
    "#Returns a list of the range found in each column\n",
    "#When a column consists of an Object the range will not be added to the rangeList\n",
    "def getRangeList(df, xColumnName,yColumnName,zColumnName):\n",
    "  columnList = df.columns\n",
    "  rangeList = []\n",
    "  x = 0\n",
    "  while x < columnList.size:\n",
    "    if df.dtypes[x] == 'object':\n",
    "            pass\n",
    "    elif columnList[x] is xColumnName or columnList[x] is yColumnName or columnList[x] is zColumnName:\n",
    "      pass\n",
    "    else:\n",
    "      maxVal = df.iloc[:,x].max()\n",
    "      minVal = df.iloc[:,x].min()\n",
    "      colRange = maxVal - minVal\n",
    "      rangeList.append(colRange)\n",
    "      x = x + 1\n",
    "      \n",
    "    return rangeList"
   ]
  },
  {
   "cell_type": "code",
   "execution_count": 11,
   "metadata": {
    "colab": {},
    "colab_type": "code",
    "id": "QSZL6pdxeH9X"
   },
   "outputs": [],
   "source": [
    "#Given the list of ranges and the list of only numeric columns from the CSV\n",
    "#Orders both lists from largest to smallest by range\n",
    "#column_order is the list containing the numeric columns from largest difference to smallest\n",
    "def sortColumnsByRange(rangeList, numericList):\n",
    "    zipList = [numericList for rangeList, numericList in sorted(zip(rangeList, numericList))]\n",
    "    column_order = list(reversed(zipList))\n",
    "\n",
    "    return column_order"
   ]
  },
  {
   "cell_type": "code",
   "execution_count": 12,
   "metadata": {
    "colab": {},
    "colab_type": "code",
    "id": "K8aEwrmIeFmt"
   },
   "outputs": [],
   "source": [
    "#Given the list of column ranges, return a list containing the ranges from greatest to least\n",
    "#Might not need!!!!!!!!!!!!!!!!!!!!!!\n",
    "def getSortedRangeList(rangeList):\n",
    "    range_order = sorted(rangeList, reverse = True)\n",
    "    return range_order"
   ]
  },
  {
   "cell_type": "markdown",
   "metadata": {
    "colab_type": "text",
    "id": "XCNPi5PvWh2F"
   },
   "source": [
    "# Random ID Generator"
   ]
  },
  {
   "cell_type": "code",
   "execution_count": 13,
   "metadata": {
    "colab": {},
    "colab_type": "code",
    "id": "1u6mFV9pWiLw"
   },
   "outputs": [],
   "source": [
    "#Generates random name IDs for one of our subelements\n",
    "def randomNameIDGenerator():\n",
    "    name = \"~\"\n",
    "    z = 0\n",
    "    while z < 10:\n",
    "        value = randint(0, 10)\n",
    "        name += str(value)\n",
    "        z = z + 1\n",
    "    return name  \n",
    "\n",
    "    #ADD IN EXCEPTION HANDLING"
   ]
  },
  {
   "cell_type": "markdown",
   "metadata": {
    "colab_type": "text",
    "id": "BeheiUGPVn75"
   },
   "source": [
    "# SDT Changes"
   ]
  },
  {
   "cell_type": "code",
   "execution_count": 14,
   "metadata": {
    "colab": {},
    "colab_type": "code",
    "id": "BOccAEAuVz-g"
   },
   "outputs": [],
   "source": [
    "#Creates a new SDT file with the same name as the selected CSV file\n",
    "#Populates the new SDT file with the generic SDT template format\n",
    "def moveToNewFile(sdtTemplate, csvFile):\n",
    "    file = ET.parse(sdtTemplate)\n",
    "    base=os.path.basename(csvFile)\n",
    "    newFile =os.path.splitext(base)[0]+\".sdt\"\n",
    "    file.write(newFile,encoding=\"utf-8\", xml_declaration=True)\n",
    "    \n",
    "    return newFile"
   ]
  },
  {
   "cell_type": "code",
   "execution_count": 34,
   "metadata": {
    "colab": {},
    "colab_type": "code",
    "id": "zRPHiu182Jnu"
   },
   "outputs": [],
   "source": [
    "def inputFieldGenerator(sdtTemplate,updatedSDTFile,df,user_input, numericColumnNames):\n",
    "    tree = ET.parse(sdtTemplate)\n",
    "    root = tree.getroot()\n",
    "    fields = tree.find(\"InputFields\")\n",
    "    colList = numericColumnNames\n",
    "    cols = user_input #mica you will need to change this later\n",
    "    \n",
    "    dataID = tree.find(\"Datasources\")\n",
    "    datasourceID = dataID[0].attrib['id']\n",
    "    dict = {}\n",
    "    x = 0\n",
    "    while x < cols:\n",
    "        nameID = randomNameIDGenerator()\n",
    "        print('field' + colList[x])\n",
    "        attrib = {'field': colList[x], 'id' : datasourceID, 'name':nameID, 'table':'OnlyTable', 'type':'Real'}\n",
    "        element = fields.makeelement('InputField', attrib)\n",
    "        ET.SubElement(fields, 'InputField', attrib)\n",
    "        dict[x] = nameID\n",
    "        x = x + 1\n",
    "    \n",
    "    tree.write(updatedSDTFile)\n",
    "    print(dict)\n",
    "    return dict\n"
   ]
  },
  {
   "cell_type": "code",
   "execution_count": 36,
   "metadata": {
    "colab": {},
    "colab_type": "code",
    "id": "ROStXUzOxfaN"
   },
   "outputs": [],
   "source": [
    "def bindingFieldParser(df,sdtTemplate,updatedSDTFile,user_input,numericColumnNames):\n",
    "\n",
    "    dict = inputFieldGenerator(sdtTemplate, updatedSDTFile, df, user_input,numericColumnNames) #DONT RUN IN RUNALL\n",
    "    tree = ET.parse(sdtTemplate)\n",
    "    root = tree.getroot()\n",
    "    glyph = tree.find(\"Glyphs\")\n",
    "    position = tree.find(\"Position\")\n",
    "\n",
    "    cols = user_input #mica you will need to change this later\n",
    "    x = 0\n",
    "\n",
    "    while x < 3:\n",
    "        print('binding field id' + dict[x])\n",
    "        attrib = {'fieldId': dict[x]}\n",
    "        binding = ET.Element(\"Binding\", attrib) \n",
    "        binding.tail=\"\\n\\t\\t\\t\\t\\t\"\n",
    "        glyph[0][0][x].insert(1, binding)\n",
    "        x = x + 1\n",
    "    \n",
    "    y = 0\n",
    "    if cols > 2:\n",
    "        while y < 3:\n",
    "            print('binding field id' + dict[3])\n",
    "            attrib = {'fieldId': dict[3]}#, 'id' : datasourceID, 'name':nameID, 'table':'OnlyTable', 'type':'Real'}\n",
    "            binding = ET.Element(\"Binding\", attrib)\n",
    "            binding.tail=\"\\n\\t\\t\\t\\t\\t\"\n",
    "            glyph[0][2][y].insert(1, binding)\n",
    "            y = y + 1\n",
    "\n",
    "    tree.write(updatedSDTFile)"
   ]
  },
  {
   "cell_type": "code",
   "execution_count": 17,
   "metadata": {
    "colab": {},
    "colab_type": "code",
    "id": "8z0nrjxSV0Kf"
   },
   "outputs": [],
   "source": [
    "#Clears out the tag in the color section of the SDT file and formats the SDT file\n",
    "#This method is necessary to use numeric data in the color section\n",
    "#Without this method all colors would display as the default (usually white)\n",
    "def toNumericFormat(updatedSDTFile):\n",
    "\n",
    "    #Finds keyValuePairs tag and clears out the tag. Doesn't delete end tag.\n",
    "    file = ET.parse(updatedSDTFile)\n",
    "    root = file.getroot()\n",
    "    for element in root.findall('.//Glyph/Color/RGB/Function[@type=\"Text Field To Value\"]/KeyValuePairs'):\n",
    "        element.clear()\n",
    "\n",
    "    #Finds end tag and removes end tag from code.\n",
    "    for parent in root.findall('.//KeyValuePairs/..'):\n",
    "        for element in parent.findall('KeyValuePairs'):\n",
    "            parent.remove(element)\n",
    "\n",
    "   #Sets up function to use numeric data with the appropriate lines and spacing.\n",
    "    for element in root.findall('.//Color/RGB/..'):\n",
    "        function_element = element.find('.//Function')\n",
    "        function_element.set(\"type\",\"Linear Interpolation\")\n",
    "        attribute = {'type': 'BoundField'}\n",
    "        minmax_element = ET.SubElement(function_element, 'MinMax', attribute)\n",
    "        minmax_element.text= sevenTabs\n",
    "        min_element = ET.SubElement(minmax_element, 'Min')\n",
    "        min_element.text = '0'\n",
    "        min_element.tail=sixTabs\n",
    "        minmax_element.tail=fiveTabs\n",
    "    file.write(updatedSDTFile)\n",
    "    print(\"color fixed\")"
   ]
  },
  {
   "cell_type": "code",
   "execution_count": 18,
   "metadata": {
    "colab": {},
    "colab_type": "code",
    "id": "tMSBrAehV0HJ"
   },
   "outputs": [],
   "source": [
    "#Accepted Params: list of column names, the .SDT file, column name, and boolean\n",
    "# Inserts the appropriate column names into the input fields' field attribute. \n",
    "#Inserts specific columns for color, x, and y if they were found by checking for the matching dictionary ID.\n",
    "# RENAME VARIABLES NAMES SO THEY ARE EASIER TO UNDERSTAND AND CONSISTENT\n",
    "def XMLParser(numericColumnNames, updatedSDTFile,categoricalColumnName,catFound,inputDictionary,xColumnName,xFound,yColumnName,yFound, zColumnName,zFound, df):\n",
    "    print(numericColumnNames)\n",
    "\n",
    "    #ADDED BY MORGAN ON 12/9\n",
    "    numColumns = sortColumnsByRange(getRangeList(df, xColumnName,yColumnName,zColumnName), numericColumnNames)\n",
    "    print(numColumns)\n",
    "\n",
    "    changer=0\n",
    "    xPointer=0\n",
    "    yPointer=1\n",
    "    zPointer=2\n",
    "    if not xFound:\n",
    "      changer+=1\n",
    "    if not yFound:\n",
    "      changer+=1\n",
    "    if not zFound:\n",
    "      changer+=1\n",
    "    #tree = ET.parse(sdtFile) #i think this line is worng\n",
    "    tree = ET.parse(updatedSDTFile)\n",
    "    root = tree.getroot()\n",
    "    count=0;\n",
    "    print(len(numColumns)) #changed MEM 12/9\n",
    "    for element in root.iter('InputField'):\n",
    "        print(count)\n",
    "        #Inserts the categorical data column name into the color binding input if categorical data was found.\n",
    "        if element.get('name')==inputDictionary['ColorRGB'] and catFound:\n",
    "            element.set('field', categoricalColumnName)\n",
    "        #Inserts the X column name if an appropriate column was found.\n",
    "        elif element.get('name')==inputDictionary['PositionX']:\n",
    "            if xFound:\n",
    "             element.set('field', xColumnName)\n",
    "             yPointer=0\n",
    "             zPointer=1\n",
    "            else: #1\n",
    "              element.set('field', numColumns[xPointer])\n",
    "        #Inserts the Y column name if an appropriate column was found.\n",
    "        elif element.get('name')==inputDictionary['PositionY']:\n",
    "            if yFound:\n",
    "             element.set('field', yColumnName)\n",
    "             if xFound:\n",
    "               zPointer=0\n",
    "             else: #2\n",
    "                zPointer\n",
    "            else: #3\n",
    "              element.set('field', numColumns[yPointer])\n",
    "        elif element.get('name')==dictionary['PositionZ']:\n",
    "            if zFound:\n",
    "              element.set('field', zColumnName)\n",
    "            else:# 4\n",
    "              element.set('field', numColumns[zPointer])\n",
    "        else:#5\n",
    "        #If non color, x, or y input or nonfound color, x, or y input, field is set with a column from the available numeric columns. \n",
    "          element.set('field', numColumns[count+changer]) #changed MEM 12/9\n",
    "          count+=1\n",
    "        \n",
    "    tree.write(updatedSDTFile)\n",
    "    print(\"XML updated\")"
   ]
  },
  {
   "cell_type": "code",
   "execution_count": 45,
   "metadata": {
    "colab": {},
    "colab_type": "code",
    "id": "Oa4LNKhpV0Ck"
   },
   "outputs": [],
   "source": [
    "# Reformats Color tags depending on available data. If categorical data was not found, the color tag is updated to take in numeric data.\n",
    "#With categorical data, the default color tag is updated with the new values for the key values with the categorical values.\n",
    "# RENAME VARIABLES NAMES SO THEY ARE EASIER TO UNDERSTAND AND CONSISTENT\n",
    "# UPDATE TABBING\n",
    "def setupColor(colorCol,updatedSDTFile):\n",
    "    file = ET.parse(updatedSDTFile)\n",
    "    root = file.getroot()\n",
    "    x=0\n",
    "    if(colorCol==None):#Changes Color code to take in numeric data\n",
    "        pass\n",
    "        \n",
    "    else:\n",
    "      #changes function to categorical data\n",
    "        function= root.find('.//Color/RGB/Function')\n",
    "        function.set(\"type\",\"Text Field To Value\")\n",
    "        pairs = ET.SubElement(function, 'KeyValuePairs')\n",
    "        pairs.tail=sevenTabs\n",
    "\n",
    "      #Creates an array of random colors for the categorical data\n",
    "        count=0\n",
    "        colorList=[] \n",
    "        while count<len(colorCol):\n",
    "          #randomCol(colorList) #I think this line is wrong\n",
    "          randomColors(colorList)\n",
    "          count=count+1\n",
    "\n",
    "        #Creates new key value pairs for the categorical list\n",
    "        while x<len(colorCol):\n",
    "          for element in root.findall('.//Color/RGB/Function[@type=\"Text Field To Value\"]'): \n",
    "            pairs = element.find('.//KeyValuePairs')\n",
    "            keyValuePair =ET.SubElement(pairs, 'KeyValuePair')\n",
    "            keyValuePair.text=eightTabs\n",
    "            keyValuePair.tail=sixTabs\n",
    "\n",
    "            key= ET.SubElement(keyValuePair, 'Key')\n",
    "            key.text=colorCol[x]\n",
    "            key.tail=eightTabs\n",
    "\n",
    "            value = ET.SubElement(keyValuePair, 'Value')\n",
    "            value.tail=sevenTabs\n",
    "            x=x+1\n",
    "    \n",
    "        x=0\n",
    "\n",
    "        #sets up color values for each key value pair\n",
    "        for parent in root.findall('.//Color/RGB/Function[@type=\"Text Field To Value\"]/KeyValuePairs'):\n",
    "          for element in parent.findall('KeyValuePair/Value'):\n",
    "            element.text=colorList[x]\n",
    "            print(colorList[x])\n",
    "            x=x+1\n",
    "                \n",
    "        file.write(updatedSDTFile,encoding=\"utf-8\", xml_declaration=True)\n",
    "          # is sdtFile correct in the line above??"
   ]
  },
  {
   "cell_type": "code",
   "execution_count": 20,
   "metadata": {
    "colab": {},
    "colab_type": "code",
    "id": "JSSFlLg9Vz3T"
   },
   "outputs": [],
   "source": [
    "#Removes binding tag of color section and removes the associated input within the input field tag.\n",
    "# MAKE SURE SDT FILE VARIABLE IS WHAT IT SHOULD BE (SDTTemplate or updatedSDTFile)\n",
    "def resetToDefault(updatedSDTFile,inputDictionary):\n",
    "    file = ET.parse(updatedSDTFile)\n",
    "    root = file.getroot()\n",
    "    print(\"resetting\")\n",
    "    inputID=dictionary['ColorRGB']\n",
    "    removeElement=None\n",
    "    for parent in root.findall('.//Glyph/Color/RGB'):\n",
    "      for element in parent:\n",
    "        if(removeElement==None):\n",
    "          removeElement = parent.find('Binding')\n",
    "\n",
    "        if(removeElement!=None):\n",
    "          parent.remove(removeElement)\n",
    "          removeElement=None\n",
    "    \n",
    "    for parent in root.findall('.//InputFields'):\n",
    "      for element in parent:\n",
    "        if(removeElement==None):\n",
    "          removeElement =  parent.find('InputField[@name=\"'+inputID+'\"]')\n",
    "              \n",
    "        if (removeElement!=None):\n",
    "          parent.remove(removeElement)\n",
    "          removeElement=None\n",
    "    \n",
    "    count=0\n",
    "    #fixes indent spacing for new last element\n",
    "    for parent in root.findall('.//InputFields'):\n",
    "        for element in parent:\n",
    "            if(count==len(parent)-1):\n",
    "                element.tail=\"\\n\\t\"\n",
    "            count+=1\n",
    "        \n",
    "    file.write(updatedSDTFile,encoding=\"utf-8\", xml_declaration=True)"
   ]
  },
  {
   "cell_type": "markdown",
   "metadata": {
    "colab_type": "text",
    "id": "wSVYcrMuWl-U"
   },
   "source": [
    "# Random Color Generator\n"
   ]
  },
  {
   "cell_type": "code",
   "execution_count": 21,
   "metadata": {
    "colab": {},
    "colab_type": "code",
    "id": "0s5XlLDhWppI"
   },
   "outputs": [],
   "source": [
    "#Random Color Generator\n",
    "#Generates random colors and adds them to the color list\n",
    "def randomColors(colorList):\n",
    "    redValue = random.random()*255\n",
    "    redValue=int(redValue)\n",
    "    greenValue = random.random()*255\n",
    "    greenValue=int(greenValue)\n",
    "    blueValue = random.random()*255\n",
    "    blueValue=int(blueValue)\n",
    "    color=str(redValue)+\",\"+str(greenValue)+\",\"+str(blueValue)\n",
    "    colorList.append(color)"
   ]
  },
  {
   "cell_type": "markdown",
   "metadata": {
    "colab_type": "text",
    "id": "JmKmrg9boNGv"
   },
   "source": [
    "# XY Finder"
   ]
  },
  {
   "cell_type": "code",
   "execution_count": 22,
   "metadata": {
    "colab": {},
    "colab_type": "code",
    "id": "BVoW1WB7mlbD"
   },
   "outputs": [],
   "source": [
    "def longFinder(df):\n",
    "    x = 0\n",
    "    for columns in df.columns:\n",
    "      #If column name starts with 'Long'and ends with 'itude' or ends at 'Long', searchObj is true\n",
    "        longSearch = re.match( r'LONG(itude)?\\b', df.columns[x], re.I)\n",
    "        #If column name has Y either at the beginning or in the name seperated by \" \" or \"_\"\n",
    "        ySearch= re.match( r'(.*[\\s_])?Y.*', df.columns[x], re.I)\n",
    "        #If either are true, this column is chosen to be the X data column.\n",
    "        if longSearch or ySearch:\n",
    "            long = df.columns[x]\n",
    "            return long\n",
    "        else:\n",
    "            x = x + 1\n",
    "            pass\n",
    "    return \"\""
   ]
  },
  {
   "cell_type": "code",
   "execution_count": 23,
   "metadata": {
    "colab": {},
    "colab_type": "code",
    "id": "gBQEAluYmk6a"
   },
   "outputs": [],
   "source": [
    "def latFinder(df):\n",
    "    x = 0\n",
    "    for columns in df.columns:\n",
    "      #If column name starts with 'Lat' and ends with 'itude' or ends at 'Lat', searchObj is true\n",
    "        latSearch = re.match( r'LAT(itude)?\\b', df.columns[x], re.I)\n",
    "        #If column name has X either at the beginning or in the name seperated by \" \" or \"_\"\n",
    "        xSearch= re.match( r'(.*[\\s_])?X.*', df.columns[x], re.I)\n",
    "        #If either are true, this column is chosen to be the X data column.\n",
    "        if latSearch or xSearch:\n",
    "            lat = df.columns[x]\n",
    "            return lat\n",
    "        else:\n",
    "            x = x + 1\n",
    "            pass\n",
    "    return \"\""
   ]
  },
  {
   "cell_type": "code",
   "execution_count": 24,
   "metadata": {
    "colab": {},
    "colab_type": "code",
    "id": "9IYTT7P-hVYB"
   },
   "outputs": [],
   "source": [
    "def elevationFinder(df):\n",
    "    x = 0\n",
    "    for columns in df.columns:\n",
    "        searchObj = re.match( r'Elevation', df.columns[x], re.I)\n",
    "        searchObj2= re.match( r'Height', df.columns[x], re.I)\n",
    "        searchObj3= re.match( r'Depth', df.columns[x], re.I)\n",
    "        searchObj4= re.match( r'(.*[\\s_])?Z.*', df.columns[x], re.I)\n",
    "        #print(str(df.columns[x]) + str(searchObj2))\n",
    "        if searchObj or searchObj2 or searchObj3 or searchObj4:\n",
    "            #print(\"found it\")\n",
    "            if df.dtypes[df.columns[x]]=='object':\n",
    "                pass\n",
    "            else:\n",
    "                elv = df.columns[x]\n",
    "                return elv\n",
    "        else:\n",
    "            x = x + 1\n",
    "            pass\n",
    "    return \"\""
   ]
  },
  {
   "cell_type": "markdown",
   "metadata": {
    "colab_type": "text",
    "id": "lr-jZcevnJes"
   },
   "source": [
    "# Dictionary Maker"
   ]
  },
  {
   "cell_type": "code",
   "execution_count": 25,
   "metadata": {
    "colab": {},
    "colab_type": "code",
    "id": "GzMGd7pImwRA"
   },
   "outputs": [],
   "source": [
    "#Searches the SDT file for input IDs and catelogs those IDs with the location/influenced attribute\n",
    "def MakeDictionary(updatedSDTFile):\n",
    "    file = ET.parse(updatedSDTFile)\n",
    "    root = file.getroot()\n",
    "    #Original entry to show format of the dictionary\n",
    "    inputDictionary={'Name':'Id'}\n",
    "    #Multiple nested loops to reach and search the line level where inputs are binded with Binding Tag\n",
    "    #Change names\n",
    "    for topLayer in root.findall('.//Glyph'):\n",
    "        for parent in topLayer:\n",
    "            for attribute in parent:\n",
    "                for tag in attribute:\n",
    "                  #Once in the attribute element, the binding tag is the only inport tag to store\n",
    "                    temporaryTag=attribute.find('Binding')\n",
    "                    if temporaryTag!=None:\n",
    "                      #Name is the Parent name of the attribute and the attribute name\n",
    "                      #ex. PositionX, RotationY, ColorRGB\n",
    "                        inputDictionary[parent.tag+attribute.tag]=temporaryTag.get('fieldId')\n",
    "                        temporaryTag=None\n",
    "                        \n",
    "    return inputDictionary"
   ]
  },
  {
   "cell_type": "markdown",
   "metadata": {
    "colab_type": "text",
    "id": "zc5tcEDYWyw5"
   },
   "source": [
    "#Runner"
   ]
  },
  {
   "cell_type": "code",
   "execution_count": 37,
   "metadata": {
    "colab": {},
    "colab_type": "code",
    "id": "btbuxMoVW42s"
   },
   "outputs": [],
   "source": [
    "#Uses all necessary methods and variables to run the Glyph Generator\n",
    "#Converts a CSV file to a SDT file\n",
    "def runAll(sdtTemplate):\n",
    "  #Color variables for if a categorical column is available\n",
    "  colorCol = None #will change this name\n",
    "  categoricalColumnName = ''\n",
    "  catFound=False  #will change this name\n",
    "\n",
    "  #x variables for if a numeric column for specifically x is found\n",
    "  xColumnName=''\n",
    "  xFound=False\n",
    "\n",
    "  #y variables for if a numeric column for specifically y is found  \n",
    "  yColumnName=''\n",
    "  yFound=False\n",
    "\n",
    "#z variables for if a numeric column for specifically z is found  \n",
    "  zColumnName=''\n",
    "  zFound=False\n",
    "  \n",
    "  csvFile = selectCSVFile(sdtTemplate)\n",
    "  df = readCSV(csvFile)\n",
    "\n",
    "  categoricalColumnName=getCategoricalColumnName(df,categoricalColumnName)\n",
    "  if(categoricalColumnName != ''):\n",
    "    catFound=True   #will change this name\n",
    "    colorCol=getCategoricalColumnOptions(df,categoricalColumnName) #will change this name\n",
    "\n",
    "  #Finds x with latFinder2 if there is an x specific column.\n",
    "  xColumnName=latFinder(df)\n",
    "  if(xColumnName!=''):\n",
    "    xFound=True\n",
    "            \n",
    "  #Finds y with longFinder2 if there is an y specific column.\n",
    "  yColumnName=longFinder(df)\n",
    "  if(yColumnName!=''):\n",
    "    yFound=True\n",
    "\n",
    "  zName=elevationFinder(df)\n",
    "  if(zName!=\"\"):\n",
    "      zFound=True\n",
    "  \n",
    "\n",
    "  updatedSDTFile=moveToNewFile(sdtTemplate,csvFile)#Use before new input fields are put in\n",
    "  user_input = userInput()\n",
    "  numericColumnNames= typeDefiner(df,xColumnName,yColumnName, zColumnName) #will change name later\n",
    "  bindingFieldParser(df, sdtTemplate, updatedSDTFile, user_input, numericColumnNames)\n",
    "  #Create a dictionary to hold the IDs of all inputs and where they are located.\n",
    "  inputDictionary =MakeDictionary(updatedSDTFile)\n",
    "\n",
    "  inputCountChecker(updatedSDTFile, catFound, numericColumnNames,inputDictionary)        #typeDefiner will be split into different functions\n",
    "    \n",
    "  XMLParser(numericColumnNames,updatedSDTFile,categoricalColumnName,catFound,inputDictionary,xColumnName,xFound,yColumnName,yFound, zColumnName, zFound, df) #make changes to names\n",
    "  #XMLParser(numericColumnNames,updatedSDTFile,categoricalColumnName,catFound,dictionary,xColumnName,xFound,yColumnName,yFound, df) #make changes to names\n",
    "  setupColor(colorCol, updatedSDTFile) #will change name later"
   ]
  },
  {
   "cell_type": "code",
   "execution_count": 46,
   "metadata": {
    "colab": {
     "base_uri": "https://localhost:8080/",
     "height": 366
    },
    "colab_type": "code",
    "id": "GGLAjlvCW-uv",
    "outputId": "88f6e5cc-d564-48b5-bc4f-f531b8461324"
   },
   "outputs": [
    {
     "name": "stdout",
     "output_type": "stream",
     "text": [
      "reading csv done\n",
      "Use 5 columns\n",
      "objects removed\n",
      "['id', 'dateTime', 'Inning', 'True_Distance', 'Speed_off_Bat', 'Elevation_Angle', 'Horizontal_Angle', 'Apex', 'Angle_Adj', 'year', 'month']\n",
      "fieldid\n",
      "fielddateTime\n",
      "fieldInning\n",
      "fieldTrue_Distance\n",
      "fieldSpeed_off_Bat\n",
      "{0: '~4919599378', 1: '~53191034439', 2: '~88198509510', 3: '~6792933269', 4: '~5568115401'}\n",
      "binding field id~4919599378\n",
      "binding field id~53191034439\n",
      "binding field id~88198509510\n",
      "binding field id~6792933269\n",
      "binding field id~6792933269\n",
      "binding field id~6792933269\n",
      "['id', 'dateTime', 'Inning', 'True_Distance', 'Speed_off_Bat', 'Elevation_Angle', 'Horizontal_Angle', 'Apex', 'Angle_Adj', 'year', 'month']\n",
      "['id']\n",
      "1\n",
      "XML updated\n",
      "212,65,92\n",
      "165,244,87\n",
      "105,73,167\n",
      "175,25,102\n",
      "77,199,40\n",
      "145,66,52\n",
      "105,80,199\n",
      "145,229,226\n",
      "158,197,53\n",
      "73,125,192\n",
      "86,254,253\n",
      "91,1,43\n",
      "70,226,238\n",
      "74,120,54\n",
      "169,117,232\n",
      "17,154,13\n",
      "109,217,18\n",
      "91,81,171\n",
      "90,42,196\n",
      "168,152,26\n",
      "169,18,77\n",
      "132,18,177\n",
      "66,78,3\n",
      "94,37,128\n",
      "113,92,248\n",
      "236,195,105\n",
      "217,250,169\n",
      "71,19,35\n",
      "14,157,72\n",
      "232,143,111\n"
     ]
    }
   ],
   "source": [
    "#Run the Program\n",
    "#Tab variables for use in formatting SDT file.\n",
    "sevenTabs=\"\\n\\t\\t\\t\\t\\t\\t\\t\"\n",
    "eightTabs=\"\\n\\t\\t\\t\\t\\t\\t\\t\\t\"\n",
    "sixTabs=\"\\n\\t\\t\\t\\t\\t\\t\"\n",
    "fiveTabs=\"\\n\\t\\t\\t\\t\\t\"\n",
    "maxCategoricalOptions=101\n",
    "runAll('emptySDT.sdt')\n",
    "#\n",
    "#\n",
    "#getRangeList: changed numericList to columnList\n",
    "#Set up color: lines after function=, changed function_elem to function\n",
    "#set up color: value creation change keyValPairs to keyValuePairs"
   ]
  },
  {
   "cell_type": "markdown",
   "metadata": {
    "colab_type": "text",
    "id": "Tu14M_iWRnyb"
   },
   "source": [
    "# How to Make a .exe "
   ]
  },
  {
   "cell_type": "markdown",
   "metadata": {
    "colab_type": "text",
    "id": "Z_Dx3vqPRv7a"
   },
   "source": [
    "Download Python from the web, and select \"Add Python 3.7 to PATH\"\n",
    "\n",
    "File -> Download As -> Python (.py)\n",
    "\n",
    "Open Windows Command Prompt (either look up Windows Command Prompt in Search bar or Windows button + R, \n",
    "then type in \"cmd\")\n",
    "\n",
    "In Command Prompt - \n",
    "\n",
    "> pip install pyinstaller\n",
    "\n",
    "\n",
    "> cd yourfilepathhere\n",
    "\n",
    "\n",
    "> pyinstaller --onefile nameofyourfile.py\n",
    "\n",
    "Then check in the File explorer that were you had your original .py file, and there should be a folder names \"dist\"\n",
    "\n",
    "The executable file should be in there\n",
    "\n"
   ]
  }
 ],
 "metadata": {
  "colab": {
   "collapsed_sections": [],
   "name": "12_10_DataConverter.ipynb",
   "provenance": [],
   "toc_visible": true
  },
  "kernelspec": {
   "display_name": "Python 3",
   "language": "python",
   "name": "python3"
  },
  "language_info": {
   "codemirror_mode": {
    "name": "ipython",
    "version": 3
   },
   "file_extension": ".py",
   "mimetype": "text/x-python",
   "name": "python",
   "nbconvert_exporter": "python",
   "pygments_lexer": "ipython3",
   "version": "3.7.3"
  }
 },
 "nbformat": 4,
 "nbformat_minor": 1
}
