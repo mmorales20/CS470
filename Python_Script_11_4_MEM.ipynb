{
 "cells": [
  {
   "cell_type": "code",
   "execution_count": 3,
   "metadata": {},
   "outputs": [],
   "source": [
    "#Download packages\n",
    "import csv\n",
    "import pandas as pd\n",
    "import re\n",
    "import xml.etree.ElementTree as ET\n",
    "\n",
    "from tkinter import filedialog\n",
    "from tkinter import *"
   ]
  },
  {
   "cell_type": "code",
   "execution_count": null,
   "metadata": {},
   "outputs": [],
   "source": [
    "#Create the SDT file that will contain the end product\n",
    "#Begin by adding the minimum to it\n"
   ]
  },
  {
   "cell_type": "code",
   "execution_count": 65,
   "metadata": {},
   "outputs": [],
   "source": [
    "#Display a file explorer and allow user to select a CSV file that contains the desire data\n",
    "#%%python\n",
    "def getFile(sdtFile):\n",
    "    root = Tk()\n",
    "    root.filename =  filedialog.askopenfilename(initialdir = \"/\",title = \"Select file\",filetypes = ((\"text files\",\"*.csv\"),(\"all files\",\"*.*\")))\n",
    "    changePath(root.filename,sdtFile)\n",
    "    root.destroy()\n",
    "    return(root.filename)"
   ]
  },
  {
   "cell_type": "code",
   "execution_count": 69,
   "metadata": {},
   "outputs": [],
   "source": [
    "#Change the path based on the file selected by the user\n",
    "def changePath(path,sdtFile):\n",
    "    tree = ET.parse(sdtFile)\n",
    "    root = tree.getroot()\n",
    "    \n",
    "    for elem in root.findall('.//Datasources/Datasource/Host'):\n",
    "        elem.text=path\n",
    "    \n",
    "    for elem in root.findall('.//Datasources/Datasource/Name'):\n",
    "        elem.text=path\n",
    "        \n",
    "    tree.write(sdtFile,encoding=\"utf-8\", xml_declaration=True)"
   ]
  },
  {
   "cell_type": "code",
   "execution_count": 5,
   "metadata": {},
   "outputs": [],
   "source": [
    "#Read in each column of the CSV file that was selected\n",
    "def readCSV(csvName):\n",
    "    df = pd.read_csv(csvName)\n",
    "    print(\"reading csv done\")\n",
    "    return df"
   ]
  },
  {
   "cell_type": "code",
   "execution_count": null,
   "metadata": {},
   "outputs": [],
   "source": [
    "#Ask the user how many columns from the file should be used in the visualization\n",
    "def userInput():\n",
    "    root = Tk()\n",
    "    root.withdraw()\n",
    "\n",
    "    user_inp = simpledialog.askstring(title=\"SynGlyphX\", \n",
    "        prompt=\"How many columns would you like to include in your visualization?\")\n",
    "    user_int = int(user_inp)\n",
    "    print(\"Use\", user_int, \"columns\")\n",
    "    return user_int\n"
   ]
  },
  {
   "cell_type": "code",
   "execution_count": null,
   "metadata": {},
   "outputs": [],
   "source": [
    "userInput()"
   ]
  },
  {
   "cell_type": "code",
   "execution_count": null,
   "metadata": {},
   "outputs": [],
   "source": [
    "#Ask the user how many children should be used in the visualization\n",
    "def userInput2():\n",
    "    root = Tk()\n",
    "    root.withdraw()\n",
    "\n",
    "    user_inp = simpledialog.askstring(title=\"SynGlyphX\", \n",
    "        prompt=\"How many children would you like to include in your visualization?\")\n",
    "    user_int = int(user_inp)\n",
    "    print(\"Use\", user_int, \"children\")\n",
    "    return user_int"
   ]
  },
  {
   "cell_type": "code",
   "execution_count": 59,
   "metadata": {},
   "outputs": [],
   "source": [
    "#Get categorical data\n",
    "#***********Need to explain the >1 and <6 and color functionality\n",
    "def getCat(df,colorName):\n",
    "    x=0\n",
    "    for name in df.columns:\n",
    "        if df.dtypes[x] == 'object':\n",
    "             if len(df[name].astype('category').cat.categories.tolist()) >1 and len(df[name].astype('category').cat.categories.tolist()) <6 and colorName==\"\": \n",
    "                colorName=df.columns[x]\n",
    "        x= x+1\n",
    "    return colorName"
   ]
  },
  {
   "cell_type": "code",
   "execution_count": 8,
   "metadata": {},
   "outputs": [],
   "source": [
    "#Get Categorical Columns\n",
    "#Return a list of all the categorical columns\n",
    "def getCatCol(df,colorName):\n",
    "    return df[colorName].astype('category').cat.categories.tolist()"
   ]
  },
  {
   "cell_type": "code",
   "execution_count": 9,
   "metadata": {},
   "outputs": [],
   "source": [
    "#Loops through the columns of data\n",
    "#Adds the numeric columns to a list and passes over categorical object columns\n",
    "def typeDefiner(df):\n",
    "    colList = df.columns\n",
    "    colList\n",
    "    x = 0\n",
    "    colNames = []\n",
    "    for name in colList:\n",
    "        if df.dtypes[x] == 'object':# or df.dtypes[x] == 'int64':\n",
    "            pass\n",
    "        else:\n",
    "            colNames.append(colList[x])\n",
    "                \n",
    "        x = x + 1\n",
    "    print(\"objects removed\")\n",
    "    print(colNames)\n",
    "    return colNames"
   ]
  },
  {
   "cell_type": "code",
   "execution_count": 10,
   "metadata": {},
   "outputs": [],
   "source": [
    "#\n",
    "def toNumeric(sdtFile):\n",
    "\n",
    "    import xml.etree.ElementTree as ET\n",
    "    #CLEARS COLOR OUT NOW WE CAN INSERT ANYTHING\n",
    "    file = ET.parse(sdtFile)\n",
    "    root = file.getroot()\n",
    "    for elem in root.findall('.//Color/RGB/Function[@type=\"Text Field To Value\"]/KeyValuePairs'):\n",
    "        elem.clear()\n",
    "\n",
    "    for parent in root.findall('.//KeyValuePairs/..'):\n",
    "        for element in parent.findall('KeyValuePairs'):\n",
    "            parent.remove(element)\n",
    "   #Try to write here\n",
    "    for elem in root.findall('.//Color/RGB'):\n",
    "        check_req_elems = elem.find('.//Function[@type=\"Text Field To Value\"]')\n",
    "        check_req_elems.type = \"Linear Interpolation\"\n",
    "        check_req_elems.set(\"type\",\"Linear Interpolation\")\n",
    "        attrib = {'type': 'BoundField'}\n",
    "        minmax = ET.SubElement(check_req_elems, 'MinMax', attrib)\n",
    "        minmax.text= \"\\n\\t\\t\\t\\t\\t\\t\\t\"\n",
    "        min = ET.SubElement(minmax, 'Min')\n",
    "        min.text = '0'\n",
    "        min.tail=\"\\n\\t\\t\\t\\t\\t\\t\"\n",
    "        minmax.tail=\"\\n\\t\\t\\t\\t\\t\"\n",
    "    file.write(sdtFile,encoding=\"utf-8\", xml_declaration=True)\n",
    "    print(\"color fixed\")"
   ]
  },
  {
   "cell_type": "code",
   "execution_count": 11,
   "metadata": {},
   "outputs": [],
   "source": [
    "#\n",
    "def XMLParser(colNames, sdtFile,colorName):\n",
    "    print(colNames)\n",
    "\n",
    "    tree = ET.parse(sdtFile)\n",
    "    root = tree.getroot()\n",
    "    count=0;\n",
    "    print(len(colNames))\n",
    "    for elem in root.iter('InputField'):\n",
    "        print(count)\n",
    "        #count+=1;\n",
    "        #check_req_elem = elem.find('.//InputField')\n",
    "        #if check_req_elem.get('name')!=\"color\":\n",
    "        elem.set('field', colNames[count])\n",
    "        #else:\n",
    "         #   elem.set('field', colorName)\n",
    "        count+=1;\n",
    "    #tree.write('New DAL 900.sdt')\n",
    "    tree.write('emptySDT.sdt')\n",
    "    print(\"XML updated\")"
   ]
  },
  {
   "cell_type": "code",
   "execution_count": 67,
   "metadata": {},
   "outputs": [],
   "source": [
    "#\n",
    "def runAll(sdtFile):\n",
    "    colorCol= None\n",
    "    colorName=\"\"\n",
    "    csv = getFile(sdtFile)\n",
    "    df = readCSV(csv)\n",
    "    colorName=getCat(df,colorName)\n",
    "    colorCol=getCatCol(df,colorName)\n",
    "    colNames = typeDefiner(df)\n",
    "    colNames.append(colorName)\n",
    "    XMLParser(colNames, sdtFile,colorName)\n",
    "    setupColor(colorCol, sdtFile)\n",
    "   # csv = getFile()\n",
    "#readCSV(csv)"
   ]
  },
  {
   "cell_type": "code",
   "execution_count": 71,
   "metadata": {
    "scrolled": true
   },
   "outputs": [
    {
     "name": "stdout",
     "output_type": "stream",
     "text": [
      "reading csv done\n",
      "objects removed\n",
      "['Height', 'Age', 'GPA']\n",
      "['Height', 'Age', 'GPA', 'Gender']\n",
      "4\n",
      "0\n",
      "1\n",
      "2\n",
      "3\n",
      "XML updated\n",
      "A\n",
      "F\n"
     ]
    }
   ],
   "source": [
    "#%%python\n",
    "runAll('emptySDT.sdt')"
   ]
  },
  {
   "cell_type": "markdown",
   "metadata": {},
   "source": [
    "### Extra functions"
   ]
  },
  {
   "cell_type": "code",
   "execution_count": 4,
   "metadata": {},
   "outputs": [],
   "source": [
    "#Search the data for an Elevation column\n",
    "def elevationFinder(df):\n",
    "    if df.columns.contains(\"elevation\") or df.columns.contains(\"Elevation\") or df.columns.contains(\"height\"):\n",
    "        longitude = df[\"Longitude\"]\n",
    "    else:\n",
    "        longitude = \"none found\"\n",
    "    return longitude"
   ]
  },
  {
   "cell_type": "code",
   "execution_count": 3,
   "metadata": {},
   "outputs": [],
   "source": [
    "#Search the data for a Latitude column\n",
    "#Must condiser \"LAT\" is also found in words such as \"later\" and \"flat\"\n",
    "def latFinder2(df):\n",
    "    x = 0\n",
    "    for columns in df.columns:\n",
    "        searchObj = re.match( r'LAT', df.columns[x], re.I)\n",
    "        if searchObj:\n",
    "            #print(\"found it\")\n",
    "            lat = df.columns[x]\n",
    "            return lat\n",
    "        else:\n",
    "            x = x + 1\n",
    "            pass"
   ]
  },
  {
   "cell_type": "code",
   "execution_count": 2,
   "metadata": {},
   "outputs": [],
   "source": [
    "#Search the data for a Longitude column\n",
    "#Must consider \"LONG\" is also found in words such as \"longer\" and \"belong\"\n",
    "def longFinder2(df):\n",
    "    x = 0\n",
    "    for columns in df.columns:\n",
    "        searchObj = re.match( r'LONG', df.columns[x], re.I)\n",
    "        if searchObj:\n",
    "            #print(\"found it\")\n",
    "            long = df.columns[x]\n",
    "            return long\n",
    "        else:\n",
    "            x = x + 1\n",
    "            pass"
   ]
  },
  {
   "cell_type": "code",
   "execution_count": 62,
   "metadata": {},
   "outputs": [],
   "source": [
    "#\n",
    "def setupColor(colorCol,sdtFile):\n",
    "    file = ET.parse(sdtFile)\n",
    "    root = file.getroot()\n",
    "    x=0\n",
    "    for elem in root.findall('.//Color/RGB/Function[@type=\"Text Field To Value\"]/KeyValuePairs'):\n",
    "        for element in elem.findall('KeyValuePair/Key'):\n",
    "            element.text=colorCol[x]\n",
    "            print(colorCol[x])\n",
    "            x=x+1\n",
    "\n",
    "        if(len(colorCol)>2):\n",
    "            while x<len(colorCol):\n",
    "                for elem in root.findall('.//Color/RGB/Function[@type=\"Text Field To Value\"]'):\n",
    "                    pairs = elem.find('.//KeyValuePairs')\n",
    "                #fixes spacing so new pair will be at right column/indent area\n",
    "                    for child in pairs.findall('.//KeyValuePair'):\n",
    "                        child.tail=\"\\n\\t\\t\\t\\t\\t\\t\\t\"\n",
    "                    keyVal =ET.SubElement(pairs, 'KeyValuePair')\n",
    "                    keyVal.text=\"\\n\\t\\t\\t\\t\\t\\t\\t\\t\"\n",
    "                    keyVal.tail=\"\\n\\t\\t\\t\\t\\t\\t\"\n",
    "                    keyValP= ET.SubElement(keyVal, 'Key')\n",
    "                    keyValP.text=colorCol[x]\n",
    "                    keyValP.tail=\"\\n\\t\\t\\t\\t\\t\\t\\t\\t\"\n",
    "                    key = ET.SubElement(keyVal, 'Value')\n",
    "                    if(x==2):\n",
    "                        key.text = \"0,255,0\"  \n",
    "                    elif(x==3):\n",
    "                        key.text = \"255,255,0\"\n",
    "                    elif(x==4):\n",
    "                        key.text=\"0,255,255\"\n",
    "                    \n",
    "                    key.tail=\"\\n\\t\\t\\t\\t\\t\\t\\t\"\n",
    "                    x=x+1\n",
    "       # val = ET.SubElement(keyValP, 'Value')\n",
    "   # val.text = \"90\"\n",
    "   # val.tail\"\\n\"\n",
    "    file.write('emptySDT1.sdt',encoding=\"utf-8\", xml_declaration=True)\n"
   ]
  },
  {
   "cell_type": "code",
   "execution_count": 70,
   "metadata": {},
   "outputs": [
    {
     "ename": "NameError",
     "evalue": "name 'colorCol' is not defined",
     "output_type": "error",
     "traceback": [
      "\u001b[1;31m---------------------------------------------------------------------------\u001b[0m",
      "\u001b[1;31mNameError\u001b[0m                                 Traceback (most recent call last)",
      "\u001b[1;32m<ipython-input-70-e7c3994c746c>\u001b[0m in \u001b[0;36m<module>\u001b[1;34m\u001b[0m\n\u001b[1;32m----> 1\u001b[1;33m \u001b[0mprint\u001b[0m\u001b[1;33m(\u001b[0m\u001b[0mcolorCol\u001b[0m\u001b[1;33m[\u001b[0m\u001b[1;36m0\u001b[0m\u001b[1;33m]\u001b[0m\u001b[1;33m)\u001b[0m\u001b[1;33m\u001b[0m\u001b[1;33m\u001b[0m\u001b[0m\n\u001b[0m",
      "\u001b[1;31mNameError\u001b[0m: name 'colorCol' is not defined"
     ]
    }
   ],
   "source": [
    "\n"
   ]
  }
 ],
 "metadata": {
  "kernelspec": {
   "display_name": "Python 3",
   "language": "python",
   "name": "python3"
  },
  "language_info": {
   "codemirror_mode": {
    "name": "ipython",
    "version": 3
   },
   "file_extension": ".py",
   "mimetype": "text/x-python",
   "name": "python",
   "nbconvert_exporter": "python",
   "pygments_lexer": "ipython3",
   "version": "3.7.3"
  }
 },
 "nbformat": 4,
 "nbformat_minor": 2
}
