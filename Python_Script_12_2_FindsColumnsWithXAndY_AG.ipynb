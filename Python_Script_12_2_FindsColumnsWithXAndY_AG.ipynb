{
 "cells": [
  {
   "cell_type": "code",
   "execution_count": 11,
   "metadata": {},
   "outputs": [],
   "source": [
    "#Packages being downloaded\n",
    "import csv\n",
    "import pandas as pd\n",
    "import re\n",
    "import xml.etree.ElementTree as ET\n",
    "\n",
    "from tkinter import filedialog\n",
    "from tkinter import *\n",
    "\n",
    "import os"
   ]
  },
  {
   "cell_type": "code",
   "execution_count": 10,
   "metadata": {},
   "outputs": [],
   "source": [
    "def getFile(sdtFile):\n",
    "    root = Tk()\n",
    "    root.filename =  filedialog.askopenfilename(initialdir = \"/\",title = \"Select file\",filetypes = ((\"text files\",\"*.csv\"),(\"all files\",\"*.*\")))\n",
    "    changePath(root.filename,sdtFile)\n",
    "    root.destroy()\n",
    "    return(root.filename)"
   ]
  },
  {
   "cell_type": "code",
   "execution_count": 9,
   "metadata": {},
   "outputs": [],
   "source": [
    "def changePath(path,sdtFile):\n",
    "    tree = ET.parse(sdtFile)\n",
    "    root = tree.getroot()\n",
    "    \n",
    "    for elem in root.findall('.//Datasources/Datasource/Host'):\n",
    "        elem.text=path\n",
    "    \n",
    "    for elem in root.findall('.//Datasources/Datasource/Name'):\n",
    "        elem.text=path\n",
    "        \n",
    "    tree.write(sdtFile,encoding=\"utf-8\", xml_declaration=True)"
   ]
  },
  {
   "cell_type": "code",
   "execution_count": 8,
   "metadata": {},
   "outputs": [],
   "source": [
    "def readCSV(csvName):\n",
    "    df = pd.read_csv(csvName)\n",
    "    print(\"reading csv done\")\n",
    "    return df"
   ]
  },
  {
   "cell_type": "code",
   "execution_count": 7,
   "metadata": {},
   "outputs": [],
   "source": [
    "def getCat(df,colorName):\n",
    "    x=0\n",
    "    for name in df.columns:\n",
    "        if df.dtypes[x] == 'object':\n",
    "             if len(df[name].astype('category').cat.categories.tolist()) >1 and len(df[name].astype('category').cat.categories.tolist()) <101 and colorName==\"\": \n",
    "                colorName=df.columns[x]\n",
    "        x= x+1\n",
    "    return colorName"
   ]
  },
  {
   "cell_type": "code",
   "execution_count": 5,
   "metadata": {},
   "outputs": [],
   "source": [
    "def getCatCol(df,colorName):\n",
    "    return df[colorName].astype('category').cat.categories.tolist()"
   ]
  },
  {
   "cell_type": "code",
   "execution_count": 4,
   "metadata": {},
   "outputs": [],
   "source": [
    "def typeDefiner(df,catFound,sdtFile,xName,yName):\n",
    "    colList = df.columns\n",
    "    colList\n",
    "    x = 0\n",
    "    colNames = []\n",
    "    for name in colList:\n",
    "        if df.dtypes[x] == 'object' and colList[x] is xName or colList is yName:# or df.dtypes[x] == 'int64':\n",
    "            pass\n",
    "        else:\n",
    "            colNames.append(colList[x])\n",
    "                \n",
    "        x = x + 1\n",
    "    \n",
    "    file = ET.parse(sdtFile)\n",
    "    root = file.getroot()\n",
    "    inputCount=0\n",
    "    for elem in root.findall('.//InputFields'):\n",
    "        for inputs in elem.findall('.//InputField'):\n",
    "            inputCount+=1\n",
    "    \n",
    "    if not catFound and inputCount>len(colNames):\n",
    "        resetToDefault(sdtFile)\n",
    "    print(\"input count is \"+str(catFound)+str(len(colNames)))\n",
    "    print(\"objects removed\")\n",
    "    print(colNames)\n",
    "    return colNames"
   ]
  },
  {
   "cell_type": "code",
   "execution_count": 3,
   "metadata": {},
   "outputs": [],
   "source": [
    "def toNumeric(sdtFile):\n",
    "\n",
    "    #import xml.etree.ElementTree as ET\n",
    "    #CLEARS COLOR OUT NOW WE CAN INSERT ANYTHING\n",
    "    file = ET.parse(sdtFile)\n",
    "    root = file.getroot()\n",
    "    for elem in root.findall('.//Glyph/Color/RGB/Function[@type=\"Text Field To Value\"]/KeyValuePairs'):\n",
    "        elem.clear()\n",
    "        \n",
    "\n",
    "    for parent in root.findall('.//KeyValuePairs/..'):\n",
    "        for element in parent.findall('KeyValuePairs'):\n",
    "            parent.remove(element)\n",
    "            \n",
    "    \n",
    "   #Try to write here\n",
    "    for elem in root.findall('.//Glyph/Color/RGB/..'):\n",
    "        check_req_elems = elem.find('.//Function')\n",
    "        #check_req_elems.type = \"Linear Interpolation\"\n",
    "        check_req_elems.set(\"type\",\"Linear Interpolation\")\n",
    "        attrib = {'type': 'BoundField'}\n",
    "        minmax = ET.SubElement(check_req_elems, 'MinMax', attrib)\n",
    "        minmax.text= \"\\n\\t\\t\\t\\t\\t\\t\\t\"\n",
    "        min = ET.SubElement(minmax, 'Min')\n",
    "        min.text = '0'\n",
    "        min.tail=\"\\n\\t\\t\\t\\t\\t\\t\"\n",
    "        minmax.tail=\"\\n\\t\\t\\t\\t\\t\"\n",
    "    file.write(sdtFile,encoding=\"utf-8\", xml_declaration=True)\n",
    "    print(\"color fixed\")"
   ]
  },
  {
   "cell_type": "code",
   "execution_count": 28,
   "metadata": {},
   "outputs": [],
   "source": [
    "def XMLParser(colNames, sdtFile,colorName,catFound,dict,xName,xFound,yName,yFound):\n",
    "    print(colNames)\n",
    "\n",
    "    tree = ET.parse(sdtFile)\n",
    "    root = tree.getroot()\n",
    "    count=0;\n",
    "    print(len(colNames))\n",
    "    for elem in root.iter('InputField'):\n",
    "        print(count)\n",
    "        if elem.get('name')==dict['ColorRGB'] and catFound:\n",
    "            elem.set('field', colorName)\n",
    "        elif elem.get('name')==dict['PositionX'] and xFound:\n",
    "            elem.set('field', xName)\n",
    "        elif elem.get('name')==dict['PositionY'] and yFound:\n",
    "            elem.set('field', yName)\n",
    "        else:\n",
    "            elem.set('field', colNames[count])\n",
    "            count+=1\n",
    "            \n",
    "        \n",
    "    #tree.write('New DAL 900.sdt')\n",
    "    tree.write(sdtFile)\n",
    "    print(\"XML updated\")"
   ]
  },
  {
   "cell_type": "code",
   "execution_count": 42,
   "metadata": {},
   "outputs": [],
   "source": [
    "def runAll(sdtFile):\n",
    "    colorCol= None\n",
    "    colorName=\"\"\n",
    "    catFound=False\n",
    "    \n",
    "    xName=''\n",
    "    xFound=False\n",
    "    \n",
    "    yName=''\n",
    "    yFound=False\n",
    "    \n",
    "    csv = getFile(sdtFile)\n",
    "    df = readCSV(csv)\n",
    "    colorName=getCat(df,colorName)\n",
    "    if(colorName!=\"\"):\n",
    "        catFound=True\n",
    "        colorCol=getCatCol(df,colorName)\n",
    "    \n",
    "    #Find x\n",
    "    xName=latFinder2(df)\n",
    "    if(xName!=\"\"):\n",
    "        xFound=True\n",
    "        #Don't need a list of value pairs for x, y, or z\n",
    "            \n",
    "    #Find y \n",
    "    yName=longFinder2(df)\n",
    "    if(yName!=\"\"):\n",
    "        yFound=True\n",
    "    \n",
    "    sdtFile=moveToNewFile(sdtFile,csv)\n",
    "    colNames = typeDefiner(df,catFound,sdtFile,xName,yName)\n",
    "    #colNames.append(colorName)\n",
    "    dict =MakeDict('emptySDT.sdt')\n",
    "   \n",
    "    XMLParser(colNames, sdtFile,colorName,catFound,dict,xName,xFound,yName,yFound)\n",
    "    setupColor(colorCol, sdtFile)\n",
    "   # csv = getFile()\n",
    "#readCSV(csv)"
   ]
  },
  {
   "cell_type": "code",
   "execution_count": 78,
   "metadata": {
    "scrolled": false
   },
   "outputs": [
    {
     "name": "stdout",
     "output_type": "stream",
     "text": [
      "reading csv done\n",
      "input count is True23\n",
      "objects removed\n",
      "['id', 'date', 'dateTime', 'Hitter', 'Hitter_Team', 'Pitcher', 'Pitcher_Team', 'Inning', 'Ballpark', 'Type_Luck', 'True_Distance', 'Speed_off_Bat', 'Elevation_Angle', 'Horizontal_Angle', 'Apex', 'Angle_Adj', 'Location_X', 'Location_Y', 'Field_Location', 'Nametag_HR', 'year', 'month', 'season_type']\n",
      "['id', 'date', 'dateTime', 'Hitter', 'Hitter_Team', 'Pitcher', 'Pitcher_Team', 'Inning', 'Ballpark', 'Type_Luck', 'True_Distance', 'Speed_off_Bat', 'Elevation_Angle', 'Horizontal_Angle', 'Apex', 'Angle_Adj', 'Location_X', 'Location_Y', 'Field_Location', 'Nametag_HR', 'year', 'month', 'season_type']\n",
      "23\n",
      "0\n",
      "0\n",
      "0\n",
      "1\n",
      "XML updated\n",
      "Setting up Colors\n"
     ]
    }
   ],
   "source": [
    "#%%python\n",
    "sevenTabs=\"\\n\\t\\t\\t\\t\\t\\t\\t\"\n",
    "eightTabs=\"\\n\\t\\t\\t\\t\\t\\t\\t\\t\"\n",
    "sixTabs=\"\\n\\t\\t\\t\\t\\t\\t\"\n",
    "runAll('emptySDT.sdt')"
   ]
  },
  {
   "cell_type": "markdown",
   "metadata": {},
   "source": [
    "# Extra functions"
   ]
  },
  {
   "cell_type": "code",
   "execution_count": 4,
   "metadata": {},
   "outputs": [],
   "source": [
    "def elevationFinder(df):\n",
    "    if df.columns.contains(\"elevation\") or df.columns.contains(\"Elevation\") or df.columns.contains(\"height\"):\n",
    "        longitude = df[\"Longitude\"]\n",
    "    else:\n",
    "        longitude = \"none found\"\n",
    "    return longitude"
   ]
  },
  {
   "cell_type": "code",
   "execution_count": 75,
   "metadata": {},
   "outputs": [],
   "source": [
    "def latFinder2(df):\n",
    "    x = 0\n",
    "    for columns in df.columns:\n",
    "        searchObj = re.match( r'^LAT', df.columns[x], re.I)\n",
    "        searchObj2= re.match( r'.*[\\s_\\b]X.*', df.columns[x], re.I)\n",
    "        #print(str(df.columns[x]) + str(searchObj2))\n",
    "        if searchObj or searchObj2:\n",
    "            #print(\"found it\")\n",
    "            lat = df.columns[x]\n",
    "            return lat\n",
    "        else:\n",
    "            x = x + 1\n",
    "            pass\n",
    "    return \"\""
   ]
  },
  {
   "cell_type": "code",
   "execution_count": 77,
   "metadata": {},
   "outputs": [],
   "source": [
    "def longFinder2(df):\n",
    "    x = 0\n",
    "    for columns in df.columns:\n",
    "        searchObj = re.match( r'^LONG', df.columns[x], re.I)\n",
    "        searchObj2= re.match( r'.*[\\s_\\b]Y.*', df.columns[x], re.I)\n",
    "        if searchObj or searchObj2:\n",
    "            #print(\"found it\")\n",
    "            long = df.columns[x]\n",
    "            return long\n",
    "        else:\n",
    "            x = x + 1\n",
    "            pass\n",
    "    return \"\""
   ]
  },
  {
   "cell_type": "code",
   "execution_count": 16,
   "metadata": {},
   "outputs": [],
   "source": [
    "def setupColor(colorCol,sdtFile):\n",
    "    file = ET.parse(sdtFile)\n",
    "    root = file.getroot()\n",
    "    x=0\n",
    "    if(colorCol==None):#and then potentially add a binding field\n",
    "        print(\"Changing to numeric\")\n",
    "        toNumeric(sdtFile)\n",
    "        \n",
    "    else:\n",
    "        print(\"Setting up Colors\")\n",
    "        for elem in root.findall('.//Color/RGB/Function[@type=\"Text Field To Value\"]/KeyValuePairs'):\n",
    "            for element in elem.findall('KeyValuePair/Key'):\n",
    "                element.text=colorCol[x]\n",
    "                x=x+1\n",
    "\n",
    "            if(len(colorCol)>2):\n",
    "                while x<len(colorCol):\n",
    "                    for elem in root.findall('.//Color/RGB/Function[@type=\"Text Field To Value\"]'):\n",
    "                        pairs = elem.find('.//KeyValuePairs')\n",
    "                #fixes spacing so new pair will be at right column/indent area\n",
    "                        for child in pairs.findall('.//KeyValuePair'):\n",
    "                            child.tail=sevenTabs\n",
    "                        keyVal =ET.SubElement(pairs, 'KeyValuePair')\n",
    "                        keyVal.text=eightTabs\n",
    "                        keyVal.tail=sixTabs\n",
    "                        keyValP= ET.SubElement(keyVal, 'Key')\n",
    "                        keyValP.text=colorCol[x]\n",
    "                        keyValP.tail=eightTabs\n",
    "                        key = ET.SubElement(keyVal, 'Value')\n",
    "                    \n",
    "                        key.tail=sevenTabs\n",
    "                        x=x+1\n",
    "    \n",
    "                        x=0\n",
    "\n",
    "                        count=0\n",
    "                        colorList=[] \n",
    "                        while count<len(colorCol):\n",
    "                            randomCol(colorList)\n",
    "                            count=count+1\n",
    "\n",
    "\n",
    "                        for elem in root.findall('.//Color/RGB/Function[@type=\"Text Field To Value\"]/KeyValuePairs'):\n",
    "                            for element in elem.findall('KeyValuePair/Value'):\n",
    "                                element.text=colorList[x]\n",
    "                                x=x+1\n",
    "                \n",
    "                \n",
    "            file.write(sdtFile,encoding=\"utf-8\", xml_declaration=True)\n"
   ]
  },
  {
   "cell_type": "code",
   "execution_count": 17,
   "metadata": {},
   "outputs": [],
   "source": [
    "#\n",
    "def moveToNewFile(sdtFile,csv):\n",
    "    file = ET.parse(sdtFile)\n",
    "    base=os.path.basename(csv)\n",
    "    newFile =os.path.splitext(base)[0]+\".sdt\"\n",
    "    file.write(newFile,encoding=\"utf-8\", xml_declaration=True)\n",
    "    \n",
    "    return newFile"
   ]
  },
  {
   "cell_type": "code",
   "execution_count": 18,
   "metadata": {},
   "outputs": [],
   "source": [
    "def randomCol(colorList):\n",
    "    import random\n",
    "    r = random.random()*255\n",
    "    r=int(r)\n",
    "    g = random.random()*255\n",
    "    g=int(g)\n",
    "    b = random.random()*255\n",
    "    b=int(b)\n",
    "    color=str(r)+\",\"+str(g)+\",\"+str(b)\n",
    "    colorList.append(color)"
   ]
  },
  {
   "cell_type": "code",
   "execution_count": 19,
   "metadata": {},
   "outputs": [],
   "source": [
    "def resetToDefault(sdtFile):\n",
    "    file = ET.parse(sdtFile)\n",
    "    root = file.getroot()\n",
    "    print(\"resetting\")\n",
    "    element=None\n",
    "    for parent in root.findall('.//Glyph/Color/RGB'):\n",
    "        for e in parent:\n",
    "            print(e)\n",
    "            if(element==None):\n",
    "                element = parent.find('Binding')\n",
    "                print(element)\n",
    "        if(element!=None):\n",
    "            parent.remove(element)\n",
    "            element=None\n",
    "    \n",
    "    for parent in root.findall('.//InputFields'):\n",
    "        for e in parent:\n",
    "            print(e)\n",
    "            if(element==None):\n",
    "                element =  parent.find('InputField[@name=\"color\"]')\n",
    "                print(element)\n",
    "                print(\"Element found\")\n",
    "        if (element!=None):\n",
    "            parent.remove(element)\n",
    "            element=None\n",
    "    \n",
    "    count=0\n",
    "    for parent in root.findall('.//InputFields'):\n",
    "        for e in parent:\n",
    "            if(count==len(parent)-1):\n",
    "                e.tail=\"\\n\\t\"\n",
    "            count+=1\n",
    "        \n",
    "    file.write(sdtFile,encoding=\"utf-8\", xml_declaration=True)"
   ]
  },
  {
   "cell_type": "raw",
   "metadata": {},
   "source": []
  },
  {
   "cell_type": "code",
   "execution_count": 20,
   "metadata": {
    "scrolled": true
   },
   "outputs": [],
   "source": [
    "def MakeDict(sdtFile):\n",
    "    file = ET.parse(sdtFile)\n",
    "    root = file.getroot()\n",
    "    inputs={'Name':'Id'}\n",
    "    for parent in root.findall('.//Glyph'):\n",
    "        for elem in parent:\n",
    "            for e in elem:\n",
    "                for l in e:\n",
    "                    temp=e.find('Binding')\n",
    "                    if temp!=None:\n",
    "                        inputs[elem.tag+e.tag]=temp.get('fieldId')\n",
    "                        temp=None\n",
    "                        \n",
    "    return inputs"
   ]
  },
  {
   "cell_type": "code",
   "execution_count": 18,
   "metadata": {},
   "outputs": [
    {
     "name": "stdout",
     "output_type": "stream",
     "text": [
      "{'Name': 'Id', 'PositionX': '101', 'PositionY': '111', 'PositionZ': 'z', 'ColorRGB': '555'}\n"
     ]
    }
   ],
   "source": [
    "dict =MakeDict('emptySDT.sdt')\n",
    "print(dict)"
   ]
  }
 ],
 "metadata": {
  "kernelspec": {
   "display_name": "Python 3",
   "language": "python",
   "name": "python3"
  },
  "language_info": {
   "codemirror_mode": {
    "name": "ipython",
    "version": 3
   },
   "file_extension": ".py",
   "mimetype": "text/x-python",
   "name": "python",
   "nbconvert_exporter": "python",
   "pygments_lexer": "ipython3",
   "version": "3.7.3"
  }
 },
 "nbformat": 4,
 "nbformat_minor": 2
}
